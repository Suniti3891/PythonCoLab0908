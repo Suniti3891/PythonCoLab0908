{
  "nbformat": 4,
  "nbformat_minor": 0,
  "metadata": {
    "colab": {
      "provenance": [],
      "authorship_tag": "ABX9TyPRJS/88SQSWBlj0Q1awrzc",
      "include_colab_link": true
    },
    "kernelspec": {
      "name": "python3",
      "display_name": "Python 3"
    },
    "language_info": {
      "name": "python"
    }
  },
  "cells": [
    {
      "cell_type": "markdown",
      "metadata": {
        "id": "view-in-github",
        "colab_type": "text"
      },
      "source": [
        "<a href=\"https://colab.research.google.com/github/Suniti3891/PythonCoLab0908/blob/main/4_Python_String_Inbuilt_Functions.ipynb\" target=\"_parent\"><img src=\"https://colab.research.google.com/assets/colab-badge.svg\" alt=\"Open In Colab\"/></a>"
      ]
    },
    {
      "cell_type": "code",
      "execution_count": 1,
      "metadata": {
        "id": "k_bgjp8zlNHN"
      },
      "outputs": [],
      "source": [
        "str1 = 'python programming'"
      ]
    },
    {
      "cell_type": "code",
      "source": [
        "#capitalize() => capitalize first letter of work in sentence.\n",
        "print(str1.capitalize())"
      ],
      "metadata": {
        "colab": {
          "base_uri": "https://localhost:8080/"
        },
        "id": "nKzW2dy8lizs",
        "outputId": "e151fd84-3e8f-42e1-98f3-a72f617db8a1"
      },
      "execution_count": 7,
      "outputs": [
        {
          "output_type": "stream",
          "name": "stdout",
          "text": [
            "Python programming\n"
          ]
        }
      ]
    },
    {
      "cell_type": "code",
      "source": [
        "# lowercase\n",
        "str2 = 'PYTHON PROGRAMMING'\n",
        "print(str2.casefold())"
      ],
      "metadata": {
        "colab": {
          "base_uri": "https://localhost:8080/"
        },
        "id": "brL_DQYpmtAX",
        "outputId": "5f08e75e-c105-405a-f56c-5235edf9bafa"
      },
      "execution_count": 8,
      "outputs": [
        {
          "output_type": "stream",
          "name": "stdout",
          "text": [
            "python programming\n"
          ]
        }
      ]
    },
    {
      "cell_type": "code",
      "source": [
        "# center()\n",
        "print(len(str2))\n",
        "str2.center(100)"
      ],
      "metadata": {
        "colab": {
          "base_uri": "https://localhost:8080/",
          "height": 53
        },
        "id": "sXvN1WnCm4eg",
        "outputId": "c434446d-550a-48d8-e052-009e17e8abb0"
      },
      "execution_count": 15,
      "outputs": [
        {
          "output_type": "stream",
          "name": "stdout",
          "text": [
            "18\n"
          ]
        },
        {
          "output_type": "execute_result",
          "data": {
            "text/plain": [
              "'                                         PYTHON PROGRAMMING                                         '"
            ],
            "application/vnd.google.colaboratory.intrinsic+json": {
              "type": "string"
            }
          },
          "metadata": {},
          "execution_count": 15
        }
      ]
    },
    {
      "cell_type": "code",
      "source": [
        "# center() with padding\n",
        "str2.center(50, '-')\n",
        "str2.center(100, '$')"
      ],
      "metadata": {
        "colab": {
          "base_uri": "https://localhost:8080/",
          "height": 35
        },
        "id": "D2E_n3mfqqyZ",
        "outputId": "a7356b7d-e530-4a31-952b-2b575b5c619e"
      },
      "execution_count": 19,
      "outputs": [
        {
          "output_type": "execute_result",
          "data": {
            "text/plain": [
              "'$$$$$$$$$$$$$$$$$$$$$$$$$$$$$$$$$$$$$$$$$PYTHON PROGRAMMING$$$$$$$$$$$$$$$$$$$$$$$$$$$$$$$$$$$$$$$$$'"
            ],
            "application/vnd.google.colaboratory.intrinsic+json": {
              "type": "string"
            }
          },
          "metadata": {},
          "execution_count": 19
        }
      ]
    },
    {
      "cell_type": "code",
      "source": [
        "# count()\n",
        "print(str1.count('p'))\n",
        "print(str1.count('P'))"
      ],
      "metadata": {
        "colab": {
          "base_uri": "https://localhost:8080/"
        },
        "id": "SiWZzR1Zq74V",
        "outputId": "e7f5b76c-3224-4246-a2d9-f85480266cca"
      },
      "execution_count": 24,
      "outputs": [
        {
          "output_type": "stream",
          "name": "stdout",
          "text": [
            "2\n",
            "0\n"
          ]
        }
      ]
    },
    {
      "cell_type": "code",
      "source": [
        "# function within count()\n",
        "print(str2.count('P', 0,6))\n",
        "print(str2.count('M', 9, len(str2)))"
      ],
      "metadata": {
        "colab": {
          "base_uri": "https://localhost:8080/"
        },
        "id": "8xguvlqgsbck",
        "outputId": "a79fdb2d-6f08-48dc-be66-e4cb9d89dab0"
      },
      "execution_count": 27,
      "outputs": [
        {
          "output_type": "stream",
          "name": "stdout",
          "text": [
            "1\n",
            "2\n"
          ]
        }
      ]
    },
    {
      "cell_type": "code",
      "source": [
        "# encode()\n",
        "str1.encode()"
      ],
      "metadata": {
        "colab": {
          "base_uri": "https://localhost:8080/"
        },
        "id": "lEZxb6NWuJyi",
        "outputId": "37fa95c9-f51c-4c70-cc71-ea843cb76067"
      },
      "execution_count": 29,
      "outputs": [
        {
          "output_type": "execute_result",
          "data": {
            "text/plain": [
              "b'python programming'"
            ]
          },
          "metadata": {},
          "execution_count": 29
        }
      ]
    },
    {
      "cell_type": "code",
      "source": [
        "# endswith()\n",
        "str1 = 'python programming'\n",
        "str1.endswith('G')"
      ],
      "metadata": {
        "colab": {
          "base_uri": "https://localhost:8080/"
        },
        "id": "EmWLRDTEubA5",
        "outputId": "c179dbe5-5c5c-48c8-87f3-d315785e4b4c"
      },
      "execution_count": 31,
      "outputs": [
        {
          "output_type": "execute_result",
          "data": {
            "text/plain": [
              "False"
            ]
          },
          "metadata": {},
          "execution_count": 31
        }
      ]
    },
    {
      "cell_type": "code",
      "source": [
        "# expandtabs()\n",
        "str1 = 'P\\ty\\tt\\th\\to\\tn'\n",
        "print(str1.expandtabs(10))\n",
        "print(str1.expandtabs(5))"
      ],
      "metadata": {
        "colab": {
          "base_uri": "https://localhost:8080/"
        },
        "id": "bERlttBau3yG",
        "outputId": "60eebbc9-0cef-4549-b2d3-20ed16aef38d"
      },
      "execution_count": 35,
      "outputs": [
        {
          "output_type": "stream",
          "name": "stdout",
          "text": [
            "P         y         t         h         o         n\n",
            "P    y    t    h    o    n\n"
          ]
        }
      ]
    },
    {
      "cell_type": "code",
      "source": [
        "# find()\n",
        "str1 = 'python programming'\n",
        "print(str1.find('p'))\n",
        "print(str1.find('m'))\n",
        "print(str1.find('p', 7, len(str1)))"
      ],
      "metadata": {
        "colab": {
          "base_uri": "https://localhost:8080/"
        },
        "id": "jUkQ6l2rvqcO",
        "outputId": "9578d001-bd2e-4f91-9f37-1b861e1b1b5c"
      },
      "execution_count": 38,
      "outputs": [
        {
          "output_type": "stream",
          "name": "stdout",
          "text": [
            "0\n",
            "13\n",
            "7\n"
          ]
        }
      ]
    },
    {
      "cell_type": "code",
      "source": [
        "# format\n",
        "x = \"Selling price of product is {price:.2f} $\"\n",
        "print(x.format(price=10))"
      ],
      "metadata": {
        "colab": {
          "base_uri": "https://localhost:8080/"
        },
        "id": "vcz1PpTyvy87",
        "outputId": "3312741c-6a8a-40e9-c15a-ca725e9d6de2"
      },
      "execution_count": 3,
      "outputs": [
        {
          "output_type": "stream",
          "name": "stdout",
          "text": [
            "Selling price of product is 10.00 $\n"
          ]
        }
      ]
    },
    {
      "cell_type": "code",
      "source": [
        "x = \"My name is {fname:}. My age is {age:}\"\n",
        "print(x.format(fname='Suni',age=25))"
      ],
      "metadata": {
        "colab": {
          "base_uri": "https://localhost:8080/"
        },
        "id": "GbXNA4gExdsx",
        "outputId": "f3a88ea0-f736-4b58-e163-560a78cca7ea"
      },
      "execution_count": 9,
      "outputs": [
        {
          "output_type": "stream",
          "name": "stdout",
          "text": [
            "My name is Suni. My age is 25\n"
          ]
        }
      ]
    },
    {
      "cell_type": "code",
      "source": [
        "# format_map\n",
        "a = {'x':'Jack', 'y':'Jill'}\n",
        "print(\"{x} and {y} went up the hill\".format_map(a))"
      ],
      "metadata": {
        "colab": {
          "base_uri": "https://localhost:8080/"
        },
        "id": "Rq1NTPOI00LU",
        "outputId": "2d7566b5-4596-407f-acbe-6b1f01eb092a"
      },
      "execution_count": 10,
      "outputs": [
        {
          "output_type": "stream",
          "name": "stdout",
          "text": [
            "Jack and Jill went up the hill\n"
          ]
        }
      ]
    },
    {
      "cell_type": "code",
      "source": [
        "#index"
      ],
      "metadata": {
        "id": "xDsAUbjZ2SVe"
      },
      "execution_count": null,
      "outputs": []
    }
  ]
}