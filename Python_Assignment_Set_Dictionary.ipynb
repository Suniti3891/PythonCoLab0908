{
  "nbformat": 4,
  "nbformat_minor": 0,
  "metadata": {
    "colab": {
      "provenance": [],
      "collapsed_sections": []
    },
    "kernelspec": {
      "name": "python3",
      "display_name": "Python 3"
    },
    "language_info": {
      "name": "python"
    }
  },
  "cells": [
    {
      "cell_type": "markdown",
      "source": [
        "# 09/11/2022 Assignment: \n",
        "## Set : {}, collection which is unordered, unchangeable, and unindexed. No duplicate members.\n",
        "## Dictionary: {}, keys : values, collection which is ordered and changeable. No duplicate members.\n",
        "1. create list of list, tuple, set, dictionary\n",
        "2. create tuple of list, tuple, set, dictionary\n",
        "3. create set of list, tuple, set, dictionary\n",
        "4. create dictionary of list, tuple, set, dictionary\n",
        "\n"
      ],
      "metadata": {
        "id": "ibvXzR6upH1Y"
      }
    },
    {
      "cell_type": "code",
      "source": [
        "A = {1,2,3,4,5}\n",
        "B = {6,7,8,9,10}\n",
        "print(A.isdisjoint(B))"
      ],
      "metadata": {
        "colab": {
          "base_uri": "https://localhost:8080/"
        },
        "id": "R52ka0FAptya",
        "outputId": "ecd22a4b-0a0d-4e8e-f7fa-d538979eefde"
      },
      "execution_count": null,
      "outputs": [
        {
          "output_type": "stream",
          "name": "stdout",
          "text": [
            "True\n"
          ]
        }
      ]
    },
    {
      "cell_type": "code",
      "source": [
        "A = {1,2,3,4,5,6,7}\n",
        "B = {1,2,6,7,8,9,10}\n",
        "print(A.isdisjoint(B))"
      ],
      "metadata": {
        "colab": {
          "base_uri": "https://localhost:8080/"
        },
        "id": "vgra9WNVuXrT",
        "outputId": "d5a910b6-8f13-4b22-ecb4-a95cd6427e9b"
      },
      "execution_count": null,
      "outputs": [
        {
          "output_type": "stream",
          "name": "stdout",
          "text": [
            "False\n"
          ]
        }
      ]
    },
    {
      "cell_type": "code",
      "source": [
        "A = {1,2,3,4,5,6,7,'a','b','abc',True}\n",
        "B = {1,2,6,7,8,9,10,'a','c','xyz'}\n",
        "print(A.isdisjoint(B))"
      ],
      "metadata": {
        "colab": {
          "base_uri": "https://localhost:8080/"
        },
        "id": "9QFJpR0g4B_B",
        "outputId": "f5a88256-9753-49c1-8e38-e4cbada11e63"
      },
      "execution_count": null,
      "outputs": [
        {
          "output_type": "stream",
          "name": "stdout",
          "text": [
            "False\n"
          ]
        }
      ]
    },
    {
      "cell_type": "code",
      "source": [
        "A = {1,2,3,4,5,'a','b','abc',True}\n",
        "B = {6,7,8,9,10,'c','d','xyz',False}\n",
        "print(A.isdisjoint(B))"
      ],
      "metadata": {
        "colab": {
          "base_uri": "https://localhost:8080/"
        },
        "id": "PVkmLOMQ4YHo",
        "outputId": "cf570b99-45f4-4440-c160-eef0514bd95c"
      },
      "execution_count": null,
      "outputs": [
        {
          "output_type": "stream",
          "name": "stdout",
          "text": [
            "True\n"
          ]
        }
      ]
    },
    {
      "cell_type": "code",
      "source": [
        "A = {1,2,3,4,5,'a','b','abc', True, False}\n",
        "B = {1,2,3,'a','xyz',False}\n",
        "print(A.issubset(B))"
      ],
      "metadata": {
        "colab": {
          "base_uri": "https://localhost:8080/"
        },
        "id": "mVgrHb1T4rz3",
        "outputId": "492dc392-0225-44dd-cdb7-61a0ea23e31a"
      },
      "execution_count": null,
      "outputs": [
        {
          "output_type": "stream",
          "name": "stdout",
          "text": [
            "False\n"
          ]
        }
      ]
    },
    {
      "cell_type": "code",
      "source": [
        "A = {1,2,3,4,5,'a','b','abc', True, False}\n",
        "B = {1,2,3,'a'}\n",
        "print(B.issubset(A))"
      ],
      "metadata": {
        "colab": {
          "base_uri": "https://localhost:8080/"
        },
        "id": "i_8_5-qk5ExB",
        "outputId": "5dea01d3-683e-4c42-aa51-5ac969e08eb2"
      },
      "execution_count": null,
      "outputs": [
        {
          "output_type": "stream",
          "name": "stdout",
          "text": [
            "True\n"
          ]
        }
      ]
    },
    {
      "cell_type": "code",
      "source": [
        "A = {1,2,3,4,5,'a','b','abc', True, False}\n",
        "B = {1,2,3,'a', True}\n",
        "print(B.issubset(A))"
      ],
      "metadata": {
        "colab": {
          "base_uri": "https://localhost:8080/"
        },
        "id": "ImYtRKtZ5uSy",
        "outputId": "bd7c163c-3d1a-4a6c-9d45-776934b2fb30"
      },
      "execution_count": null,
      "outputs": [
        {
          "output_type": "stream",
          "name": "stdout",
          "text": [
            "True\n"
          ]
        }
      ]
    },
    {
      "cell_type": "code",
      "source": [
        "A = {1,2,3,4,5,'a','b','abc', True, False}\n",
        "print(A)\n",
        "A.pop()\n",
        "print(A)"
      ],
      "metadata": {
        "colab": {
          "base_uri": "https://localhost:8080/"
        },
        "id": "0okeHAWv55tQ",
        "outputId": "dbd726ff-9263-4f0a-bd44-134746f83755"
      },
      "execution_count": null,
      "outputs": [
        {
          "output_type": "stream",
          "name": "stdout",
          "text": [
            "{False, 1, 2, 3, 4, 5, 'b', 'abc', 'a'}\n",
            "{1, 2, 3, 4, 5, 'b', 'abc', 'a'}\n"
          ]
        }
      ]
    },
    {
      "cell_type": "code",
      "source": [
        "A = {1,2,3,4,5,'a','b','abc', True, False}\n",
        "B = {6,7,8,'c', 'xyz'}\n",
        "print(A.union(B))"
      ],
      "metadata": {
        "colab": {
          "base_uri": "https://localhost:8080/"
        },
        "id": "Mk8nQ7y46ttx",
        "outputId": "cb5344a9-9a86-48d2-eb7d-497eaaace834"
      },
      "execution_count": null,
      "outputs": [
        {
          "output_type": "stream",
          "name": "stdout",
          "text": [
            "{False, 1, 2, 3, 4, 5, 6, 7, 'b', 8, 'xyz', 'abc', 'c', 'a'}\n"
          ]
        }
      ]
    },
    {
      "cell_type": "code",
      "source": [
        "A = {1,2,3,4,5,'a','b','abc', True, False}\n",
        "A.remove('abc')\n",
        "print(A)"
      ],
      "metadata": {
        "colab": {
          "base_uri": "https://localhost:8080/"
        },
        "id": "9qtJIF3P7PQc",
        "outputId": "cc5a78eb-18cc-4eaa-d2b5-50fdecd8fd15"
      },
      "execution_count": null,
      "outputs": [
        {
          "output_type": "stream",
          "name": "stdout",
          "text": [
            "{False, 1, 2, 3, 4, 5, 'b', 'a'}\n"
          ]
        }
      ]
    },
    {
      "cell_type": "code",
      "source": [
        "A = {1,2,3,4,5}\n",
        "B = {'a','b','c','d','e'}\n",
        "A.update(B)\n",
        "print(A)"
      ],
      "metadata": {
        "colab": {
          "base_uri": "https://localhost:8080/"
        },
        "id": "_oytWJUR73N6",
        "outputId": "179b82ea-3b36-4f0f-afea-846681ac3491"
      },
      "execution_count": null,
      "outputs": [
        {
          "output_type": "stream",
          "name": "stdout",
          "text": [
            "{1, 2, 3, 4, 5, 'd', 'b', 'c', 'e', 'a'}\n"
          ]
        }
      ]
    },
    {
      "cell_type": "markdown",
      "source": [
        "# Set update()\n",
        "updates A after the items of B is added to A."
      ],
      "metadata": {
        "id": "MEn3AMaP-ABu"
      }
    },
    {
      "cell_type": "code",
      "source": [
        "dict1 = {\n",
        "    'D' : 123,\n",
        "    'M' : 456,\n",
        "    'S' : 789\n",
        "}\n",
        "print(dict1)\n",
        "print(dict1['D'])"
      ],
      "metadata": {
        "colab": {
          "base_uri": "https://localhost:8080/"
        },
        "id": "vgV2YzbEAQNS",
        "outputId": "3d7444eb-3972-489b-fa21-c740a9475a82"
      },
      "execution_count": null,
      "outputs": [
        {
          "output_type": "stream",
          "name": "stdout",
          "text": [
            "{'D': 123, 'M': 456, 'S': 789}\n",
            "123\n"
          ]
        }
      ]
    },
    {
      "cell_type": "code",
      "source": [
        "dict1 = {\n",
        "    'D' : 123,\n",
        "    'M' : 456,\n",
        "    'S' : 789\n",
        "}\n",
        "print(dict1)\n",
        "dict1.pop('D')\n",
        "print(dict1)\n"
      ],
      "metadata": {
        "colab": {
          "base_uri": "https://localhost:8080/"
        },
        "id": "aQrl4VPgBIgy",
        "outputId": "102e06a7-a3f6-4cfd-a825-f8905df8292a"
      },
      "execution_count": null,
      "outputs": [
        {
          "output_type": "stream",
          "name": "stdout",
          "text": [
            "{'D': 123, 'M': 456, 'S': 789}\n",
            "{'M': 456, 'S': 789}\n"
          ]
        }
      ]
    },
    {
      "cell_type": "code",
      "source": [
        "dict2 = {\n",
        "    'A' : 123,\n",
        "    'B' : 456,\n",
        "    'C' : 789\n",
        "}\n",
        "print(dict2)\n",
        "dict2.popitem()\n",
        "print(dict2)"
      ],
      "metadata": {
        "colab": {
          "base_uri": "https://localhost:8080/"
        },
        "id": "b0W1HJiBBqNM",
        "outputId": "9e690caf-cace-4244-e595-9efbe9cbce23"
      },
      "execution_count": null,
      "outputs": [
        {
          "output_type": "stream",
          "name": "stdout",
          "text": [
            "{'A': 123, 'B': 456, 'C': 789}\n",
            "{'A': 123, 'B': 456}\n"
          ]
        }
      ]
    },
    {
      "cell_type": "markdown",
      "source": [
        "# Dictionary popitem() Method:\n",
        "Remove the last item from the dictionary."
      ],
      "metadata": {
        "id": "ChQ7WOmQCMaN"
      }
    },
    {
      "cell_type": "markdown",
      "source": [
        "1. create list of list, tuple, set, dictionary\n",
        "2. create tuple of list, tuple, set, dictionary\n",
        "3. create set of list, tuple, set, dictionary\n",
        "4. create dictionary of list, tuple, set, dictionary"
      ],
      "metadata": {
        "id": "vCKlhVl859MO"
      }
    },
    {
      "cell_type": "code",
      "source": [
        "listOfLists = [['A','B'],[1,2],['a','b']]\n",
        "print(listOfLists)\n",
        "print(listOfLists[0])"
      ],
      "metadata": {
        "colab": {
          "base_uri": "https://localhost:8080/"
        },
        "id": "5rFX2j8s5-8g",
        "outputId": "29e16902-a4b2-4da1-9813-a2fa13d2af69"
      },
      "execution_count": null,
      "outputs": [
        {
          "output_type": "stream",
          "name": "stdout",
          "text": [
            "[['A', 'B'], [1, 2], ['a', 'b']]\n",
            "['A', 'B']\n"
          ]
        }
      ]
    },
    {
      "cell_type": "code",
      "source": [
        "listOfTuples = [(1,2),('A','B'),('a','b')]\n",
        "print(listOfTuples)\n",
        "print(listOfTuples[0])"
      ],
      "metadata": {
        "colab": {
          "base_uri": "https://localhost:8080/"
        },
        "id": "_QGAMCPr7MNs",
        "outputId": "d6da3fd3-2b8f-4077-de61-9663ee897245"
      },
      "execution_count": null,
      "outputs": [
        {
          "output_type": "stream",
          "name": "stdout",
          "text": [
            "[(1, 2), ('A', 'B'), ('a', 'b')]\n",
            "(1, 2)\n"
          ]
        }
      ]
    },
    {
      "cell_type": "code",
      "source": [
        "listOfSets = [{1,2}, {'A','B'}, {'a','b'}]\n",
        "print(listOfSets)\n",
        "print(listOfSets[0])"
      ],
      "metadata": {
        "colab": {
          "base_uri": "https://localhost:8080/"
        },
        "id": "ZXIR7agL7n2s",
        "outputId": "f562bce0-94d6-427b-c473-f13bd8c5cbbe"
      },
      "execution_count": null,
      "outputs": [
        {
          "output_type": "stream",
          "name": "stdout",
          "text": [
            "[{1, 2}, {'B', 'A'}, {'a', 'b'}]\n",
            "{1, 2}\n"
          ]
        }
      ]
    },
    {
      "cell_type": "code",
      "source": [
        "listOfDict = [{1:'A', 2:'B'}, {3 : 'C', 4 : 'D'}]\n",
        "print(listOfDict)\n",
        "print(listOfDict[0])\n",
        "print(listOfDict[0].get(1))\n",
        "print(listOfDict[0].items())"
      ],
      "metadata": {
        "colab": {
          "base_uri": "https://localhost:8080/"
        },
        "id": "zW2MwRwB8OQb",
        "outputId": "6a2bfd07-9c64-4f89-e026-0e4bd655916f"
      },
      "execution_count": null,
      "outputs": [
        {
          "output_type": "stream",
          "name": "stdout",
          "text": [
            "[{1: 'A', 2: 'B'}, {3: 'C', 4: 'D'}]\n",
            "{1: 'A', 2: 'B'}\n",
            "A\n",
            "dict_items([(1, 'A'), (2, 'B')])\n"
          ]
        }
      ]
    },
    {
      "cell_type": "code",
      "source": [
        "tupleOfList = ([1,1,2],[3,4])\n",
        "tupleOfListB = [3]\n",
        "\n",
        "print(tupleOfList)\n",
        "print(tupleOfList[0])\n",
        "print(tupleOfList[0].count(1))\n",
        "tupleOfListExtend = tupleOfList[0].extend(tupleOfListB)\n",
        "print(tupleOfListExtend)"
      ],
      "metadata": {
        "colab": {
          "base_uri": "https://localhost:8080/"
        },
        "id": "V5c8PQNb9qcb",
        "outputId": "7bb30476-983b-439b-90fd-4ab579a60a58"
      },
      "execution_count": null,
      "outputs": [
        {
          "output_type": "stream",
          "name": "stdout",
          "text": [
            "([1, 1, 2], [3, 4])\n",
            "[1, 1, 2]\n",
            "2\n",
            "None\n"
          ]
        }
      ]
    },
    {
      "cell_type": "markdown",
      "source": [
        "# Need to work on tuple List extend"
      ],
      "metadata": {
        "id": "vDFpBcunA2hG"
      }
    },
    {
      "cell_type": "code",
      "source": [
        "tupleOfTuple = ((1,1,2),(3,4))\n",
        "print(tupleOfTuple)\n",
        "\n"
      ],
      "metadata": {
        "colab": {
          "base_uri": "https://localhost:8080/"
        },
        "id": "PFJLqoul_4EW",
        "outputId": "ef3c19b0-3df7-4386-cf5e-8d0ffd5a5c02"
      },
      "execution_count": null,
      "outputs": [
        {
          "output_type": "stream",
          "name": "stdout",
          "text": [
            "((1, 1, 2), (3, 4))\n"
          ]
        }
      ]
    }
  ]
}