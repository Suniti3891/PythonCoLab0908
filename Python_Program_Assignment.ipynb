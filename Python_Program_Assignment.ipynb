{
  "nbformat": 4,
  "nbformat_minor": 0,
  "metadata": {
    "colab": {
      "provenance": [],
      "include_colab_link": true
    },
    "kernelspec": {
      "name": "python3",
      "display_name": "Python 3"
    },
    "language_info": {
      "name": "python"
    }
  },
  "cells": [
    {
      "cell_type": "markdown",
      "metadata": {
        "id": "view-in-github",
        "colab_type": "text"
      },
      "source": [
        "<a href=\"https://colab.research.google.com/github/Suniti3891/PythonCoLab0908/blob/main/Python_Program_Assignment.ipynb\" target=\"_parent\"><img src=\"https://colab.research.google.com/assets/colab-badge.svg\" alt=\"Open In Colab\"/></a>"
      ]
    },
    {
      "cell_type": "code",
      "execution_count": null,
      "metadata": {
        "colab": {
          "base_uri": "https://localhost:8080/"
        },
        "id": "roiU8nXlzPAE",
        "outputId": "e94749a7-c270-4a75-bf47-c12916419f80"
      },
      "outputs": [
        {
          "output_type": "stream",
          "name": "stdout",
          "text": [
            "Hello World!\n"
          ]
        }
      ],
      "source": [
        "#1  Python Program to Print Hello world!\n",
        "\n",
        "def strHello (str1):\n",
        "  print(str1)\n",
        "\n",
        "strHello(\"Hello World!\")\n"
      ]
    },
    {
      "cell_type": "code",
      "source": [
        "#2  Python Program to Add Two Numbers\n",
        "\n",
        "def addNums(num1, num2):\n",
        "  resultOfAAddition = (num1 + num2)\n",
        "  print(\"Addition of \", num1, 'and ', num2, ' is: ', resultOfAAddition)\n",
        "\n",
        "addNums(5, 10)"
      ],
      "metadata": {
        "colab": {
          "base_uri": "https://localhost:8080/"
        },
        "id": "WPG-SfIjzqEM",
        "outputId": "7108e91f-abd0-4c21-f548-4c2783270039"
      },
      "execution_count": null,
      "outputs": [
        {
          "output_type": "stream",
          "name": "stdout",
          "text": [
            "Addition of  5 and  10  is:  15\n"
          ]
        }
      ]
    },
    {
      "cell_type": "code",
      "source": [
        "# Python Program to Find the Square Root\n",
        "\n",
        "def sqRoot(num1):\n",
        "  resultOfSqRoot = (num1 * num1)\n",
        "  print(\"Square root of \", num1, \" is : \", resultOfSqRoot)\n",
        "\n",
        "sqRoot(5)"
      ],
      "metadata": {
        "colab": {
          "base_uri": "https://localhost:8080/"
        },
        "id": "fpqeW0N10AnC",
        "outputId": "e6002bf3-38e5-4844-98c4-125e331d1cfa"
      },
      "execution_count": null,
      "outputs": [
        {
          "output_type": "stream",
          "name": "stdout",
          "text": [
            "Square root of  5  is :  25\n"
          ]
        }
      ]
    },
    {
      "cell_type": "code",
      "source": [
        "#3 Python Program to Calculate the Area of a Triangle\n",
        "def triangleSides(side1, side2, side3):\n",
        "  areaOfTriangle = (side1 * side2 * side3)\n",
        "  print('Areas of Triangle with sides ', side1, ',', side2, 'and ', side3, ' is: ', areaOfTriangle)\n",
        "\n",
        "triangleSides(5, 6, 5)"
      ],
      "metadata": {
        "colab": {
          "base_uri": "https://localhost:8080/"
        },
        "id": "4Eizcny809Po",
        "outputId": "7c686924-cfbe-4f3e-c38f-4e50c3f198be"
      },
      "execution_count": null,
      "outputs": [
        {
          "output_type": "stream",
          "name": "stdout",
          "text": [
            "Areas of Triangle with sides  5 , 6 and  5  is:  150\n"
          ]
        }
      ]
    },
    {
      "cell_type": "code",
      "source": [
        "#4 Python Program to Solve Quadratic Equation"
      ],
      "metadata": {
        "id": "XKOmzEmD2J1t"
      },
      "execution_count": null,
      "outputs": []
    },
    {
      "cell_type": "code",
      "source": [
        "#5 Python Program to Swap Two Variables\n",
        "\n",
        "a = 1\n",
        "b = 2\n",
        "\n",
        "temp = a\n",
        "a = b\n",
        "b = temp\n",
        "\n",
        "print('The value of a after swap: ', a)\n",
        "print('The value of b after swap: ', b)"
      ],
      "metadata": {
        "id": "B_8L8wVX2n8C",
        "colab": {
          "base_uri": "https://localhost:8080/"
        },
        "outputId": "b0fa808a-6191-4c99-844e-2f006b93678c"
      },
      "execution_count": null,
      "outputs": [
        {
          "output_type": "stream",
          "name": "stdout",
          "text": [
            "The value of a after swap:  2\n",
            "The value of b after swap:  1\n"
          ]
        }
      ]
    },
    {
      "cell_type": "code",
      "source": [
        "#6 Python Program to Generate a Random Number\n",
        "import random\n",
        "num = random.random()\n",
        "print(num)\n"
      ],
      "metadata": {
        "colab": {
          "base_uri": "https://localhost:8080/"
        },
        "id": "TktoaSQM2qOo",
        "outputId": "642ce4ee-17d4-4038-fb23-3c97c29b5b1a"
      },
      "execution_count": null,
      "outputs": [
        {
          "output_type": "stream",
          "name": "stdout",
          "text": [
            "0.08501967010244726\n"
          ]
        }
      ]
    },
    {
      "cell_type": "code",
      "source": [
        "#7 Python Program to Convert Kilometers to Miles\n",
        "\n",
        "numinKilometers = float(input(\"Enter your number to convert kilometers to miles: \"))\n",
        "\n",
        "convertMiles = (numinKilometers * 0.6213711922)\n",
        "print(numinKilometers, ' km is equal to: ', convertMiles, 'miles')\n"
      ],
      "metadata": {
        "colab": {
          "base_uri": "https://localhost:8080/"
        },
        "id": "c84VVA8x3cL8",
        "outputId": "4f089603-0dfa-4224-80d4-acc688fb01c3"
      },
      "execution_count": null,
      "outputs": [
        {
          "output_type": "stream",
          "name": "stdout",
          "text": [
            "Enter your number to convert kilometers to miles: 1\n",
            "1  km is equal to:  0.6213711922\n"
          ]
        }
      ]
    },
    {
      "cell_type": "code",
      "source": [
        "#8 Python Program to Convert Celsius To Fahrenheit\n",
        "\n",
        "numinCel = float(input(\"Enter your number to convert Celsius to Fahrenheit: \"))\n",
        "\n",
        "convertFah = (numinCel * 1.8 + 32 )\n",
        "print(numinCel, ' C is equal to: ', convertFah, 'F')"
      ],
      "metadata": {
        "colab": {
          "base_uri": "https://localhost:8080/"
        },
        "id": "IPdHTU8B4-08",
        "outputId": "9259b425-bf74-4ef4-dc6d-b8507711b445"
      },
      "execution_count": null,
      "outputs": [
        {
          "output_type": "stream",
          "name": "stdout",
          "text": [
            "Enter your number to convert Celsius to Fahrenheit: 21\n",
            "21.0  C is equal to:  69.80000000000001 F\n"
          ]
        }
      ]
    },
    {
      "cell_type": "code",
      "source": [
        "#9 Python Program to Check if a Number is Positive, Negative or 0\n",
        "\n",
        "number = int(input(\"Enter your number to check if a number is positive, negative or 0: \"))\n",
        "\n",
        "if(number < 0):\n",
        "  print(number, \" is negative number.\")\n",
        "elif(number > 0):\n",
        "  print(number, \" is positive number.\")\n",
        "else:\n",
        "  print(\"Number is 0.\")\n"
      ],
      "metadata": {
        "colab": {
          "base_uri": "https://localhost:8080/"
        },
        "id": "72u5u5Su6AeI",
        "outputId": "77a7f3e7-3234-4fc9-8ff4-543e6fa31220"
      },
      "execution_count": null,
      "outputs": [
        {
          "output_type": "stream",
          "name": "stdout",
          "text": [
            "Enter your number to check if a number is positive, negative or 0: -1\n",
            "-1  is negative number.\n"
          ]
        }
      ]
    },
    {
      "cell_type": "code",
      "source": [
        "#10 Python Program to Check if a Number is Odd or Even\n",
        "\n",
        "number = int(input(\"Enter your number to check if a number is Odd or Even: \"))\n",
        "\n",
        "if(number % 2 == 0):\n",
        "  print(number, \" is Even number.\")\n",
        "else:\n",
        "  print(number, \" is Odd number\")"
      ],
      "metadata": {
        "colab": {
          "base_uri": "https://localhost:8080/"
        },
        "id": "5nHFO2QmDvxR",
        "outputId": "c64980db-7633-4db5-e213-c5f665899432"
      },
      "execution_count": null,
      "outputs": [
        {
          "output_type": "stream",
          "name": "stdout",
          "text": [
            "Enter your number to check if a number is Odd or Even: 3\n",
            "3  is Odd number\n"
          ]
        }
      ]
    },
    {
      "cell_type": "code",
      "source": [
        "#11 Python Program to Check Leap Year\n",
        "\n",
        "year = int(input(\"Enter your Year to check Leap Year or Not: \"))\n",
        "\n",
        "if((year % 4 == 0) and (year % 100 != 0)):\n",
        "  print(year, \" is Leap Year.\")\n",
        "elif((year % 100 == 0) and (year % 400 == 0)):\n",
        "  print(year, \"is not Leap Year.\")\n",
        "else:\n",
        "  print(year, \" is not Leap Year.\")"
      ],
      "metadata": {
        "id": "ZQMRRHGgEY0p",
        "colab": {
          "base_uri": "https://localhost:8080/"
        },
        "outputId": "db520d7b-655c-418a-ce38-cbdc841db38a"
      },
      "execution_count": null,
      "outputs": [
        {
          "output_type": "stream",
          "name": "stdout",
          "text": [
            "Enter your Year to check Leap Year or Not: 2028\n",
            "2028  is Leap Year.\n"
          ]
        }
      ]
    },
    {
      "cell_type": "code",
      "source": [
        "#12 Python Program to Find the Largest Among Three Numbers\n",
        "\n",
        "def maximum (x, y, z):\n",
        "  print(max(x, y, z))\n",
        "\n",
        "maximum(10,12,6)"
      ],
      "metadata": {
        "colab": {
          "base_uri": "https://localhost:8080/"
        },
        "id": "yaeLLu3hEfk_",
        "outputId": "aa1fd096-6adf-4b46-a03f-cb04692887c6"
      },
      "execution_count": null,
      "outputs": [
        {
          "output_type": "stream",
          "name": "stdout",
          "text": [
            "12\n"
          ]
        }
      ]
    },
    {
      "cell_type": "code",
      "source": [
        "# Python Program to Find the Largest Among Three Numbers\n",
        "x = 10\n",
        "y = 12\n",
        "z = 20\n",
        "\n",
        "largest = x\n",
        "\n",
        "if(x > y and x > z):\n",
        "  largest = x\n",
        "elif(y > x and y > z):\n",
        "  largest = y\n",
        "else:\n",
        "  largest = z\n",
        "\n",
        "print(largest)\n"
      ],
      "metadata": {
        "colab": {
          "base_uri": "https://localhost:8080/"
        },
        "id": "kpvkDrnFHnQd",
        "outputId": "43501d3a-39bb-40c9-aa2f-221807dbd106"
      },
      "execution_count": null,
      "outputs": [
        {
          "output_type": "stream",
          "name": "stdout",
          "text": [
            "20\n"
          ]
        }
      ]
    },
    {
      "cell_type": "code",
      "source": [
        "#13 Python Program to Check Prime Number\n",
        "# need to correct\n",
        "\n",
        "number = int(input(\"Enter your number to check if a number is Prime or Not: \"))\n",
        "\n",
        "if(number >= 1 and number % 2 == 0):\n",
        "  print(number, \" is Prime number.\")\n",
        "else:\n",
        "  print(number, \" is Not Prime\")"
      ],
      "metadata": {
        "colab": {
          "base_uri": "https://localhost:8080/"
        },
        "id": "aoAcCkrMIkEh",
        "outputId": "ea786922-6fd7-4d03-ba66-5588ad0ce14b"
      },
      "execution_count": null,
      "outputs": [
        {
          "output_type": "stream",
          "name": "stdout",
          "text": [
            "Enter your number to check if a number is Prime or Not: 4\n",
            "4  is Prime number.\n"
          ]
        }
      ]
    },
    {
      "cell_type": "code",
      "source": [
        "# 14 Python Program to Print all Prime Numbers in an Interval\n",
        "lowerLimitNum = int(input(\"Enter your lower limit number to print prime number: \"))\n",
        "upperLimitNum = int(input(\"Enter your upper limit number to print prime number: \"))\n",
        "\n",
        "for i in range(lowerLimitNum, upperLimitNum + 1 ):\n",
        "  if i > 1 \n",
        "  if(number >= 1 and number % 2 == 0):\n",
        "    print(i, end=' ')\n",
        "else:\n",
        "  print('', end='')"
      ],
      "metadata": {
        "colab": {
          "base_uri": "https://localhost:8080/"
        },
        "id": "MOXW_ke9SNeV",
        "outputId": "ab109e99-fd90-449a-d439-1dedb0ba832b"
      },
      "execution_count": null,
      "outputs": [
        {
          "name": "stdout",
          "output_type": "stream",
          "text": [
            "Enter your number to print prime number: 5\n"
          ]
        }
      ]
    },
    {
      "cell_type": "code",
      "source": [],
      "metadata": {
        "id": "mHaHU7a193ik"
      },
      "execution_count": null,
      "outputs": []
    },
    {
      "cell_type": "code",
      "source": [
        "# 15 Python Program to Find the Factorial of a Number\n",
        "# 5! = 5 * 4 * 3 * 2 * 1\n",
        "\n",
        "def facNum(x):\n",
        "  if x < 0:\n",
        "    return 0\n",
        "  elif (x == 0 or x == 1):\n",
        "    return 1\n",
        "  else:\n",
        "    return (x * facNum(x-1))\n",
        "\n",
        "facNum(5)\n",
        "\n"
      ],
      "metadata": {
        "colab": {
          "base_uri": "https://localhost:8080/"
        },
        "id": "ZjSTDuGH9328",
        "outputId": "48287b61-5b15-4013-8ef7-090a3c77dcaf"
      },
      "execution_count": null,
      "outputs": [
        {
          "output_type": "execute_result",
          "data": {
            "text/plain": [
              "120"
            ]
          },
          "metadata": {},
          "execution_count": 57
        }
      ]
    },
    {
      "cell_type": "code",
      "source": [
        "#16 Python Program to Display the multiplication Table\n",
        "\n",
        "number = int(input(\"Enter your number to create multiplication table : \"))\n",
        "\n",
        "for i in range(1,11):\n",
        "  print(i, ' * ', number, ' = ', i* number)\n",
        "\n"
      ],
      "metadata": {
        "colab": {
          "base_uri": "https://localhost:8080/"
        },
        "id": "3RQvTmKkB7r0",
        "outputId": "c4cf8a06-9ae6-4cdd-c1df-12b6d6b565c5"
      },
      "execution_count": null,
      "outputs": [
        {
          "output_type": "stream",
          "name": "stdout",
          "text": [
            "Enter your number to create multiplication table : 7\n",
            "1  *  7  =  7\n",
            "2  *  7  =  14\n",
            "3  *  7  =  21\n",
            "4  *  7  =  28\n",
            "5  *  7  =  35\n",
            "6  *  7  =  42\n",
            "7  *  7  =  49\n",
            "8  *  7  =  56\n",
            "9  *  7  =  63\n",
            "10  *  7  =  70\n"
          ]
        }
      ]
    },
    {
      "cell_type": "code",
      "source": [
        "#17 Python Program to Find the Sum of Natural Numbers\n",
        "\n",
        "number = int(input(\"Enter your number to create sum of natural numbers : \"))\n",
        "if(number < 0):\n",
        "  print(\"Please enter positive number\")\n",
        "else: \n",
        "  sum = 0\n",
        "  for i in range(1,number + 1):\n",
        "    sum += i\n",
        "    print(sum)"
      ],
      "metadata": {
        "colab": {
          "base_uri": "https://localhost:8080/"
        },
        "id": "eJt6rfgHNBmP",
        "outputId": "fb9d85bc-da0b-43cb-f3b8-9a7c4357bf85"
      },
      "execution_count": null,
      "outputs": [
        {
          "output_type": "stream",
          "name": "stdout",
          "text": [
            "Enter your number to create sum of natural numbers : 4\n",
            "1\n",
            "3\n",
            "6\n",
            "10\n"
          ]
        }
      ]
    },
    {
      "cell_type": "code",
      "source": [
        "#18 Python Program to Create Pyramid Patterns\n",
        "\n",
        "for i in range(10):\n",
        "  for j in range(i, 10):\n",
        "    print(' ', end=' ')\n",
        "  for k in range(0, i+1):\n",
        "    print(' * ', end=' ')\n",
        "  print()"
      ],
      "metadata": {
        "colab": {
          "base_uri": "https://localhost:8080/"
        },
        "id": "pR2lD0eePGKL",
        "outputId": "629ec01c-1a14-4429-b14d-9b8b60d0c377"
      },
      "execution_count": null,
      "outputs": [
        {
          "output_type": "stream",
          "name": "stdout",
          "text": [
            "                     *  \n",
            "                   *   *  \n",
            "                 *   *   *  \n",
            "               *   *   *   *  \n",
            "             *   *   *   *   *  \n",
            "           *   *   *   *   *   *  \n",
            "         *   *   *   *   *   *   *  \n",
            "       *   *   *   *   *   *   *   *  \n",
            "     *   *   *   *   *   *   *   *   *  \n",
            "   *   *   *   *   *   *   *   *   *   *  \n"
          ]
        }
      ]
    },
    {
      "cell_type": "code",
      "source": [
        "#19 Python Program to Merge Two Dictionaries\n",
        "\n",
        "dist1 = {\n",
        "    'brand':'Toyota',\n",
        "    'modle': 'Sienna',\n",
        "    'year': '2020'\n",
        "}\n",
        "\n",
        "dist2 = {\n",
        "    'brand':'Nissan',\n",
        "    'modle': 'Murano',\n",
        "    'year': '2022'\n",
        "}\n",
        "\n",
        " \n",
        "dist1 |= dist2\n",
        "print(dist2)"
      ],
      "metadata": {
        "colab": {
          "base_uri": "https://localhost:8080/",
          "height": 217
        },
        "id": "3ehqyMEdWqLq",
        "outputId": "e048d8c3-6326-463d-c261-c7ed978ee2b0"
      },
      "execution_count": null,
      "outputs": [
        {
          "output_type": "error",
          "ename": "TypeError",
          "evalue": "ignored",
          "traceback": [
            "\u001b[0;31m---------------------------------------------------------------------------\u001b[0m",
            "\u001b[0;31mTypeError\u001b[0m                                 Traceback (most recent call last)",
            "\u001b[0;32m<ipython-input-54-b8300dff5983>\u001b[0m in \u001b[0;36m<module>\u001b[0;34m\u001b[0m\n\u001b[1;32m     14\u001b[0m \u001b[0;34m\u001b[0m\u001b[0m\n\u001b[1;32m     15\u001b[0m \u001b[0;34m\u001b[0m\u001b[0m\n\u001b[0;32m---> 16\u001b[0;31m \u001b[0mdist1\u001b[0m \u001b[0;34m|=\u001b[0m \u001b[0mdist2\u001b[0m\u001b[0;34m\u001b[0m\u001b[0;34m\u001b[0m\u001b[0m\n\u001b[0m\u001b[1;32m     17\u001b[0m \u001b[0mprint\u001b[0m\u001b[0;34m(\u001b[0m\u001b[0mdist2\u001b[0m\u001b[0;34m)\u001b[0m\u001b[0;34m\u001b[0m\u001b[0;34m\u001b[0m\u001b[0m\n",
            "\u001b[0;31mTypeError\u001b[0m: unsupported operand type(s) for |=: 'dict' and 'dict'"
          ]
        }
      ]
    },
    {
      "cell_type": "code",
      "source": [
        "#20 Python Program to Find ASCII Value of Character\n",
        "var1 = 'a'\n",
        "print(ord(var1))\n"
      ],
      "metadata": {
        "colab": {
          "base_uri": "https://localhost:8080/"
        },
        "id": "6CjH6gnmyeXl",
        "outputId": "ba88910c-476b-4b9e-c7e5-1a8523cc717a"
      },
      "execution_count": null,
      "outputs": [
        {
          "output_type": "stream",
          "name": "stdout",
          "text": [
            "97\n"
          ]
        }
      ]
    },
    {
      "cell_type": "code",
      "source": [
        "#21 Python Program to Display Calendar\n",
        "\n",
        "import calendar\n",
        "print(calendar.calendar(2022))\n",
        "\n"
      ],
      "metadata": {
        "colab": {
          "base_uri": "https://localhost:8080/"
        },
        "id": "pcd9w6k40KUG",
        "outputId": "bc22a27f-b489-465f-b9b4-ca83b1ef307c"
      },
      "execution_count": null,
      "outputs": [
        {
          "output_type": "stream",
          "name": "stdout",
          "text": [
            "                                  2022\n",
            "\n",
            "      January                   February                   March\n",
            "Mo Tu We Th Fr Sa Su      Mo Tu We Th Fr Sa Su      Mo Tu We Th Fr Sa Su\n",
            "                1  2          1  2  3  4  5  6          1  2  3  4  5  6\n",
            " 3  4  5  6  7  8  9       7  8  9 10 11 12 13       7  8  9 10 11 12 13\n",
            "10 11 12 13 14 15 16      14 15 16 17 18 19 20      14 15 16 17 18 19 20\n",
            "17 18 19 20 21 22 23      21 22 23 24 25 26 27      21 22 23 24 25 26 27\n",
            "24 25 26 27 28 29 30      28                        28 29 30 31\n",
            "31\n",
            "\n",
            "       April                      May                       June\n",
            "Mo Tu We Th Fr Sa Su      Mo Tu We Th Fr Sa Su      Mo Tu We Th Fr Sa Su\n",
            "             1  2  3                         1             1  2  3  4  5\n",
            " 4  5  6  7  8  9 10       2  3  4  5  6  7  8       6  7  8  9 10 11 12\n",
            "11 12 13 14 15 16 17       9 10 11 12 13 14 15      13 14 15 16 17 18 19\n",
            "18 19 20 21 22 23 24      16 17 18 19 20 21 22      20 21 22 23 24 25 26\n",
            "25 26 27 28 29 30         23 24 25 26 27 28 29      27 28 29 30\n",
            "                          30 31\n",
            "\n",
            "        July                     August                  September\n",
            "Mo Tu We Th Fr Sa Su      Mo Tu We Th Fr Sa Su      Mo Tu We Th Fr Sa Su\n",
            "             1  2  3       1  2  3  4  5  6  7                1  2  3  4\n",
            " 4  5  6  7  8  9 10       8  9 10 11 12 13 14       5  6  7  8  9 10 11\n",
            "11 12 13 14 15 16 17      15 16 17 18 19 20 21      12 13 14 15 16 17 18\n",
            "18 19 20 21 22 23 24      22 23 24 25 26 27 28      19 20 21 22 23 24 25\n",
            "25 26 27 28 29 30 31      29 30 31                  26 27 28 29 30\n",
            "\n",
            "      October                   November                  December\n",
            "Mo Tu We Th Fr Sa Su      Mo Tu We Th Fr Sa Su      Mo Tu We Th Fr Sa Su\n",
            "                1  2          1  2  3  4  5  6                1  2  3  4\n",
            " 3  4  5  6  7  8  9       7  8  9 10 11 12 13       5  6  7  8  9 10 11\n",
            "10 11 12 13 14 15 16      14 15 16 17 18 19 20      12 13 14 15 16 17 18\n",
            "17 18 19 20 21 22 23      21 22 23 24 25 26 27      19 20 21 22 23 24 25\n",
            "24 25 26 27 28 29 30      28 29 30                  26 27 28 29 30 31\n",
            "31\n",
            "\n"
          ]
        }
      ]
    },
    {
      "cell_type": "code",
      "source": [
        "#23 Python Program to Find HCF or GCD\n",
        "import math\n",
        "def gcd(n1,n2):\n",
        "  return(math.gcd(n1,n2))\n",
        "\n",
        "print(gcd(12,20))"
      ],
      "metadata": {
        "colab": {
          "base_uri": "https://localhost:8080/"
        },
        "id": "M6yLzfOznPZQ",
        "outputId": "5a4a11b0-7600-48fd-e8ce-057d4796a1c2"
      },
      "execution_count": null,
      "outputs": [
        {
          "output_type": "stream",
          "name": "stdout",
          "text": [
            "4\n"
          ]
        }
      ]
    },
    {
      "cell_type": "code",
      "source": [
        "#24 Python Program to Find LCM\n",
        "import math\n",
        "def lcm(n1, n2):\n",
        "    # print(arr[i])\n",
        "  return ((n1* n2) // math.gcd(n1, n2))\n",
        "print(lcm(12,20))\n",
        "\n",
        "#print((a * b) // math.gcd(a,b))\n"
      ],
      "metadata": {
        "colab": {
          "base_uri": "https://localhost:8080/"
        },
        "id": "qVvOXVYJI4SH",
        "outputId": "58cb1b5a-1a0d-4c42-ceac-f5ff8d319bb1"
      },
      "execution_count": null,
      "outputs": [
        {
          "output_type": "stream",
          "name": "stdout",
          "text": [
            "60\n"
          ]
        }
      ]
    },
    {
      "cell_type": "code",
      "source": [
        "#25 Python Program to Convert Decimal to Binary, Octal and Hexadecimal\n",
        "\n",
        "def deciToBinary(number):\n",
        "  if (number >= 1):\n",
        "    deciToBinary(number // 2)\n",
        "  print(number % 2, end='')\n",
        "\n",
        "deciToBinary(17)\n",
        "\n",
        "\n"
      ],
      "metadata": {
        "colab": {
          "base_uri": "https://localhost:8080/"
        },
        "id": "cyMeQO2XnN5O",
        "outputId": "1f4dba54-aadb-4868-a107-ca541bdedba4"
      },
      "execution_count": null,
      "outputs": [
        {
          "output_type": "stream",
          "name": "stdout",
          "text": [
            "010001100xff\n"
          ]
        }
      ]
    },
    {
      "cell_type": "code",
      "source": [
        "def deciToOctal(number):\n",
        "  if (number > 0):\n",
        "    deciToOctal((int)(number / 8))\n",
        "    print(number % 8, end='')\n",
        "\n",
        "deciToOctal(8)\n"
      ],
      "metadata": {
        "colab": {
          "base_uri": "https://localhost:8080/"
        },
        "id": "B1IzNo_qqx5t",
        "outputId": "9090b5f7-a8f4-45d4-88c3-ea94e04ce84a"
      },
      "execution_count": null,
      "outputs": [
        {
          "output_type": "stream",
          "name": "stdout",
          "text": [
            "10"
          ]
        }
      ]
    },
    {
      "cell_type": "code",
      "source": [
        "def deciToHexa(number):\n",
        "  print(hex(number))\n",
        "\n",
        "deciToHexa(255)"
      ],
      "metadata": {
        "colab": {
          "base_uri": "https://localhost:8080/"
        },
        "id": "8ZxZvfgfrpNV",
        "outputId": "c91664ec-8291-4ba2-b6c5-13ff03fb4a38"
      },
      "execution_count": null,
      "outputs": [
        {
          "output_type": "stream",
          "name": "stdout",
          "text": [
            "0xff\n"
          ]
        }
      ]
    },
    {
      "cell_type": "code",
      "source": [
        "#50 Python Program to Access Index of a List Using for Loop\n",
        "lst1 = ['Apple', 'Banana', 'Orange']\n",
        "for indexLst1 in range(len(lst1)):\n",
        "  value = lst1[indexLst1]\n",
        "  print((indexLst1, value))"
      ],
      "metadata": {
        "colab": {
          "base_uri": "https://localhost:8080/"
        },
        "id": "Ft68txZl8Irn",
        "outputId": "1b470af2-5844-4e4d-a438-e92003612185"
      },
      "execution_count": 9,
      "outputs": [
        {
          "output_type": "stream",
          "name": "stdout",
          "text": [
            "(0, 'Apple')\n",
            "(1, 'Banana')\n",
            "(2, 'Orange')\n"
          ]
        }
      ]
    },
    {
      "cell_type": "code",
      "source": [],
      "metadata": {
        "id": "jJRuMGJL8lex"
      },
      "execution_count": null,
      "outputs": []
    }
  ]
}