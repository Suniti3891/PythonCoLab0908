{
  "nbformat": 4,
  "nbformat_minor": 0,
  "metadata": {
    "colab": {
      "provenance": [],
      "collapsed_sections": []
    },
    "kernelspec": {
      "name": "python3",
      "display_name": "Python 3"
    },
    "language_info": {
      "name": "python"
    }
  },
  "cells": [
    {
      "cell_type": "markdown",
      "source": [
        "def function_name(parameters):\n",
        "keyword Function name Parameter\n",
        "# statement  ==> body of statement\n",
        "return expression ==> function return"
      ],
      "metadata": {
        "id": "ZpvM-18lf836"
      }
    },
    {
      "cell_type": "code",
      "source": [
        "def my_name():\n",
        "  print(\"My Name Is Anthony G\")"
      ],
      "metadata": {
        "id": "mdGTKifCgclY"
      },
      "execution_count": null,
      "outputs": []
    },
    {
      "cell_type": "code",
      "source": [
        "my_name()"
      ],
      "metadata": {
        "colab": {
          "base_uri": "https://localhost:8080/"
        },
        "id": "ZIRarhdHhL32",
        "outputId": "6d8d62e8-55d6-4b26-e92d-419774e5b0dd"
      },
      "execution_count": null,
      "outputs": [
        {
          "output_type": "stream",
          "name": "stdout",
          "text": [
            "My Name Is Anthony G\n"
          ]
        }
      ]
    },
    {
      "cell_type": "code",
      "source": [
        "def my_name(fname, lname):\n",
        "  print('My name is ',fname, ' ',lname)"
      ],
      "metadata": {
        "id": "IuwbskNphY_N"
      },
      "execution_count": null,
      "outputs": []
    },
    {
      "cell_type": "code",
      "source": [
        "my_name('Anthony', 'G')"
      ],
      "metadata": {
        "colab": {
          "base_uri": "https://localhost:8080/"
        },
        "id": "zJlOVKx4hkn0",
        "outputId": "62275c13-ef93-41e5-892d-40d5b2a45e16"
      },
      "execution_count": null,
      "outputs": [
        {
          "output_type": "stream",
          "name": "stdout",
          "text": [
            "My name is  Anthony   G\n"
          ]
        }
      ]
    },
    {
      "cell_type": "code",
      "source": [
        "def sum(var1, var2):\n",
        "  print(var1 + var2)"
      ],
      "metadata": {
        "id": "MHv0DPmniLvo"
      },
      "execution_count": null,
      "outputs": []
    },
    {
      "cell_type": "code",
      "source": [
        "sum(2,5)"
      ],
      "metadata": {
        "colab": {
          "base_uri": "https://localhost:8080/"
        },
        "id": "cQj8zvZWiyN0",
        "outputId": "a1cb2d0a-e305-4811-f60c-c639fced7102"
      },
      "execution_count": null,
      "outputs": [
        {
          "output_type": "stream",
          "name": "stdout",
          "text": [
            "7\n"
          ]
        }
      ]
    },
    {
      "cell_type": "code",
      "source": [
        "sum(3.14,6.15)"
      ],
      "metadata": {
        "colab": {
          "base_uri": "https://localhost:8080/"
        },
        "id": "sMlIfu2Ci16R",
        "outputId": "4dd8844a-a006-418f-b60c-a4b56e1742b5"
      },
      "execution_count": null,
      "outputs": [
        {
          "output_type": "stream",
          "name": "stdout",
          "text": [
            "9.290000000000001\n"
          ]
        }
      ]
    },
    {
      "cell_type": "code",
      "source": [
        "sum(True, True)"
      ],
      "metadata": {
        "colab": {
          "base_uri": "https://localhost:8080/"
        },
        "id": "TD6UOpqdi7nX",
        "outputId": "8203e4fb-6445-41d0-eafe-8c4e28668dcf"
      },
      "execution_count": null,
      "outputs": [
        {
          "output_type": "stream",
          "name": "stdout",
          "text": [
            "2\n"
          ]
        }
      ]
    },
    {
      "cell_type": "code",
      "source": [
        "sum('Python', 'Programming')"
      ],
      "metadata": {
        "colab": {
          "base_uri": "https://localhost:8080/"
        },
        "id": "FBs1JD1ai_PM",
        "outputId": "b04c2821-c576-408d-cd85-dd8a1eb71f96"
      },
      "execution_count": null,
      "outputs": [
        {
          "output_type": "stream",
          "name": "stdout",
          "text": [
            "PythonProgramming\n"
          ]
        }
      ]
    },
    {
      "cell_type": "markdown",
      "source": [
        "#** Python is Dynamically Typed Language**"
      ],
      "metadata": {
        "id": "qgGwBaUMjEe0"
      }
    },
    {
      "cell_type": "code",
      "source": [
        "def student_info(fname, lname, age, gender, stream):\n",
        "  print(\"First Name:\", fname, \"\\n\", \"Last Name:\", lname, \"\\n\", \"Age:\", age, \"\\n\", \"Gender:\", gender, \"\\n\", \"Stream: \", stream)"
      ],
      "metadata": {
        "id": "9XErCwyGjau-"
      },
      "execution_count": null,
      "outputs": []
    },
    {
      "cell_type": "code",
      "source": [
        "student_info(\"Suniti\", \"Singh\", 16, \"F\", \"PCM\")"
      ],
      "metadata": {
        "colab": {
          "base_uri": "https://localhost:8080/"
        },
        "id": "YP6LLA3skhwb",
        "outputId": "e8685e4d-ad5c-4479-bf25-b87869c92574"
      },
      "execution_count": null,
      "outputs": [
        {
          "output_type": "stream",
          "name": "stdout",
          "text": [
            "First Name: Suniti \n",
            " Last Name: Singh \n",
            " Age: 16 \n",
            " Gender: F \n",
            " Stream:  PCM\n"
          ]
        }
      ]
    },
    {
      "cell_type": "code",
      "source": [
        "def simp_int(prin, time, inte):\n",
        "  print((prin*time*inte)/100)"
      ],
      "metadata": {
        "id": "ofxN1SZ9nmLm"
      },
      "execution_count": null,
      "outputs": []
    },
    {
      "cell_type": "code",
      "source": [
        "simp_int(120000,10,7.85)"
      ],
      "metadata": {
        "colab": {
          "base_uri": "https://localhost:8080/"
        },
        "id": "aNVklL02oUUi",
        "outputId": "790eb13a-7247-4dd7-aaae-4b75a058d1e6"
      },
      "execution_count": null,
      "outputs": [
        {
          "output_type": "stream",
          "name": "stdout",
          "text": [
            "94200.0\n"
          ]
        }
      ]
    },
    {
      "cell_type": "code",
      "source": [
        "#lst_name=[]\n",
        "#percentage=[]\n",
        "\n",
        "def display_result(lst_name, percentage):\n",
        "  if(percentage > 90):\n",
        "    print(lst_name, \"got \", percentage, \"A\")\n",
        "  elif(percentage > 80):\n",
        "    print(lst_name, \"got \", percentage, \"B\")\n",
        "  elif(percentage > 70):\n",
        "    print(lst_name, \"got \", percentage, \"C\")\n",
        "  else:\n",
        "    print(lst_name, \"got \", percentage, \"F\")"
      ],
      "metadata": {
        "id": "Spg2VXznoZUM"
      },
      "execution_count": null,
      "outputs": []
    },
    {
      "cell_type": "code",
      "source": [
        "display_result('Suniti', 80 )"
      ],
      "metadata": {
        "colab": {
          "base_uri": "https://localhost:8080/"
        },
        "id": "D4YAV8Z0p3m-",
        "outputId": "cd385842-9021-4e58-c07f-7c3c4e64e741"
      },
      "execution_count": null,
      "outputs": [
        {
          "output_type": "stream",
          "name": "stdout",
          "text": [
            "Suniti got  80 C\n"
          ]
        }
      ]
    },
    {
      "cell_type": "markdown",
      "source": [
        "lst_name=[] # 10 students\n",
        "percentage = [] #10"
      ],
      "metadata": {
        "id": "Q6mjmFq2oanO"
      }
    },
    {
      "cell_type": "code",
      "source": [
        "lst_name=[\"Suniti\", \"Singh\", \"Ram\", \"Sita\"]\n",
        "percentage=[90,85,75,69]\n",
        "\n",
        "def display_ressult(lst_name, percentage):\n",
        "    if(percentage > 90):\n",
        "      print(lst_name, \"got \", percentage, \"A\")\n",
        "    elif(percentage > 80):\n",
        "      print(lst_name, \"got \", percentage, \"B\")\n",
        "    elif(percentage > 70):\n",
        "      print(lst_name, \"got \", percentage, \"C\")\n",
        "    else:\n",
        "      print(lst_name, \"got \", percentage, \"F\")\n",
        "  for i in range(0,5):\n",
        "    display_restult(lst_name[i], percentage[i])"
      ],
      "metadata": {
        "id": "qMl769xJq-pt"
      },
      "execution_count": null,
      "outputs": []
    },
    {
      "cell_type": "markdown",
      "source": [
        "*args - no key arguments\n",
        "**kwargs - key arguments"
      ],
      "metadata": {
        "id": "6qVudDrVuIug"
      }
    },
    {
      "cell_type": "code",
      "source": [
        "def my_prog(*args):\n",
        "  for i in args:\n",
        "    print(i, end='')"
      ],
      "metadata": {
        "id": "RkI4WIgOujvi"
      },
      "execution_count": null,
      "outputs": []
    },
    {
      "cell_type": "code",
      "source": [
        "my_prog('My ', 'Name ', 'Is ', 'Anthony ', 'G')"
      ],
      "metadata": {
        "colab": {
          "base_uri": "https://localhost:8080/"
        },
        "id": "9db2IhGnur-C",
        "outputId": "88e84a8c-afa8-45ee-9fd3-0f17ac746d85"
      },
      "execution_count": null,
      "outputs": [
        {
          "output_type": "stream",
          "name": "stdout",
          "text": [
            "My Name Is Anthony G"
          ]
        }
      ]
    },
    {
      "cell_type": "code",
      "source": [
        "my_prog('India', \"is\", \"my\")\n"
      ],
      "metadata": {
        "colab": {
          "base_uri": "https://localhost:8080/"
        },
        "id": "DLagi4Nbv_Fh",
        "outputId": "546334c4-9b7c-466c-e4b0-1e897fced943"
      },
      "execution_count": null,
      "outputs": [
        {
          "output_type": "stream",
          "name": "stdout",
          "text": [
            "Indiaismy"
          ]
        }
      ]
    },
    {
      "cell_type": "code",
      "source": [
        "my_prog(1 , 2 , \"First \", \"Second \", \"Third \", 'Forth ', 'Fifth ', \"sixth \", 'Seventh ', \"Eight \")"
      ],
      "metadata": {
        "colab": {
          "base_uri": "https://localhost:8080/"
        },
        "id": "4H0aDtDnwH4B",
        "outputId": "45f52be0-9039-4467-af3c-890bf0967dd5"
      },
      "execution_count": null,
      "outputs": [
        {
          "output_type": "stream",
          "name": "stdout",
          "text": [
            "12First Second Third Forth Fifth sixth Seventh Eight "
          ]
        }
      ]
    },
    {
      "cell_type": "code",
      "source": [
        "my_prog('Python')"
      ],
      "metadata": {
        "colab": {
          "base_uri": "https://localhost:8080/"
        },
        "id": "bM0RjP8xwdE_",
        "outputId": "84117321-f385-4be0-b09c-0e71e255d459"
      },
      "execution_count": null,
      "outputs": [
        {
          "output_type": "stream",
          "name": "stdout",
          "text": [
            "Python"
          ]
        }
      ]
    },
    {
      "cell_type": "code",
      "source": [
        "my_prog([\"Suni\", \"Zero \"], 3+8j, {\"Fruit \", \"Snacks \"}, (1 , 2), {'a': 1, 'b': 2})"
      ],
      "metadata": {
        "colab": {
          "base_uri": "https://localhost:8080/"
        },
        "id": "Lu02igLvwhaN",
        "outputId": "baef6fcd-5c4e-434d-d885-ac714903ed76"
      },
      "execution_count": null,
      "outputs": [
        {
          "output_type": "stream",
          "name": "stdout",
          "text": [
            "['Suni', 'Zero '](3+8j){'Snacks ', 'Fruit '}(1, 2){'a': 1, 'b': 2}"
          ]
        }
      ]
    },
    {
      "cell_type": "code",
      "source": [
        "def my_prog(*args):\n",
        "  var1 = ''\n",
        "  for i in args:\n",
        "    var1 = var1 + i\n",
        "  return var1"
      ],
      "metadata": {
        "id": "ENHRJhKOzJiB"
      },
      "execution_count": null,
      "outputs": []
    },
    {
      "cell_type": "code",
      "source": [
        "my_prog(\"Suni \", \"Zero \")"
      ],
      "metadata": {
        "colab": {
          "base_uri": "https://localhost:8080/",
          "height": 35
        },
        "id": "MLFLSBOxzdDN",
        "outputId": "cd09e08f-4d67-4773-ecde-d49e7ea18615"
      },
      "execution_count": null,
      "outputs": [
        {
          "output_type": "execute_result",
          "data": {
            "text/plain": [
              "'Suni Zero '"
            ],
            "application/vnd.google.colaboratory.intrinsic+json": {
              "type": "string"
            }
          },
          "metadata": {},
          "execution_count": 55
        }
      ]
    },
    {
      "cell_type": "code",
      "source": [
        "def my_prog(*args):\n",
        "  var1 = 0\n",
        "  for i in args:\n",
        "    var1 = var1 + i\n",
        "  return var1"
      ],
      "metadata": {
        "id": "aABGtrBJ0gu5"
      },
      "execution_count": null,
      "outputs": []
    },
    {
      "cell_type": "code",
      "source": [
        "my_prog(1,2,3,4,5)"
      ],
      "metadata": {
        "colab": {
          "base_uri": "https://localhost:8080/"
        },
        "id": "3WHPxHh40lA1",
        "outputId": "6b7621d2-0e75-4877-f35d-13b6241ceb4f"
      },
      "execution_count": null,
      "outputs": [
        {
          "output_type": "execute_result",
          "data": {
            "text/plain": [
              "15"
            ]
          },
          "metadata": {},
          "execution_count": 58
        }
      ]
    }
  ]
}