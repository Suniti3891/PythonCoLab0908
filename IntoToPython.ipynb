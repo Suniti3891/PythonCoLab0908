{
  "nbformat": 4,
  "nbformat_minor": 0,
  "metadata": {
    "colab": {
      "provenance": [],
      "authorship_tag": "ABX9TyMu9ZWJ/uNMXCtXp8PnlR4u",
      "include_colab_link": true
    },
    "kernelspec": {
      "name": "python3",
      "display_name": "Python 3"
    },
    "language_info": {
      "name": "python"
    }
  },
  "cells": [
    {
      "cell_type": "markdown",
      "metadata": {
        "id": "view-in-github",
        "colab_type": "text"
      },
      "source": [
        "<a href=\"https://colab.research.google.com/github/Suniti3891/PythonCoLab0908/blob/main/IntoToPython.ipynb\" target=\"_parent\"><img src=\"https://colab.research.google.com/assets/colab-badge.svg\" alt=\"Open In Colab\"/></a>"
      ]
    },
    {
      "cell_type": "code",
      "execution_count": 1,
      "metadata": {
        "colab": {
          "base_uri": "https://localhost:8080/"
        },
        "id": "Xy3w5QrQ5Wci",
        "outputId": "7890d04d-a879-4d47-eedd-40e2f18dcd8f"
      },
      "outputs": [
        {
          "output_type": "stream",
          "name": "stdout",
          "text": [
            "Welcome to Python Session\n"
          ]
        }
      ],
      "source": [
        "print(\"Welcome to Python Session\")"
      ]
    },
    {
      "cell_type": "code",
      "source": [
        "print(\"Welcom\")"
      ],
      "metadata": {
        "colab": {
          "base_uri": "https://localhost:8080/"
        },
        "id": "WZj_Q33S6wyt",
        "outputId": "ebdf3b89-48b9-453c-e3bd-9acbcdf714be"
      },
      "execution_count": 3,
      "outputs": [
        {
          "output_type": "stream",
          "name": "stdout",
          "text": [
            "Welcom\n"
          ]
        }
      ]
    }
  ]
}