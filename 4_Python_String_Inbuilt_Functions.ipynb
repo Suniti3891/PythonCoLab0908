{
  "nbformat": 4,
  "nbformat_minor": 0,
  "metadata": {
    "colab": {
      "provenance": [],
      "authorship_tag": "ABX9TyO7ZNrWz1FUHMtvZa2IP7uC",
      "include_colab_link": true
    },
    "kernelspec": {
      "name": "python3",
      "display_name": "Python 3"
    },
    "language_info": {
      "name": "python"
    }
  },
  "cells": [
    {
      "cell_type": "markdown",
      "metadata": {
        "id": "view-in-github",
        "colab_type": "text"
      },
      "source": [
        "<a href=\"https://colab.research.google.com/github/Suniti3891/PythonCoLab0908/blob/main/4_Python_String_Inbuilt_Functions.ipynb\" target=\"_parent\"><img src=\"https://colab.research.google.com/assets/colab-badge.svg\" alt=\"Open In Colab\"/></a>"
      ]
    },
    {
      "cell_type": "code",
      "execution_count": null,
      "metadata": {
        "id": "k_bgjp8zlNHN"
      },
      "outputs": [],
      "source": [
        "str1 = 'python programming'"
      ]
    },
    {
      "cell_type": "code",
      "source": [
        "#capitalize() => capitalize first letter of work in sentence.\n",
        "print(str1.capitalize())"
      ],
      "metadata": {
        "colab": {
          "base_uri": "https://localhost:8080/"
        },
        "id": "nKzW2dy8lizs",
        "outputId": "e151fd84-3e8f-42e1-98f3-a72f617db8a1"
      },
      "execution_count": null,
      "outputs": [
        {
          "output_type": "stream",
          "name": "stdout",
          "text": [
            "Python programming\n"
          ]
        }
      ]
    },
    {
      "cell_type": "code",
      "source": [
        "# lowercase\n",
        "str2 = 'PYTHON PROGRAMMING'\n",
        "print(str2.casefold())"
      ],
      "metadata": {
        "colab": {
          "base_uri": "https://localhost:8080/"
        },
        "id": "brL_DQYpmtAX",
        "outputId": "5f08e75e-c105-405a-f56c-5235edf9bafa"
      },
      "execution_count": null,
      "outputs": [
        {
          "output_type": "stream",
          "name": "stdout",
          "text": [
            "python programming\n"
          ]
        }
      ]
    },
    {
      "cell_type": "code",
      "source": [
        "# center()\n",
        "print(len(str2))\n",
        "str2.center(100)"
      ],
      "metadata": {
        "colab": {
          "base_uri": "https://localhost:8080/",
          "height": 53
        },
        "id": "sXvN1WnCm4eg",
        "outputId": "c434446d-550a-48d8-e052-009e17e8abb0"
      },
      "execution_count": null,
      "outputs": [
        {
          "output_type": "stream",
          "name": "stdout",
          "text": [
            "18\n"
          ]
        },
        {
          "output_type": "execute_result",
          "data": {
            "text/plain": [
              "'                                         PYTHON PROGRAMMING                                         '"
            ],
            "application/vnd.google.colaboratory.intrinsic+json": {
              "type": "string"
            }
          },
          "metadata": {},
          "execution_count": 15
        }
      ]
    },
    {
      "cell_type": "code",
      "source": [
        "# center() with padding\n",
        "str2.center(50, '-')\n",
        "str2.center(100, '$')"
      ],
      "metadata": {
        "colab": {
          "base_uri": "https://localhost:8080/",
          "height": 35
        },
        "id": "D2E_n3mfqqyZ",
        "outputId": "a7356b7d-e530-4a31-952b-2b575b5c619e"
      },
      "execution_count": null,
      "outputs": [
        {
          "output_type": "execute_result",
          "data": {
            "text/plain": [
              "'$$$$$$$$$$$$$$$$$$$$$$$$$$$$$$$$$$$$$$$$$PYTHON PROGRAMMING$$$$$$$$$$$$$$$$$$$$$$$$$$$$$$$$$$$$$$$$$'"
            ],
            "application/vnd.google.colaboratory.intrinsic+json": {
              "type": "string"
            }
          },
          "metadata": {},
          "execution_count": 19
        }
      ]
    },
    {
      "cell_type": "code",
      "source": [
        "# count()\n",
        "print(str1.count('p'))\n",
        "print(str1.count('P'))"
      ],
      "metadata": {
        "colab": {
          "base_uri": "https://localhost:8080/"
        },
        "id": "SiWZzR1Zq74V",
        "outputId": "e7f5b76c-3224-4246-a2d9-f85480266cca"
      },
      "execution_count": null,
      "outputs": [
        {
          "output_type": "stream",
          "name": "stdout",
          "text": [
            "2\n",
            "0\n"
          ]
        }
      ]
    },
    {
      "cell_type": "code",
      "source": [
        "# function within count()\n",
        "print(str2.count('P', 0,6))\n",
        "print(str2.count('M', 9, len(str2)))"
      ],
      "metadata": {
        "colab": {
          "base_uri": "https://localhost:8080/"
        },
        "id": "8xguvlqgsbck",
        "outputId": "a79fdb2d-6f08-48dc-be66-e4cb9d89dab0"
      },
      "execution_count": null,
      "outputs": [
        {
          "output_type": "stream",
          "name": "stdout",
          "text": [
            "1\n",
            "2\n"
          ]
        }
      ]
    },
    {
      "cell_type": "code",
      "source": [
        "# encode()\n",
        "str1.encode()"
      ],
      "metadata": {
        "colab": {
          "base_uri": "https://localhost:8080/"
        },
        "id": "lEZxb6NWuJyi",
        "outputId": "37fa95c9-f51c-4c70-cc71-ea843cb76067"
      },
      "execution_count": null,
      "outputs": [
        {
          "output_type": "execute_result",
          "data": {
            "text/plain": [
              "b'python programming'"
            ]
          },
          "metadata": {},
          "execution_count": 29
        }
      ]
    },
    {
      "cell_type": "code",
      "source": [
        "# endswith()\n",
        "str1 = 'python programming'\n",
        "str1.endswith('G')"
      ],
      "metadata": {
        "colab": {
          "base_uri": "https://localhost:8080/"
        },
        "id": "EmWLRDTEubA5",
        "outputId": "c179dbe5-5c5c-48c8-87f3-d315785e4b4c"
      },
      "execution_count": null,
      "outputs": [
        {
          "output_type": "execute_result",
          "data": {
            "text/plain": [
              "False"
            ]
          },
          "metadata": {},
          "execution_count": 31
        }
      ]
    },
    {
      "cell_type": "code",
      "source": [
        "# expandtabs()\n",
        "str1 = 'P\\ty\\tt\\th\\to\\tn'\n",
        "print(str1.expandtabs(10))\n",
        "print(str1.expandtabs(5))"
      ],
      "metadata": {
        "colab": {
          "base_uri": "https://localhost:8080/"
        },
        "id": "bERlttBau3yG",
        "outputId": "60eebbc9-0cef-4549-b2d3-20ed16aef38d"
      },
      "execution_count": null,
      "outputs": [
        {
          "output_type": "stream",
          "name": "stdout",
          "text": [
            "P         y         t         h         o         n\n",
            "P    y    t    h    o    n\n"
          ]
        }
      ]
    },
    {
      "cell_type": "code",
      "source": [
        "# find()\n",
        "str1 = 'python programming'\n",
        "print(str1.find('p'))\n",
        "print(str1.find('m'))\n",
        "print(str1.find('p', 7, len(str1)))"
      ],
      "metadata": {
        "colab": {
          "base_uri": "https://localhost:8080/"
        },
        "id": "jUkQ6l2rvqcO",
        "outputId": "9578d001-bd2e-4f91-9f37-1b861e1b1b5c"
      },
      "execution_count": null,
      "outputs": [
        {
          "output_type": "stream",
          "name": "stdout",
          "text": [
            "0\n",
            "13\n",
            "7\n"
          ]
        }
      ]
    },
    {
      "cell_type": "code",
      "source": [
        "# format\n",
        "x = \"Selling price of product is {price:.2f} $\"\n",
        "print(x.format(price=10))"
      ],
      "metadata": {
        "colab": {
          "base_uri": "https://localhost:8080/"
        },
        "id": "vcz1PpTyvy87",
        "outputId": "3312741c-6a8a-40e9-c15a-ca725e9d6de2"
      },
      "execution_count": null,
      "outputs": [
        {
          "output_type": "stream",
          "name": "stdout",
          "text": [
            "Selling price of product is 10.00 $\n"
          ]
        }
      ]
    },
    {
      "cell_type": "code",
      "source": [
        "x = \"My name is {fname:}. My age is {age:}\"\n",
        "print(x.format(fname='Suni',age=25))"
      ],
      "metadata": {
        "colab": {
          "base_uri": "https://localhost:8080/"
        },
        "id": "GbXNA4gExdsx",
        "outputId": "f3a88ea0-f736-4b58-e163-560a78cca7ea"
      },
      "execution_count": null,
      "outputs": [
        {
          "output_type": "stream",
          "name": "stdout",
          "text": [
            "My name is Suni. My age is 25\n"
          ]
        }
      ]
    },
    {
      "cell_type": "code",
      "source": [
        "# format_map\n",
        "a = {'x':'Jack', 'y':'Jill'}\n",
        "print(\"{x} and {y} went up the hill\".format_map(a))"
      ],
      "metadata": {
        "colab": {
          "base_uri": "https://localhost:8080/"
        },
        "id": "Rq1NTPOI00LU",
        "outputId": "2d7566b5-4596-407f-acbe-6b1f01eb092a"
      },
      "execution_count": null,
      "outputs": [
        {
          "output_type": "stream",
          "name": "stdout",
          "text": [
            "Jack and Jill went up the hill\n"
          ]
        }
      ]
    },
    {
      "cell_type": "code",
      "source": [
        "#index"
      ],
      "metadata": {
        "id": "xDsAUbjZ2SVe"
      },
      "execution_count": null,
      "outputs": []
    },
    {
      "cell_type": "code",
      "source": [
        "str1 = 'Python Programming'\n",
        "print(str1)"
      ],
      "metadata": {
        "colab": {
          "base_uri": "https://localhost:8080/"
        },
        "id": "pazdImTcrRtj",
        "outputId": "729a78ce-f462-49f8-a487-28aeb6ded851"
      },
      "execution_count": 1,
      "outputs": [
        {
          "output_type": "stream",
          "name": "stdout",
          "text": [
            "Python Programming\n"
          ]
        }
      ]
    },
    {
      "cell_type": "code",
      "source": [
        "print(type(str1))"
      ],
      "metadata": {
        "colab": {
          "base_uri": "https://localhost:8080/"
        },
        "id": "0I4tooLHvH2Y",
        "outputId": "78169609-7858-47a9-cf5c-b5076847f509"
      },
      "execution_count": 2,
      "outputs": [
        {
          "output_type": "stream",
          "name": "stdout",
          "text": [
            "<class 'str'>\n"
          ]
        }
      ]
    },
    {
      "cell_type": "code",
      "source": [
        "int1 = 1\n",
        "print(type(int1))"
      ],
      "metadata": {
        "colab": {
          "base_uri": "https://localhost:8080/"
        },
        "id": "U6-9kYYBvb5j",
        "outputId": "b4751e1c-43fe-4288-d46b-a98f156aa820"
      },
      "execution_count": 3,
      "outputs": [
        {
          "output_type": "stream",
          "name": "stdout",
          "text": [
            "<class 'int'>\n"
          ]
        }
      ]
    },
    {
      "cell_type": "code",
      "source": [
        "flt1 = 1.5\n",
        "print(type(flt1))"
      ],
      "metadata": {
        "colab": {
          "base_uri": "https://localhost:8080/"
        },
        "id": "CmhYZ4-cvh79",
        "outputId": "ecdc1cf9-daa1-4d27-d4a8-353246e34691"
      },
      "execution_count": 5,
      "outputs": [
        {
          "output_type": "stream",
          "name": "stdout",
          "text": [
            "<class 'float'>\n"
          ]
        }
      ]
    },
    {
      "cell_type": "code",
      "source": [
        "cmpx1 = 1 + 5j\n",
        "print(type(cmpx1))"
      ],
      "metadata": {
        "colab": {
          "base_uri": "https://localhost:8080/"
        },
        "id": "oIKgWb9BvqU0",
        "outputId": "849e2296-d974-46eb-980f-282631ef26b8"
      },
      "execution_count": 6,
      "outputs": [
        {
          "output_type": "stream",
          "name": "stdout",
          "text": [
            "<class 'complex'>\n"
          ]
        }
      ]
    },
    {
      "cell_type": "code",
      "source": [
        "lst1 = [1, 2, 3]\n",
        "print(type(lst1))"
      ],
      "metadata": {
        "colab": {
          "base_uri": "https://localhost:8080/"
        },
        "id": "80IBdmHwvzwl",
        "outputId": "96aaaaa6-ddab-40e8-bd7b-758bd9bcc255"
      },
      "execution_count": 8,
      "outputs": [
        {
          "output_type": "stream",
          "name": "stdout",
          "text": [
            "<class 'list'>\n"
          ]
        }
      ]
    },
    {
      "cell_type": "code",
      "source": [
        "set1 = {1,2,3}\n",
        "print(type(set1))\n"
      ],
      "metadata": {
        "colab": {
          "base_uri": "https://localhost:8080/"
        },
        "id": "Mxd5L77sv8h8",
        "outputId": "7fbe25a7-a434-48e7-b5d7-ed8688c7ef98"
      },
      "execution_count": 9,
      "outputs": [
        {
          "output_type": "stream",
          "name": "stdout",
          "text": [
            "<class 'set'>\n"
          ]
        }
      ]
    },
    {
      "cell_type": "code",
      "source": [
        "tup1 = (1,2,3)\n",
        "print(type(tup1))\n"
      ],
      "metadata": {
        "colab": {
          "base_uri": "https://localhost:8080/"
        },
        "id": "6XhnB-eAwJIx",
        "outputId": "6844c97d-2386-4d8d-831c-61291e557761"
      },
      "execution_count": 10,
      "outputs": [
        {
          "output_type": "stream",
          "name": "stdout",
          "text": [
            "<class 'tuple'>\n"
          ]
        }
      ]
    },
    {
      "cell_type": "code",
      "source": [
        "dict1 = {1: 'One', 2: 'Two'}\n",
        "print(type(dict1))"
      ],
      "metadata": {
        "colab": {
          "base_uri": "https://localhost:8080/"
        },
        "id": "nbyJVk0vwwgi",
        "outputId": "73ff6210-7db2-4f95-e2cf-49af483def65"
      },
      "execution_count": 11,
      "outputs": [
        {
          "output_type": "stream",
          "name": "stdout",
          "text": [
            "<class 'dict'>\n"
          ]
        }
      ]
    },
    {
      "cell_type": "markdown",
      "source": [
        "*   Binary => base of 2 => 0, 1\n",
        "*   Decimal => 0,1, 2, 3, 4, 5, 6, 7, 8, 9\n",
        "*   Octa => base of 8 => 0, 1, 2, 3, 4, 5, 6, 7\n",
        "*   Hexa => base of 16 => 0,1, 2, 3, 4, 5, 6, 7, 8, 9, 11, 12, 13, 14, 15,16\n",
        "# Hexa\n",
        "0,1, 2, 3, 4, 5, 6, 7, 8, 9\n",
        "a,b,c,d,e,f\n",
        "10, 11, 12, 13, 14, 15, 16, 17, 18, 19\n",
        "1a, 1b, 1c, 1e, 1f\n",
        "20, 21, 22, 23, 24, 25, 26, 29\n",
        "2a, 2b, 2c, 2e, 2f\n",
        "\n",
        "\n",
        "\n",
        ",\n",
        "\n"
      ],
      "metadata": {
        "id": "hNgY6-EzxWB1"
      }
    },
    {
      "cell_type": "code",
      "source": [
        "for i in range(0, 50):\n",
        "  print(\"decimal \", i)\n",
        "  print(\"binary \", bin(i))\n",
        "  print(\"octa \", oct(i))\n",
        "  print(\"hexa \", hex(i))\n",
        "  print(\"********************\")"
      ],
      "metadata": {
        "colab": {
          "base_uri": "https://localhost:8080/"
        },
        "id": "_j83AvTlxTAN",
        "outputId": "513335ac-d1e1-48be-eaf2-c304aa7c4468"
      },
      "execution_count": 12,
      "outputs": [
        {
          "output_type": "stream",
          "name": "stdout",
          "text": [
            "decimal  0\n",
            "binary  0b0\n",
            "octa  0o0\n",
            "hexa  0x0\n",
            "********************\n",
            "decimal  1\n",
            "binary  0b1\n",
            "octa  0o1\n",
            "hexa  0x1\n",
            "********************\n",
            "decimal  2\n",
            "binary  0b10\n",
            "octa  0o2\n",
            "hexa  0x2\n",
            "********************\n",
            "decimal  3\n",
            "binary  0b11\n",
            "octa  0o3\n",
            "hexa  0x3\n",
            "********************\n",
            "decimal  4\n",
            "binary  0b100\n",
            "octa  0o4\n",
            "hexa  0x4\n",
            "********************\n",
            "decimal  5\n",
            "binary  0b101\n",
            "octa  0o5\n",
            "hexa  0x5\n",
            "********************\n",
            "decimal  6\n",
            "binary  0b110\n",
            "octa  0o6\n",
            "hexa  0x6\n",
            "********************\n",
            "decimal  7\n",
            "binary  0b111\n",
            "octa  0o7\n",
            "hexa  0x7\n",
            "********************\n",
            "decimal  8\n",
            "binary  0b1000\n",
            "octa  0o10\n",
            "hexa  0x8\n",
            "********************\n",
            "decimal  9\n",
            "binary  0b1001\n",
            "octa  0o11\n",
            "hexa  0x9\n",
            "********************\n",
            "decimal  10\n",
            "binary  0b1010\n",
            "octa  0o12\n",
            "hexa  0xa\n",
            "********************\n",
            "decimal  11\n",
            "binary  0b1011\n",
            "octa  0o13\n",
            "hexa  0xb\n",
            "********************\n",
            "decimal  12\n",
            "binary  0b1100\n",
            "octa  0o14\n",
            "hexa  0xc\n",
            "********************\n",
            "decimal  13\n",
            "binary  0b1101\n",
            "octa  0o15\n",
            "hexa  0xd\n",
            "********************\n",
            "decimal  14\n",
            "binary  0b1110\n",
            "octa  0o16\n",
            "hexa  0xe\n",
            "********************\n",
            "decimal  15\n",
            "binary  0b1111\n",
            "octa  0o17\n",
            "hexa  0xf\n",
            "********************\n",
            "decimal  16\n",
            "binary  0b10000\n",
            "octa  0o20\n",
            "hexa  0x10\n",
            "********************\n",
            "decimal  17\n",
            "binary  0b10001\n",
            "octa  0o21\n",
            "hexa  0x11\n",
            "********************\n",
            "decimal  18\n",
            "binary  0b10010\n",
            "octa  0o22\n",
            "hexa  0x12\n",
            "********************\n",
            "decimal  19\n",
            "binary  0b10011\n",
            "octa  0o23\n",
            "hexa  0x13\n",
            "********************\n",
            "decimal  20\n",
            "binary  0b10100\n",
            "octa  0o24\n",
            "hexa  0x14\n",
            "********************\n",
            "decimal  21\n",
            "binary  0b10101\n",
            "octa  0o25\n",
            "hexa  0x15\n",
            "********************\n",
            "decimal  22\n",
            "binary  0b10110\n",
            "octa  0o26\n",
            "hexa  0x16\n",
            "********************\n",
            "decimal  23\n",
            "binary  0b10111\n",
            "octa  0o27\n",
            "hexa  0x17\n",
            "********************\n",
            "decimal  24\n",
            "binary  0b11000\n",
            "octa  0o30\n",
            "hexa  0x18\n",
            "********************\n",
            "decimal  25\n",
            "binary  0b11001\n",
            "octa  0o31\n",
            "hexa  0x19\n",
            "********************\n",
            "decimal  26\n",
            "binary  0b11010\n",
            "octa  0o32\n",
            "hexa  0x1a\n",
            "********************\n",
            "decimal  27\n",
            "binary  0b11011\n",
            "octa  0o33\n",
            "hexa  0x1b\n",
            "********************\n",
            "decimal  28\n",
            "binary  0b11100\n",
            "octa  0o34\n",
            "hexa  0x1c\n",
            "********************\n",
            "decimal  29\n",
            "binary  0b11101\n",
            "octa  0o35\n",
            "hexa  0x1d\n",
            "********************\n",
            "decimal  30\n",
            "binary  0b11110\n",
            "octa  0o36\n",
            "hexa  0x1e\n",
            "********************\n",
            "decimal  31\n",
            "binary  0b11111\n",
            "octa  0o37\n",
            "hexa  0x1f\n",
            "********************\n",
            "decimal  32\n",
            "binary  0b100000\n",
            "octa  0o40\n",
            "hexa  0x20\n",
            "********************\n",
            "decimal  33\n",
            "binary  0b100001\n",
            "octa  0o41\n",
            "hexa  0x21\n",
            "********************\n",
            "decimal  34\n",
            "binary  0b100010\n",
            "octa  0o42\n",
            "hexa  0x22\n",
            "********************\n",
            "decimal  35\n",
            "binary  0b100011\n",
            "octa  0o43\n",
            "hexa  0x23\n",
            "********************\n",
            "decimal  36\n",
            "binary  0b100100\n",
            "octa  0o44\n",
            "hexa  0x24\n",
            "********************\n",
            "decimal  37\n",
            "binary  0b100101\n",
            "octa  0o45\n",
            "hexa  0x25\n",
            "********************\n",
            "decimal  38\n",
            "binary  0b100110\n",
            "octa  0o46\n",
            "hexa  0x26\n",
            "********************\n",
            "decimal  39\n",
            "binary  0b100111\n",
            "octa  0o47\n",
            "hexa  0x27\n",
            "********************\n",
            "decimal  40\n",
            "binary  0b101000\n",
            "octa  0o50\n",
            "hexa  0x28\n",
            "********************\n",
            "decimal  41\n",
            "binary  0b101001\n",
            "octa  0o51\n",
            "hexa  0x29\n",
            "********************\n",
            "decimal  42\n",
            "binary  0b101010\n",
            "octa  0o52\n",
            "hexa  0x2a\n",
            "********************\n",
            "decimal  43\n",
            "binary  0b101011\n",
            "octa  0o53\n",
            "hexa  0x2b\n",
            "********************\n",
            "decimal  44\n",
            "binary  0b101100\n",
            "octa  0o54\n",
            "hexa  0x2c\n",
            "********************\n",
            "decimal  45\n",
            "binary  0b101101\n",
            "octa  0o55\n",
            "hexa  0x2d\n",
            "********************\n",
            "decimal  46\n",
            "binary  0b101110\n",
            "octa  0o56\n",
            "hexa  0x2e\n",
            "********************\n",
            "decimal  47\n",
            "binary  0b101111\n",
            "octa  0o57\n",
            "hexa  0x2f\n",
            "********************\n",
            "decimal  48\n",
            "binary  0b110000\n",
            "octa  0o60\n",
            "hexa  0x30\n",
            "********************\n",
            "decimal  49\n",
            "binary  0b110001\n",
            "octa  0o61\n",
            "hexa  0x31\n",
            "********************\n"
          ]
        }
      ]
    },
    {
      "cell_type": "code",
      "source": [
        "print(range(0,10)) # 0,1,2,3,4,5,6,7,8,9\n",
        "for i in range(0, 10):\n",
        "  print(i)"
      ],
      "metadata": {
        "colab": {
          "base_uri": "https://localhost:8080/"
        },
        "id": "mtjpWrFC3ssW",
        "outputId": "f6f2478b-09db-434d-d304-009b12756be8"
      },
      "execution_count": 14,
      "outputs": [
        {
          "output_type": "stream",
          "name": "stdout",
          "text": [
            "range(0, 10)\n",
            "0\n",
            "1\n",
            "2\n",
            "3\n",
            "4\n",
            "5\n",
            "6\n",
            "7\n",
            "8\n",
            "9\n"
          ]
        }
      ]
    },
    {
      "cell_type": "code",
      "source": [
        "for i in range(0,20,2):\n",
        "  print(i)"
      ],
      "metadata": {
        "colab": {
          "base_uri": "https://localhost:8080/"
        },
        "id": "tcAoMY734FTw",
        "outputId": "d2b4dd38-cb1b-46f7-fce5-b3bc4f895159"
      },
      "execution_count": 15,
      "outputs": [
        {
          "output_type": "stream",
          "name": "stdout",
          "text": [
            "0\n",
            "2\n",
            "4\n",
            "6\n",
            "8\n",
            "10\n",
            "12\n",
            "14\n",
            "16\n",
            "18\n"
          ]
        }
      ]
    },
    {
      "cell_type": "code",
      "source": [
        "# print from 12 to 121 and jump value 12\n",
        "for i in range(12,121,12):\n",
        "  print(i)"
      ],
      "metadata": {
        "colab": {
          "base_uri": "https://localhost:8080/"
        },
        "id": "eUYxjf0S4MV9",
        "outputId": "25712f63-c3ad-4be0-e66b-1b5a17e4f435"
      },
      "execution_count": 18,
      "outputs": [
        {
          "output_type": "stream",
          "name": "stdout",
          "text": [
            "12\n",
            "24\n",
            "36\n",
            "48\n",
            "60\n",
            "72\n",
            "84\n",
            "96\n",
            "108\n",
            "120\n"
          ]
        }
      ]
    },
    {
      "cell_type": "code",
      "source": [
        "for i in range(-120,0,12):\n",
        "  print(i)"
      ],
      "metadata": {
        "colab": {
          "base_uri": "https://localhost:8080/"
        },
        "id": "X2gFcve64n5U",
        "outputId": "f4a5c0b5-affc-4ae4-cf2f-28c47c8c1c14"
      },
      "execution_count": 21,
      "outputs": [
        {
          "output_type": "stream",
          "name": "stdout",
          "text": [
            "-120\n",
            "-108\n",
            "-96\n",
            "-84\n",
            "-72\n",
            "-60\n",
            "-48\n",
            "-36\n",
            "-24\n",
            "-12\n"
          ]
        }
      ]
    },
    {
      "cell_type": "code",
      "source": [
        "for i in range(-12,-121,-12):\n",
        "  print(i)"
      ],
      "metadata": {
        "colab": {
          "base_uri": "https://localhost:8080/"
        },
        "id": "arAoLPIC5cAc",
        "outputId": "89b2454e-fb59-4aac-82cb-a33cc8288354"
      },
      "execution_count": 24,
      "outputs": [
        {
          "output_type": "stream",
          "name": "stdout",
          "text": [
            "-12\n",
            "-24\n",
            "-36\n",
            "-48\n",
            "-60\n",
            "-72\n",
            "-84\n",
            "-96\n",
            "-108\n",
            "-120\n"
          ]
        }
      ]
    },
    {
      "cell_type": "code",
      "source": [
        "for i in range(0,10,2):\n",
        "  print(i)"
      ],
      "metadata": {
        "colab": {
          "base_uri": "https://localhost:8080/"
        },
        "id": "_yq-wziH59v-",
        "outputId": "e3952081-5e8d-496a-8e52-d3af6a2fcad5"
      },
      "execution_count": 25,
      "outputs": [
        {
          "output_type": "stream",
          "name": "stdout",
          "text": [
            "0\n",
            "2\n",
            "4\n",
            "6\n",
            "8\n"
          ]
        }
      ]
    },
    {
      "cell_type": "code",
      "source": [
        "for i in range(10,101,10):\n",
        "  print(i)"
      ],
      "metadata": {
        "colab": {
          "base_uri": "https://localhost:8080/"
        },
        "id": "4nv1Wkew6EyP",
        "outputId": "81368cec-8bbe-4235-857a-471697c6863b"
      },
      "execution_count": 26,
      "outputs": [
        {
          "output_type": "stream",
          "name": "stdout",
          "text": [
            "10\n",
            "20\n",
            "30\n",
            "40\n",
            "50\n",
            "60\n",
            "70\n",
            "80\n",
            "90\n",
            "100\n"
          ]
        }
      ]
    },
    {
      "cell_type": "code",
      "source": [
        "for i in range(-1,-100, -2):\n",
        "  print(i)"
      ],
      "metadata": {
        "colab": {
          "base_uri": "https://localhost:8080/"
        },
        "id": "3iJ3bCHx6LNN",
        "outputId": "242b6e8e-9820-465b-fe06-59d8ec6414e6"
      },
      "execution_count": 27,
      "outputs": [
        {
          "output_type": "stream",
          "name": "stdout",
          "text": [
            "-1\n",
            "-3\n",
            "-5\n",
            "-7\n",
            "-9\n",
            "-11\n",
            "-13\n",
            "-15\n",
            "-17\n",
            "-19\n",
            "-21\n",
            "-23\n",
            "-25\n",
            "-27\n",
            "-29\n",
            "-31\n",
            "-33\n",
            "-35\n",
            "-37\n",
            "-39\n",
            "-41\n",
            "-43\n",
            "-45\n",
            "-47\n",
            "-49\n",
            "-51\n",
            "-53\n",
            "-55\n",
            "-57\n",
            "-59\n",
            "-61\n",
            "-63\n",
            "-65\n",
            "-67\n",
            "-69\n",
            "-71\n",
            "-73\n",
            "-75\n",
            "-77\n",
            "-79\n",
            "-81\n",
            "-83\n",
            "-85\n",
            "-87\n",
            "-89\n",
            "-91\n",
            "-93\n",
            "-95\n",
            "-97\n",
            "-99\n"
          ]
        }
      ]
    },
    {
      "cell_type": "code",
      "source": [
        "for i in range(0,-100,-2):\n",
        "  print(i)"
      ],
      "metadata": {
        "colab": {
          "base_uri": "https://localhost:8080/"
        },
        "id": "KfpCd9DI6YgL",
        "outputId": "c5180187-c38a-4655-9b16-6eb5fcd7dce6"
      },
      "execution_count": 28,
      "outputs": [
        {
          "output_type": "stream",
          "name": "stdout",
          "text": [
            "0\n",
            "-2\n",
            "-4\n",
            "-6\n",
            "-8\n",
            "-10\n",
            "-12\n",
            "-14\n",
            "-16\n",
            "-18\n",
            "-20\n",
            "-22\n",
            "-24\n",
            "-26\n",
            "-28\n",
            "-30\n",
            "-32\n",
            "-34\n",
            "-36\n",
            "-38\n",
            "-40\n",
            "-42\n",
            "-44\n",
            "-46\n",
            "-48\n",
            "-50\n",
            "-52\n",
            "-54\n",
            "-56\n",
            "-58\n",
            "-60\n",
            "-62\n",
            "-64\n",
            "-66\n",
            "-68\n",
            "-70\n",
            "-72\n",
            "-74\n",
            "-76\n",
            "-78\n",
            "-80\n",
            "-82\n",
            "-84\n",
            "-86\n",
            "-88\n",
            "-90\n",
            "-92\n",
            "-94\n",
            "-96\n",
            "-98\n"
          ]
        }
      ]
    },
    {
      "cell_type": "code",
      "source": [
        "for i in range(-19,-191,-19):\n",
        "  print(i)"
      ],
      "metadata": {
        "colab": {
          "base_uri": "https://localhost:8080/"
        },
        "id": "zBIbjemi6nMv",
        "outputId": "575b1797-15bb-4cc1-a19f-fda5fb3619de"
      },
      "execution_count": 29,
      "outputs": [
        {
          "output_type": "stream",
          "name": "stdout",
          "text": [
            "-19\n",
            "-38\n",
            "-57\n",
            "-76\n",
            "-95\n",
            "-114\n",
            "-133\n",
            "-152\n",
            "-171\n",
            "-190\n"
          ]
        }
      ]
    },
    {
      "cell_type": "code",
      "source": [
        "# Type casting\n",
        "int1 = 120\n",
        "print(float(int1))"
      ],
      "metadata": {
        "colab": {
          "base_uri": "https://localhost:8080/"
        },
        "id": "6TOa6y6n6nUO",
        "outputId": "9e728156-4a88-40c4-c3e6-a9ff0b2c7554"
      },
      "execution_count": 30,
      "outputs": [
        {
          "output_type": "stream",
          "name": "stdout",
          "text": [
            "120.0\n"
          ]
        }
      ]
    },
    {
      "cell_type": "code",
      "source": [
        "flt1 = 1.66\n",
        "print(int(flt1))"
      ],
      "metadata": {
        "colab": {
          "base_uri": "https://localhost:8080/"
        },
        "id": "DpE1mSb78F9C",
        "outputId": "8592ca40-76c0-445d-f8b7-564053728c22"
      },
      "execution_count": 32,
      "outputs": [
        {
          "output_type": "stream",
          "name": "stdout",
          "text": [
            "1\n"
          ]
        }
      ]
    },
    {
      "cell_type": "code",
      "source": [
        "int1 = 33\n",
        "print(complex(int1))"
      ],
      "metadata": {
        "colab": {
          "base_uri": "https://localhost:8080/"
        },
        "id": "fHwMdxRm8OBW",
        "outputId": "c9dc24c1-4afe-444c-8dad-c52d3a8d16aa"
      },
      "execution_count": 33,
      "outputs": [
        {
          "output_type": "stream",
          "name": "stdout",
          "text": [
            "(33+0j)\n"
          ]
        }
      ]
    },
    {
      "cell_type": "code",
      "source": [
        "int = 1\n",
        "print(bool(int1))"
      ],
      "metadata": {
        "colab": {
          "base_uri": "https://localhost:8080/"
        },
        "id": "o-jBBPkg8THS",
        "outputId": "b1560694-d8d9-45cf-a3d3-bd2e5ed1d44d"
      },
      "execution_count": 34,
      "outputs": [
        {
          "output_type": "stream",
          "name": "stdout",
          "text": [
            "True\n"
          ]
        }
      ]
    },
    {
      "cell_type": "code",
      "source": [
        "flt2 = 2.0\n",
        "print(bool(flt2))"
      ],
      "metadata": {
        "colab": {
          "base_uri": "https://localhost:8080/"
        },
        "id": "xpunuRlc8Z1Z",
        "outputId": "4d3dd64b-2721-462e-b675-6b095424135d"
      },
      "execution_count": 35,
      "outputs": [
        {
          "output_type": "stream",
          "name": "stdout",
          "text": [
            "True\n"
          ]
        }
      ]
    },
    {
      "cell_type": "code",
      "source": [
        "flt2 = 0.0\n",
        "print(bool(flt2))"
      ],
      "metadata": {
        "colab": {
          "base_uri": "https://localhost:8080/"
        },
        "id": "oMlHWpM18qfl",
        "outputId": "c4c35fc1-1074-4743-df9e-4eecad903113"
      },
      "execution_count": 36,
      "outputs": [
        {
          "output_type": "stream",
          "name": "stdout",
          "text": [
            "False\n"
          ]
        }
      ]
    },
    {
      "cell_type": "code",
      "source": [
        "flt2 = 3.0\n",
        "print(bool(flt2))"
      ],
      "metadata": {
        "colab": {
          "base_uri": "https://localhost:8080/"
        },
        "id": "vmVzB8Ey8tT3",
        "outputId": "d21bb619-0d6d-4019-f885-d54a09a73565"
      },
      "execution_count": 37,
      "outputs": [
        {
          "output_type": "stream",
          "name": "stdout",
          "text": [
            "True\n"
          ]
        }
      ]
    },
    {
      "cell_type": "code",
      "source": [
        "flt2 = 2.1\n",
        "print(bool(flt2))"
      ],
      "metadata": {
        "colab": {
          "base_uri": "https://localhost:8080/"
        },
        "id": "P3czddcJ8v4X",
        "outputId": "98b11282-c4f9-4731-b2b9-3d97c51adb6b"
      },
      "execution_count": 38,
      "outputs": [
        {
          "output_type": "stream",
          "name": "stdout",
          "text": [
            "True\n"
          ]
        }
      ]
    },
    {
      "cell_type": "code",
      "source": [
        "str1 = 'Python'\n",
        "print(int(str1))"
      ],
      "metadata": {
        "colab": {
          "base_uri": "https://localhost:8080/",
          "height": 183
        },
        "id": "nz7PFg6f9HTg",
        "outputId": "48242f14-af2b-4e0f-b6b2-c43e09d6c8bb"
      },
      "execution_count": 39,
      "outputs": [
        {
          "output_type": "error",
          "ename": "TypeError",
          "evalue": "ignored",
          "traceback": [
            "\u001b[0;31m---------------------------------------------------------------------------\u001b[0m",
            "\u001b[0;31mTypeError\u001b[0m                                 Traceback (most recent call last)",
            "\u001b[0;32m<ipython-input-39-c0a728d408d2>\u001b[0m in \u001b[0;36m<module>\u001b[0;34m\u001b[0m\n\u001b[1;32m      1\u001b[0m \u001b[0mstr1\u001b[0m \u001b[0;34m=\u001b[0m \u001b[0;34m'Python'\u001b[0m\u001b[0;34m\u001b[0m\u001b[0;34m\u001b[0m\u001b[0m\n\u001b[0;32m----> 2\u001b[0;31m \u001b[0mprint\u001b[0m\u001b[0;34m(\u001b[0m\u001b[0mint\u001b[0m\u001b[0;34m(\u001b[0m\u001b[0mstr1\u001b[0m\u001b[0;34m)\u001b[0m\u001b[0;34m)\u001b[0m\u001b[0;34m\u001b[0m\u001b[0;34m\u001b[0m\u001b[0m\n\u001b[0m",
            "\u001b[0;31mTypeError\u001b[0m: 'int' object is not callable"
          ]
        }
      ]
    },
    {
      "cell_type": "code",
      "source": [
        "str1 = 'Python'\n",
        "print(float(str1))"
      ],
      "metadata": {
        "colab": {
          "base_uri": "https://localhost:8080/",
          "height": 183
        },
        "id": "hFya3RKj9RF0",
        "outputId": "1016faa7-2d35-4524-8e80-0db01e6ff3fb"
      },
      "execution_count": 40,
      "outputs": [
        {
          "output_type": "error",
          "ename": "ValueError",
          "evalue": "ignored",
          "traceback": [
            "\u001b[0;31m---------------------------------------------------------------------------\u001b[0m",
            "\u001b[0;31mValueError\u001b[0m                                Traceback (most recent call last)",
            "\u001b[0;32m<ipython-input-40-d61bdc0190ff>\u001b[0m in \u001b[0;36m<module>\u001b[0;34m\u001b[0m\n\u001b[1;32m      1\u001b[0m \u001b[0mstr1\u001b[0m \u001b[0;34m=\u001b[0m \u001b[0;34m'Python'\u001b[0m\u001b[0;34m\u001b[0m\u001b[0;34m\u001b[0m\u001b[0m\n\u001b[0;32m----> 2\u001b[0;31m \u001b[0mprint\u001b[0m\u001b[0;34m(\u001b[0m\u001b[0mfloat\u001b[0m\u001b[0;34m(\u001b[0m\u001b[0mstr1\u001b[0m\u001b[0;34m)\u001b[0m\u001b[0;34m)\u001b[0m\u001b[0;34m\u001b[0m\u001b[0;34m\u001b[0m\u001b[0m\n\u001b[0m",
            "\u001b[0;31mValueError\u001b[0m: could not convert string to float: 'Python'"
          ]
        }
      ]
    },
    {
      "cell_type": "code",
      "source": [
        "str1 = 'Python'\n",
        "print(bool(str1))"
      ],
      "metadata": {
        "colab": {
          "base_uri": "https://localhost:8080/"
        },
        "id": "BwHF_Dze9V8V",
        "outputId": "9f1d96e9-7da6-43f8-c81a-1f5f2886da4e"
      },
      "execution_count": 41,
      "outputs": [
        {
          "output_type": "stream",
          "name": "stdout",
          "text": [
            "True\n"
          ]
        }
      ]
    },
    {
      "cell_type": "code",
      "source": [
        "str1 = 'Python'\n",
        "print(complex(str1))"
      ],
      "metadata": {
        "colab": {
          "base_uri": "https://localhost:8080/",
          "height": 183
        },
        "id": "L6mKD-8C9awE",
        "outputId": "43cb93d7-68f8-4460-f9a6-da6008eff1ea"
      },
      "execution_count": 42,
      "outputs": [
        {
          "output_type": "error",
          "ename": "ValueError",
          "evalue": "ignored",
          "traceback": [
            "\u001b[0;31m---------------------------------------------------------------------------\u001b[0m",
            "\u001b[0;31mValueError\u001b[0m                                Traceback (most recent call last)",
            "\u001b[0;32m<ipython-input-42-6dc4d511c3ed>\u001b[0m in \u001b[0;36m<module>\u001b[0;34m\u001b[0m\n\u001b[1;32m      1\u001b[0m \u001b[0mstr1\u001b[0m \u001b[0;34m=\u001b[0m \u001b[0;34m'Python'\u001b[0m\u001b[0;34m\u001b[0m\u001b[0;34m\u001b[0m\u001b[0m\n\u001b[0;32m----> 2\u001b[0;31m \u001b[0mprint\u001b[0m\u001b[0;34m(\u001b[0m\u001b[0mcomplex\u001b[0m\u001b[0;34m(\u001b[0m\u001b[0mstr1\u001b[0m\u001b[0;34m)\u001b[0m\u001b[0;34m)\u001b[0m\u001b[0;34m\u001b[0m\u001b[0;34m\u001b[0m\u001b[0m\n\u001b[0m",
            "\u001b[0;31mValueError\u001b[0m: complex() arg is a malformed string"
          ]
        }
      ]
    },
    {
      "cell_type": "code",
      "source": [
        "str5 = '1947'\n",
        "print(int(str5))"
      ],
      "metadata": {
        "colab": {
          "base_uri": "https://localhost:8080/",
          "height": 183
        },
        "id": "OIlllxCE9iK7",
        "outputId": "26951d35-61fb-4497-b8d5-bba3eba592ae"
      },
      "execution_count": 47,
      "outputs": [
        {
          "output_type": "error",
          "ename": "TypeError",
          "evalue": "ignored",
          "traceback": [
            "\u001b[0;31m---------------------------------------------------------------------------\u001b[0m",
            "\u001b[0;31mTypeError\u001b[0m                                 Traceback (most recent call last)",
            "\u001b[0;32m<ipython-input-47-3a67549228d0>\u001b[0m in \u001b[0;36m<module>\u001b[0;34m\u001b[0m\n\u001b[1;32m      1\u001b[0m \u001b[0mstr5\u001b[0m \u001b[0;34m=\u001b[0m \u001b[0;34m'1947'\u001b[0m\u001b[0;34m\u001b[0m\u001b[0;34m\u001b[0m\u001b[0m\n\u001b[0;32m----> 2\u001b[0;31m \u001b[0mprint\u001b[0m\u001b[0;34m(\u001b[0m\u001b[0mint\u001b[0m\u001b[0;34m(\u001b[0m\u001b[0mstr5\u001b[0m\u001b[0;34m)\u001b[0m\u001b[0;34m)\u001b[0m\u001b[0;34m\u001b[0m\u001b[0;34m\u001b[0m\u001b[0m\n\u001b[0m",
            "\u001b[0;31mTypeError\u001b[0m: 'int' object is not callable"
          ]
        }
      ]
    },
    {
      "cell_type": "code",
      "source": [
        "str1 = '179'\n",
        "print(float(str1))"
      ],
      "metadata": {
        "colab": {
          "base_uri": "https://localhost:8080/"
        },
        "id": "WXvW2QBq9sjq",
        "outputId": "cfa86d3a-8416-46d5-aa2d-d9316e928850"
      },
      "execution_count": 44,
      "outputs": [
        {
          "output_type": "stream",
          "name": "stdout",
          "text": [
            "179.0\n"
          ]
        }
      ]
    },
    {
      "cell_type": "code",
      "source": [
        "str1 = '179'\n",
        "print(bool(str1))"
      ],
      "metadata": {
        "colab": {
          "base_uri": "https://localhost:8080/"
        },
        "id": "VUt2cSRX98In",
        "outputId": "0d85e8c0-a7d8-4327-fec2-a85c9021b1d0"
      },
      "execution_count": 48,
      "outputs": [
        {
          "output_type": "stream",
          "name": "stdout",
          "text": [
            "True\n"
          ]
        }
      ]
    },
    {
      "cell_type": "code",
      "source": [
        "str1 = '179'\n",
        "print(complex(str1))"
      ],
      "metadata": {
        "colab": {
          "base_uri": "https://localhost:8080/"
        },
        "id": "IIuMzZmc9_BX",
        "outputId": "ca662d8a-6ebe-4b7c-e932-2c6d39214a11"
      },
      "execution_count": 49,
      "outputs": [
        {
          "output_type": "stream",
          "name": "stdout",
          "text": [
            "(179+0j)\n"
          ]
        }
      ]
    },
    {
      "cell_type": "code",
      "source": [
        "str1 = 'python'\n",
        "print(list(str1))"
      ],
      "metadata": {
        "colab": {
          "base_uri": "https://localhost:8080/"
        },
        "id": "eG5zzQ1z-S4y",
        "outputId": "53960761-014e-4b88-ee20-f2fdf52fd508"
      },
      "execution_count": 50,
      "outputs": [
        {
          "output_type": "stream",
          "name": "stdout",
          "text": [
            "['p', 'y', 't', 'h', 'o', 'n']\n"
          ]
        }
      ]
    },
    {
      "cell_type": "code",
      "source": [
        "str1 = 'python'\n",
        "print(tuple(str1))"
      ],
      "metadata": {
        "colab": {
          "base_uri": "https://localhost:8080/"
        },
        "id": "SCUYQzhj-cMQ",
        "outputId": "c47cc163-ed7f-4f74-ac7b-c40f3167314f"
      },
      "execution_count": 51,
      "outputs": [
        {
          "output_type": "stream",
          "name": "stdout",
          "text": [
            "('p', 'y', 't', 'h', 'o', 'n')\n"
          ]
        }
      ]
    },
    {
      "cell_type": "code",
      "source": [
        "str1 = 'python'\n",
        "print(set(str1))"
      ],
      "metadata": {
        "colab": {
          "base_uri": "https://localhost:8080/"
        },
        "id": "tQswL9Tp-fed",
        "outputId": "417d97b2-92b7-4487-e041-7f9c462777dd"
      },
      "execution_count": 52,
      "outputs": [
        {
          "output_type": "stream",
          "name": "stdout",
          "text": [
            "{'n', 't', 'y', 'h', 'o', 'p'}\n"
          ]
        }
      ]
    },
    {
      "cell_type": "code",
      "source": [
        "int1 = 12345\n",
        "print(list(int1))"
      ],
      "metadata": {
        "colab": {
          "base_uri": "https://localhost:8080/",
          "height": 183
        },
        "id": "m9qLh6CJ-k_E",
        "outputId": "6b598013-7bdb-4bc1-c1c4-020983a61a32"
      },
      "execution_count": 53,
      "outputs": [
        {
          "output_type": "error",
          "ename": "TypeError",
          "evalue": "ignored",
          "traceback": [
            "\u001b[0;31m---------------------------------------------------------------------------\u001b[0m",
            "\u001b[0;31mTypeError\u001b[0m                                 Traceback (most recent call last)",
            "\u001b[0;32m<ipython-input-53-7a34987a7403>\u001b[0m in \u001b[0;36m<module>\u001b[0;34m\u001b[0m\n\u001b[1;32m      1\u001b[0m \u001b[0mint1\u001b[0m \u001b[0;34m=\u001b[0m \u001b[0;36m12345\u001b[0m\u001b[0;34m\u001b[0m\u001b[0;34m\u001b[0m\u001b[0m\n\u001b[0;32m----> 2\u001b[0;31m \u001b[0mprint\u001b[0m\u001b[0;34m(\u001b[0m\u001b[0mlist\u001b[0m\u001b[0;34m(\u001b[0m\u001b[0mint1\u001b[0m\u001b[0;34m)\u001b[0m\u001b[0;34m)\u001b[0m\u001b[0;34m\u001b[0m\u001b[0;34m\u001b[0m\u001b[0m\n\u001b[0m",
            "\u001b[0;31mTypeError\u001b[0m: 'int' object is not iterable"
          ]
        }
      ]
    },
    {
      "cell_type": "code",
      "source": [
        "int1 = 12345\n",
        "print(tuple(int1))"
      ],
      "metadata": {
        "colab": {
          "base_uri": "https://localhost:8080/",
          "height": 183
        },
        "id": "tCAktC9s-6OA",
        "outputId": "fc25074d-9064-422e-bcea-dd66c69185a3"
      },
      "execution_count": 54,
      "outputs": [
        {
          "output_type": "error",
          "ename": "TypeError",
          "evalue": "ignored",
          "traceback": [
            "\u001b[0;31m---------------------------------------------------------------------------\u001b[0m",
            "\u001b[0;31mTypeError\u001b[0m                                 Traceback (most recent call last)",
            "\u001b[0;32m<ipython-input-54-3ecaeb461b12>\u001b[0m in \u001b[0;36m<module>\u001b[0;34m\u001b[0m\n\u001b[1;32m      1\u001b[0m \u001b[0mint1\u001b[0m \u001b[0;34m=\u001b[0m \u001b[0;36m12345\u001b[0m\u001b[0;34m\u001b[0m\u001b[0;34m\u001b[0m\u001b[0m\n\u001b[0;32m----> 2\u001b[0;31m \u001b[0mprint\u001b[0m\u001b[0;34m(\u001b[0m\u001b[0mtuple\u001b[0m\u001b[0;34m(\u001b[0m\u001b[0mint1\u001b[0m\u001b[0;34m)\u001b[0m\u001b[0;34m)\u001b[0m\u001b[0;34m\u001b[0m\u001b[0;34m\u001b[0m\u001b[0m\n\u001b[0m",
            "\u001b[0;31mTypeError\u001b[0m: 'int' object is not iterable"
          ]
        }
      ]
    },
    {
      "cell_type": "code",
      "source": [
        "int1 = 12345\n",
        "print(set(int1))"
      ],
      "metadata": {
        "colab": {
          "base_uri": "https://localhost:8080/",
          "height": 183
        },
        "id": "rbIEj3x_-801",
        "outputId": "6b970707-6b91-4b0c-e762-2e8672f1cf4e"
      },
      "execution_count": 55,
      "outputs": [
        {
          "output_type": "error",
          "ename": "TypeError",
          "evalue": "ignored",
          "traceback": [
            "\u001b[0;31m---------------------------------------------------------------------------\u001b[0m",
            "\u001b[0;31mTypeError\u001b[0m                                 Traceback (most recent call last)",
            "\u001b[0;32m<ipython-input-55-cf993ced909e>\u001b[0m in \u001b[0;36m<module>\u001b[0;34m\u001b[0m\n\u001b[1;32m      1\u001b[0m \u001b[0mint1\u001b[0m \u001b[0;34m=\u001b[0m \u001b[0;36m12345\u001b[0m\u001b[0;34m\u001b[0m\u001b[0;34m\u001b[0m\u001b[0m\n\u001b[0;32m----> 2\u001b[0;31m \u001b[0mprint\u001b[0m\u001b[0;34m(\u001b[0m\u001b[0mset\u001b[0m\u001b[0;34m(\u001b[0m\u001b[0mint1\u001b[0m\u001b[0;34m)\u001b[0m\u001b[0;34m)\u001b[0m\u001b[0;34m\u001b[0m\u001b[0;34m\u001b[0m\u001b[0m\n\u001b[0m",
            "\u001b[0;31mTypeError\u001b[0m: 'int' object is not iterable"
          ]
        }
      ]
    },
    {
      "cell_type": "code",
      "source": [
        "lst1 = [1,2,3]\n",
        "print(str(lst1))"
      ],
      "metadata": {
        "colab": {
          "base_uri": "https://localhost:8080/"
        },
        "id": "NOU9Bna2_Wpt",
        "outputId": "ed4ff9b9-51e5-4cf1-9743-83610dc7a531"
      },
      "execution_count": 56,
      "outputs": [
        {
          "output_type": "stream",
          "name": "stdout",
          "text": [
            "[1, 2, 3]\n"
          ]
        }
      ]
    },
    {
      "cell_type": "code",
      "source": [
        "lst1 = [1,2,3]\n",
        "print(int(lst1))"
      ],
      "metadata": {
        "colab": {
          "base_uri": "https://localhost:8080/",
          "height": 183
        },
        "id": "_YrSarCQ_kJC",
        "outputId": "1f3656ce-18f0-4612-bc58-0a64876bb5c4"
      },
      "execution_count": 57,
      "outputs": [
        {
          "output_type": "error",
          "ename": "TypeError",
          "evalue": "ignored",
          "traceback": [
            "\u001b[0;31m---------------------------------------------------------------------------\u001b[0m",
            "\u001b[0;31mTypeError\u001b[0m                                 Traceback (most recent call last)",
            "\u001b[0;32m<ipython-input-57-b6d3415fcb14>\u001b[0m in \u001b[0;36m<module>\u001b[0;34m\u001b[0m\n\u001b[1;32m      1\u001b[0m \u001b[0mlst1\u001b[0m \u001b[0;34m=\u001b[0m \u001b[0;34m[\u001b[0m\u001b[0;36m1\u001b[0m\u001b[0;34m,\u001b[0m\u001b[0;36m2\u001b[0m\u001b[0;34m,\u001b[0m\u001b[0;36m3\u001b[0m\u001b[0;34m]\u001b[0m\u001b[0;34m\u001b[0m\u001b[0;34m\u001b[0m\u001b[0m\n\u001b[0;32m----> 2\u001b[0;31m \u001b[0mprint\u001b[0m\u001b[0;34m(\u001b[0m\u001b[0mint\u001b[0m\u001b[0;34m(\u001b[0m\u001b[0mlst1\u001b[0m\u001b[0;34m)\u001b[0m\u001b[0;34m)\u001b[0m\u001b[0;34m\u001b[0m\u001b[0;34m\u001b[0m\u001b[0m\n\u001b[0m",
            "\u001b[0;31mTypeError\u001b[0m: 'int' object is not callable"
          ]
        }
      ]
    },
    {
      "cell_type": "code",
      "source": [
        "lst1 = [1,2,3]\n",
        "print(tuple(lst1))"
      ],
      "metadata": {
        "colab": {
          "base_uri": "https://localhost:8080/"
        },
        "id": "di9J5urQ_o6_",
        "outputId": "4d243c0e-f987-4389-d7e0-6478423b9700"
      },
      "execution_count": 58,
      "outputs": [
        {
          "output_type": "stream",
          "name": "stdout",
          "text": [
            "(1, 2, 3)\n"
          ]
        }
      ]
    },
    {
      "cell_type": "code",
      "source": [
        "lst1 = [1,2,3]\n",
        "print(set(lst1))"
      ],
      "metadata": {
        "colab": {
          "base_uri": "https://localhost:8080/"
        },
        "id": "ukfwkXc7_sNb",
        "outputId": "a170309f-bcb1-4815-95ad-d5d40357d4dc"
      },
      "execution_count": 60,
      "outputs": [
        {
          "output_type": "stream",
          "name": "stdout",
          "text": [
            "{1, 2, 3}\n"
          ]
        }
      ]
    },
    {
      "cell_type": "code",
      "source": [
        "lst1 = [1,2,3]\n",
        "print(float(lst1))"
      ],
      "metadata": {
        "colab": {
          "base_uri": "https://localhost:8080/",
          "height": 183
        },
        "id": "jsFXm6jz_3OB",
        "outputId": "4edbd4c0-49e5-4148-978c-dcf18371a9b6"
      },
      "execution_count": 62,
      "outputs": [
        {
          "output_type": "error",
          "ename": "TypeError",
          "evalue": "ignored",
          "traceback": [
            "\u001b[0;31m---------------------------------------------------------------------------\u001b[0m",
            "\u001b[0;31mTypeError\u001b[0m                                 Traceback (most recent call last)",
            "\u001b[0;32m<ipython-input-62-7ea8b667dc19>\u001b[0m in \u001b[0;36m<module>\u001b[0;34m\u001b[0m\n\u001b[1;32m      1\u001b[0m \u001b[0mlst1\u001b[0m \u001b[0;34m=\u001b[0m \u001b[0;34m[\u001b[0m\u001b[0;36m1\u001b[0m\u001b[0;34m,\u001b[0m\u001b[0;36m2\u001b[0m\u001b[0;34m,\u001b[0m\u001b[0;36m3\u001b[0m\u001b[0;34m]\u001b[0m\u001b[0;34m\u001b[0m\u001b[0;34m\u001b[0m\u001b[0m\n\u001b[0;32m----> 2\u001b[0;31m \u001b[0mprint\u001b[0m\u001b[0;34m(\u001b[0m\u001b[0mfloat\u001b[0m\u001b[0;34m(\u001b[0m\u001b[0mlst1\u001b[0m\u001b[0;34m)\u001b[0m\u001b[0;34m)\u001b[0m\u001b[0;34m\u001b[0m\u001b[0;34m\u001b[0m\u001b[0m\n\u001b[0m",
            "\u001b[0;31mTypeError\u001b[0m: float() argument must be a string or a number, not 'list'"
          ]
        }
      ]
    },
    {
      "cell_type": "code",
      "source": [
        "lst1 = [1,2,3]\n",
        "print(bool(lst1))"
      ],
      "metadata": {
        "colab": {
          "base_uri": "https://localhost:8080/"
        },
        "id": "sO-4ZW8fNP-9",
        "outputId": "a4a6f70e-c7c2-4ef6-801b-adc9177e699b"
      },
      "execution_count": 63,
      "outputs": [
        {
          "output_type": "stream",
          "name": "stdout",
          "text": [
            "True\n"
          ]
        }
      ]
    },
    {
      "cell_type": "code",
      "source": [
        "lst1 = [1,2,3]\n",
        "print(complex(lst1))\n"
      ],
      "metadata": {
        "colab": {
          "base_uri": "https://localhost:8080/",
          "height": 183
        },
        "id": "Z0jl93x6NTXK",
        "outputId": "c29ae2cb-e3b6-4431-c0ab-cbe1215f0f9d"
      },
      "execution_count": 64,
      "outputs": [
        {
          "output_type": "error",
          "ename": "TypeError",
          "evalue": "ignored",
          "traceback": [
            "\u001b[0;31m---------------------------------------------------------------------------\u001b[0m",
            "\u001b[0;31mTypeError\u001b[0m                                 Traceback (most recent call last)",
            "\u001b[0;32m<ipython-input-64-7568ccd6ec32>\u001b[0m in \u001b[0;36m<module>\u001b[0;34m\u001b[0m\n\u001b[1;32m      1\u001b[0m \u001b[0mlst1\u001b[0m \u001b[0;34m=\u001b[0m \u001b[0;34m[\u001b[0m\u001b[0;36m1\u001b[0m\u001b[0;34m,\u001b[0m\u001b[0;36m2\u001b[0m\u001b[0;34m,\u001b[0m\u001b[0;36m3\u001b[0m\u001b[0;34m]\u001b[0m\u001b[0;34m\u001b[0m\u001b[0;34m\u001b[0m\u001b[0m\n\u001b[0;32m----> 2\u001b[0;31m \u001b[0mprint\u001b[0m\u001b[0;34m(\u001b[0m\u001b[0mcomplex\u001b[0m\u001b[0;34m(\u001b[0m\u001b[0mlst1\u001b[0m\u001b[0;34m)\u001b[0m\u001b[0;34m)\u001b[0m\u001b[0;34m\u001b[0m\u001b[0;34m\u001b[0m\u001b[0m\n\u001b[0m",
            "\u001b[0;31mTypeError\u001b[0m: complex() first argument must be a string or a number, not 'list'"
          ]
        }
      ]
    }
  ]
}