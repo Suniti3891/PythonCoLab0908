{
  "nbformat": 4,
  "nbformat_minor": 0,
  "metadata": {
    "colab": {
      "provenance": [],
      "authorship_tag": "ABX9TyOWwvNKQNCbX/8lFNih815R",
      "include_colab_link": true
    },
    "kernelspec": {
      "name": "python3",
      "display_name": "Python 3"
    },
    "language_info": {
      "name": "python"
    }
  },
  "cells": [
    {
      "cell_type": "markdown",
      "metadata": {
        "id": "view-in-github",
        "colab_type": "text"
      },
      "source": [
        "<a href=\"https://colab.research.google.com/github/Suniti3891/PythonCoLab0908/blob/main/IntoToPython.ipynb\" target=\"_parent\"><img src=\"https://colab.research.google.com/assets/colab-badge.svg\" alt=\"Open In Colab\"/></a>"
      ]
    },
    {
      "cell_type": "code",
      "execution_count": 1,
      "metadata": {
        "colab": {
          "base_uri": "https://localhost:8080/"
        },
        "id": "Xy3w5QrQ5Wci",
        "outputId": "7890d04d-a879-4d47-eedd-40e2f18dcd8f"
      },
      "outputs": [
        {
          "output_type": "stream",
          "name": "stdout",
          "text": [
            "Welcome to Python Session\n"
          ]
        }
      ],
      "source": [
        "print(\"Welcome to Python Session\")"
      ]
    },
    {
      "cell_type": "code",
      "source": [
        "print(\"Welcome\")"
      ],
      "metadata": {
        "colab": {
          "base_uri": "https://localhost:8080/"
        },
        "id": "WZj_Q33S6wyt",
        "outputId": "38e24782-8b3e-4315-9807-05cdc9f3417e"
      },
      "execution_count": 4,
      "outputs": [
        {
          "output_type": "stream",
          "name": "stdout",
          "text": [
            "Welcome\n"
          ]
        }
      ]
    },
    {
      "cell_type": "markdown",
      "source": [
        "# Data Type in Python\n",
        "1. Standard data type\n",
        "*   Number\n",
        "    1. int\n",
        "    2. float\n",
        "    3. complex\n",
        "*   string\n",
        "*   boolean\n",
        "2. Data Structure data type\n",
        "*   List\n",
        "*   Tuple\n",
        "*   Set\n",
        "*   Dictionary\n"
      ],
      "metadata": {
        "id": "eHVZ9w7tB5Ip"
      }
    },
    {
      "cell_type": "code",
      "source": [
        "# Standard data type\n",
        "1, 2, 3, 4, -1, -2, 3.14, -1.2, 12+3j, 3+4j\n",
        "int = 1, 2, 3, 4, -1, -2\n",
        "float = 3.14, -1.2\n",
        "complex = 12+3j, 3+4j\n",
        "# j = imaginary number"
      ],
      "metadata": {
        "id": "L6sfCxU5CeUI"
      },
      "execution_count": null,
      "outputs": []
    },
    {
      "cell_type": "code",
      "source": [
        "a = 10\n",
        "print(a)\n",
        "print(type(a))"
      ],
      "metadata": {
        "colab": {
          "base_uri": "https://localhost:8080/"
        },
        "id": "V4FxR1CrDhcx",
        "outputId": "e718d758-45b9-44f0-ea0f-e8c39980135d"
      },
      "execution_count": 5,
      "outputs": [
        {
          "output_type": "stream",
          "name": "stdout",
          "text": [
            "10\n",
            "<class 'int'>\n"
          ]
        }
      ]
    },
    {
      "cell_type": "code",
      "source": [
        "a = -77\n",
        "print(a)\n",
        "print(type(a))"
      ],
      "metadata": {
        "colab": {
          "base_uri": "https://localhost:8080/"
        },
        "id": "r6s74bFvD_Vx",
        "outputId": "66412431-f71c-421e-d599-5e70e380f5c3"
      },
      "execution_count": 8,
      "outputs": [
        {
          "output_type": "stream",
          "name": "stdout",
          "text": [
            "-77\n",
            "<class 'int'>\n"
          ]
        }
      ]
    },
    {
      "cell_type": "code",
      "source": [
        "b = 1.2\n",
        "c = -1.2\n",
        "print(b)\n",
        "print(type(b))\n",
        "print(type(c))"
      ],
      "metadata": {
        "colab": {
          "base_uri": "https://localhost:8080/"
        },
        "id": "QSsBc4JLEYsS",
        "outputId": "30cad2cf-aeb3-47db-b0fa-358d17a9847e"
      },
      "execution_count": 10,
      "outputs": [
        {
          "output_type": "stream",
          "name": "stdout",
          "text": [
            "1.2\n",
            "<class 'float'>\n",
            "<class 'float'>\n"
          ]
        }
      ]
    },
    {
      "cell_type": "code",
      "source": [
        "d = 3 + 4j\n",
        "print(d)\n",
        "print(type(d))"
      ],
      "metadata": {
        "colab": {
          "base_uri": "https://localhost:8080/"
        },
        "id": "To_APSghElOC",
        "outputId": "5ab2d353-5440-4cdc-d22f-ea524c11f2b9"
      },
      "execution_count": 11,
      "outputs": [
        {
          "output_type": "stream",
          "name": "stdout",
          "text": [
            "(3+4j)\n",
            "<class 'complex'>\n"
          ]
        }
      ]
    },
    {
      "cell_type": "code",
      "source": [
        "a = True\n",
        "print(a)\n",
        "print(type(a))"
      ],
      "metadata": {
        "colab": {
          "base_uri": "https://localhost:8080/"
        },
        "id": "33z_BRfUEvWw",
        "outputId": "27ac834e-3507-4a63-9358-64d5d6c6df7b"
      },
      "execution_count": 12,
      "outputs": [
        {
          "output_type": "stream",
          "name": "stdout",
          "text": [
            "True\n",
            "<class 'bool'>\n"
          ]
        }
      ]
    },
    {
      "cell_type": "code",
      "source": [
        "a = False\n",
        "print(a)\n",
        "print(type(a))"
      ],
      "metadata": {
        "colab": {
          "base_uri": "https://localhost:8080/"
        },
        "id": "r-GS3sVBFFhZ",
        "outputId": "03e7039d-dc4f-4522-ed09-a8be350d2f33"
      },
      "execution_count": 15,
      "outputs": [
        {
          "output_type": "stream",
          "name": "stdout",
          "text": [
            "False\n",
            "<class 'bool'>\n"
          ]
        }
      ]
    },
    {
      "cell_type": "code",
      "source": [
        "name = 'Singh'\n",
        "print(name)\n",
        "print(type(name))"
      ],
      "metadata": {
        "colab": {
          "base_uri": "https://localhost:8080/"
        },
        "id": "2dRiEx4iFZyR",
        "outputId": "67b533e7-3650-4b64-9728-73439952fc2d"
      },
      "execution_count": 16,
      "outputs": [
        {
          "output_type": "stream",
          "name": "stdout",
          "text": [
            "Singh\n",
            "<class 'str'>\n"
          ]
        }
      ]
    },
    {
      "cell_type": "code",
      "source": [
        "name = \"Singh\"\n",
        "print(name)\n",
        "print(type(name))"
      ],
      "metadata": {
        "colab": {
          "base_uri": "https://localhost:8080/"
        },
        "id": "InO8XCSvE2hJ",
        "outputId": "9eb3ddd7-0588-4ef7-8e19-763895aa7d7e"
      },
      "execution_count": 13,
      "outputs": [
        {
          "output_type": "stream",
          "name": "stdout",
          "text": [
            "Singh\n",
            "<class 'str'>\n"
          ]
        }
      ]
    },
    {
      "cell_type": "code",
      "source": [
        "name = \"\"\"Singh\"\"\"\n",
        "print(name)"
      ],
      "metadata": {
        "colab": {
          "base_uri": "https://localhost:8080/"
        },
        "id": "Jos6dDnMFhsM",
        "outputId": "479b116c-71ee-40d7-f844-783c1a8ac9e5"
      },
      "execution_count": 18,
      "outputs": [
        {
          "output_type": "stream",
          "name": "stdout",
          "text": [
            "Singh\n"
          ]
        }
      ]
    },
    {
      "cell_type": "code",
      "source": [
        "name = 'My name is \"Singh\"'\n",
        "print(name)"
      ],
      "metadata": {
        "colab": {
          "base_uri": "https://localhost:8080/"
        },
        "id": "mv90aQIMF0RT",
        "outputId": "dfe6f422-dd9b-49ea-f967-a1d0daadc978"
      },
      "execution_count": 19,
      "outputs": [
        {
          "output_type": "stream",
          "name": "stdout",
          "text": [
            "My name is \"Singh\"\n"
          ]
        }
      ]
    },
    {
      "cell_type": "code",
      "source": [
        "a = '''My name is \"Anu\", I live in '..'.'''\n",
        "print(a)\n",
        "print(type(a))"
      ],
      "metadata": {
        "colab": {
          "base_uri": "https://localhost:8080/"
        },
        "id": "0iURn2BDHV9C",
        "outputId": "09979e6c-214f-45b8-e226-f46e07dd62ef"
      },
      "execution_count": 21,
      "outputs": [
        {
          "output_type": "stream",
          "name": "stdout",
          "text": [
            "My name is \"Anu\", I live in '..'.\n",
            "<class 'str'>\n"
          ]
        }
      ]
    },
    {
      "cell_type": "markdown",
      "source": [
        "2. Data Structure data type\n",
        "*   List [ ] => list of int, float, double, complex, string, boolean\n",
        "*   Tuple ( )\n",
        "*   Set { }\n",
        "*   Dictionary\n",
        "LIST: \n",
        "can have list of list, list of tuple, sets or anything"
      ],
      "metadata": {
        "id": "nvIdWTf1I4yv"
      }
    },
    {
      "cell_type": "code",
      "source": [
        "list = [1,2,3]\n",
        "print(list)\n",
        "print(type(list))"
      ],
      "metadata": {
        "colab": {
          "base_uri": "https://localhost:8080/"
        },
        "id": "hY5sNfW4Izf0",
        "outputId": "12ecbd09-af2d-41e0-9140-9610985629e8"
      },
      "execution_count": 23,
      "outputs": [
        {
          "output_type": "stream",
          "name": "stdout",
          "text": [
            "[1, 2, 3]\n",
            "<class 'list'>\n"
          ]
        }
      ]
    },
    {
      "cell_type": "code",
      "source": [
        "tuple = (1,2,3)\n",
        "print(tuple)\n",
        "print(type(tuple))"
      ],
      "metadata": {
        "colab": {
          "base_uri": "https://localhost:8080/"
        },
        "id": "-xSPJM1HJrFL",
        "outputId": "f6a4a377-5136-49c0-b826-17b198497d9c"
      },
      "execution_count": 24,
      "outputs": [
        {
          "output_type": "stream",
          "name": "stdout",
          "text": [
            "(1, 2, 3)\n",
            "<class 'tuple'>\n"
          ]
        }
      ]
    },
    {
      "cell_type": "code",
      "source": [
        "set = {1,2,3}\n",
        "print(set)\n",
        "print(type(set))"
      ],
      "metadata": {
        "colab": {
          "base_uri": "https://localhost:8080/"
        },
        "id": "C_0YxNHzJ-8E",
        "outputId": "d90949a2-1b77-475e-b9ba-59aa3da9d1cf"
      },
      "execution_count": 25,
      "outputs": [
        {
          "output_type": "stream",
          "name": "stdout",
          "text": [
            "{1, 2, 3}\n",
            "<class 'set'>\n"
          ]
        }
      ]
    },
    {
      "cell_type": "code",
      "source": [
        "list1 = ['a', 'b', 'c', 1, 2, 3, True, False, -1.2, 1.3, 3 + 3j ]\n",
        "print(list1)\n",
        "print(type(list1))"
      ],
      "metadata": {
        "colab": {
          "base_uri": "https://localhost:8080/"
        },
        "id": "P3t5BT36R1AY",
        "outputId": "dc57b8d7-692a-4f0d-b823-f7ad3f0e1e79"
      },
      "execution_count": 28,
      "outputs": [
        {
          "output_type": "stream",
          "name": "stdout",
          "text": [
            "['a', 'b', 'c', 1, 2, 3, True, False, -1.2, 1.3, (3+3j)]\n",
            "<class 'list'>\n"
          ]
        }
      ]
    },
    {
      "cell_type": "markdown",
      "source": [
        "LIST: mutable\n",
        "TUPLE: immutable\n",
        "SET: unique value"
      ],
      "metadata": {
        "id": "AP0ogzqITQks"
      }
    },
    {
      "cell_type": "code",
      "source": [
        "# append inbuilt funtion\n",
        "# changing the LIST 'list1' => mutable\n",
        "list1.append('Sam')\n",
        "print(list1)\n",
        "print(type(list1))"
      ],
      "metadata": {
        "colab": {
          "base_uri": "https://localhost:8080/"
        },
        "id": "Uxxc5MOmUyaw",
        "outputId": "1bec97e1-d48c-4825-9c43-56bc5b6ee9a5"
      },
      "execution_count": 29,
      "outputs": [
        {
          "output_type": "stream",
          "name": "stdout",
          "text": [
            "['a', 'b', 'c', 1, 2, 3, True, False, -1.2, 1.3, (3+3j), 'Sam']\n",
            "<class 'list'>\n"
          ]
        }
      ]
    },
    {
      "cell_type": "code",
      "source": [
        "#APPEND\n",
        "# only one can add at atime\n",
        "list1.append('x')\n",
        "print(list1)"
      ],
      "metadata": {
        "colab": {
          "base_uri": "https://localhost:8080/"
        },
        "id": "9BwuMFyhV6qE",
        "outputId": "1e4b6d55-a26d-4eaa-b5a5-6c792d94a9ae"
      },
      "execution_count": 31,
      "outputs": [
        {
          "output_type": "stream",
          "name": "stdout",
          "text": [
            "['a', 'b', 'c', 1, 2, 3, True, False, -1.2, 1.3, (3+3j), 'Sam', 'x']\n"
          ]
        }
      ]
    },
    {
      "cell_type": "code",
      "source": [
        "list1.append(11)\n",
        "print(list1)"
      ],
      "metadata": {
        "colab": {
          "base_uri": "https://localhost:8080/"
        },
        "id": "7Qlze5YQWVtA",
        "outputId": "751ba97c-a638-4a03-a044-1e01a0291801"
      },
      "execution_count": 33,
      "outputs": [
        {
          "output_type": "stream",
          "name": "stdout",
          "text": [
            "['a', 'b', 'c', 1, 2, 3, True, False, -1.2, 1.3, (3+3j), 'Sam', 'x', 11]\n"
          ]
        }
      ]
    },
    {
      "cell_type": "code",
      "source": [
        "# CLEAR\n",
        "list1.clear()\n",
        "print(list1)"
      ],
      "metadata": {
        "colab": {
          "base_uri": "https://localhost:8080/"
        },
        "id": "yYFiRPWgWsSy",
        "outputId": "c6ee1482-268f-4093-b554-d0a7e9959c43"
      },
      "execution_count": 34,
      "outputs": [
        {
          "output_type": "stream",
          "name": "stdout",
          "text": [
            "[]\n"
          ]
        }
      ]
    },
    {
      "cell_type": "code",
      "source": [
        "list2 = ['a', 'b', 'c', 1, 2, 3, True, False, -1.2, 1.3, 3 + 3j ]\n",
        "print(list2)\n",
        "print(type(list2))"
      ],
      "metadata": {
        "colab": {
          "base_uri": "https://localhost:8080/"
        },
        "id": "gujD4rK0XE0t",
        "outputId": "41cc049a-fa65-4346-c7d3-a88bfa1bb946"
      },
      "execution_count": 35,
      "outputs": [
        {
          "output_type": "stream",
          "name": "stdout",
          "text": [
            "['a', 'b', 'c', 1, 2, 3, True, False, -1.2, 1.3, (3+3j)]\n",
            "<class 'list'>\n"
          ]
        }
      ]
    },
    {
      "cell_type": "code",
      "source": [
        "#COPY\n",
        "list2_copy = list2.copy()\n",
        "print(list2_copy)"
      ],
      "metadata": {
        "colab": {
          "base_uri": "https://localhost:8080/"
        },
        "id": "y-G5-ehiYCiw",
        "outputId": "29ba64c0-d3d5-4ee3-bfad-e93e4fbe5265"
      },
      "execution_count": 37,
      "outputs": [
        {
          "output_type": "stream",
          "name": "stdout",
          "text": [
            "['a', 'b', 'c', 1, 2, 3, True, False, -1.2, 1.3, (3+3j)]\n"
          ]
        }
      ]
    },
    {
      "cell_type": "code",
      "source": [
        "# COUNT\n",
        "listForCount = ['a', 'b', 'c', 'a', 'b', 'a']\n",
        "print(listForCount)\n",
        "print(listForCount.count('a'))\n",
        "print(listForCount.count('b'))\n",
        "print(listForCount.count('c'))"
      ],
      "metadata": {
        "colab": {
          "base_uri": "https://localhost:8080/"
        },
        "id": "m5TCNGQcYmSw",
        "outputId": "637eaca6-8c9d-43be-95f3-d46cecd2716f"
      },
      "execution_count": 42,
      "outputs": [
        {
          "output_type": "stream",
          "name": "stdout",
          "text": [
            "['a', 'b', 'c', 'a', 'b', 'a']\n",
            "3\n",
            "2\n",
            "1\n"
          ]
        }
      ]
    },
    {
      "cell_type": "code",
      "source": [
        "# extend, append, insert\n",
        "listForExtend = ['a', 'b', 'c']\n",
        "print(listForExtend)\n",
        "listForExtend.extend(['x','y','z'])\n",
        "print(listForExtend)"
      ],
      "metadata": {
        "colab": {
          "base_uri": "https://localhost:8080/"
        },
        "id": "Ec1vu4ccbg_6",
        "outputId": "06abb52c-eeb6-4043-eaad-21e057790083"
      },
      "execution_count": 49,
      "outputs": [
        {
          "output_type": "stream",
          "name": "stdout",
          "text": [
            "['a', 'b', 'c']\n",
            "['a', 'b', 'c', 'x', 'y', 'z']\n"
          ]
        }
      ]
    },
    {
      "cell_type": "code",
      "source": [
        "listForExtend.insert(1, 1)\n",
        "print(listForExtend)"
      ],
      "metadata": {
        "colab": {
          "base_uri": "https://localhost:8080/"
        },
        "id": "VUvZ8CKHc3Ih",
        "outputId": "7bf8e4a0-15b3-455a-98fa-7a6a97240ff8"
      },
      "execution_count": 50,
      "outputs": [
        {
          "output_type": "stream",
          "name": "stdout",
          "text": [
            "['a', 1, 'b', 'c', 'x', 'y', 'z']\n"
          ]
        }
      ]
    },
    {
      "cell_type": "code",
      "source": [
        "# pop => remove from the end\n",
        "listForExtend.pop()\n",
        "print(listForExtend)"
      ],
      "metadata": {
        "colab": {
          "base_uri": "https://localhost:8080/"
        },
        "id": "4TGx_Wk-d_D4",
        "outputId": "6ba2581e-b04c-401b-98a6-d37c93f827b1"
      },
      "execution_count": 51,
      "outputs": [
        {
          "output_type": "stream",
          "name": "stdout",
          "text": [
            "['a', 1, 'b', 'c', 'x', 'y']\n"
          ]
        }
      ]
    },
    {
      "cell_type": "code",
      "source": [
        "# remove => remove mention list\n",
        "listForExtend.remove(1)\n",
        "print(listForExtend)"
      ],
      "metadata": {
        "colab": {
          "base_uri": "https://localhost:8080/"
        },
        "id": "FpNQ3F3ZeV8C",
        "outputId": "64e0de78-24b6-462e-fa9c-4523fb2801ec"
      },
      "execution_count": 52,
      "outputs": [
        {
          "output_type": "stream",
          "name": "stdout",
          "text": [
            "['a', 'b', 'c', 'x', 'y']\n"
          ]
        }
      ]
    },
    {
      "cell_type": "code",
      "source": [
        "# reverse => print list in reverse order\n",
        "listForExtend.reverse()\n",
        "print(listForExtend)"
      ],
      "metadata": {
        "colab": {
          "base_uri": "https://localhost:8080/"
        },
        "id": "S30sCJE0e0g3",
        "outputId": "bee62005-13ed-47f6-9d6a-9a410367f20c"
      },
      "execution_count": 53,
      "outputs": [
        {
          "output_type": "stream",
          "name": "stdout",
          "text": [
            "['y', 'x', 'c', 'b', 'a']\n"
          ]
        }
      ]
    }
  ]
}