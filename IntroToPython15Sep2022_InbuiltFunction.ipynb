{
  "nbformat": 4,
  "nbformat_minor": 0,
  "metadata": {
    "colab": {
      "provenance": [],
      "collapsed_sections": []
    },
    "kernelspec": {
      "name": "python3",
      "display_name": "Python 3"
    },
    "language_info": {
      "name": "python"
    }
  },
  "cells": [
    {
      "cell_type": "code",
      "execution_count": null,
      "metadata": {
        "colab": {
          "base_uri": "https://localhost:8080/"
        },
        "id": "mCBtlT7ImdWi",
        "outputId": "47221ff9-a8fd-420e-bff7-53f9d7a598a2"
      },
      "outputs": [
        {
          "output_type": "stream",
          "name": "stdout",
          "text": [
            "Python Pragramming\n"
          ]
        }
      ],
      "source": [
        "str1 = 'Python Pragramming'\n",
        "print(str1)"
      ]
    },
    {
      "cell_type": "markdown",
      "source": [
        "InbuiltFuction: inbuilt functions with Python"
      ],
      "metadata": {
        "id": "_r9HHpH_m5IU"
      }
    },
    {
      "cell_type": "code",
      "source": [
        "print(type(str1))"
      ],
      "metadata": {
        "colab": {
          "base_uri": "https://localhost:8080/"
        },
        "id": "qeWMd2a2nx8R",
        "outputId": "b1849977-da2a-46c4-8b70-ea212cc607f8"
      },
      "execution_count": null,
      "outputs": [
        {
          "output_type": "stream",
          "name": "stdout",
          "text": [
            "<class 'str'>\n"
          ]
        }
      ]
    },
    {
      "cell_type": "code",
      "source": [
        "int1=10\n",
        "print(type(int1))"
      ],
      "metadata": {
        "colab": {
          "base_uri": "https://localhost:8080/"
        },
        "id": "rGU0c3MRn9km",
        "outputId": "8374b109-8a23-4ddb-d3c1-06f4d8ef486a"
      },
      "execution_count": null,
      "outputs": [
        {
          "output_type": "stream",
          "name": "stdout",
          "text": [
            "<class 'int'>\n"
          ]
        }
      ]
    },
    {
      "cell_type": "code",
      "source": [
        "flt1=-3.14\n",
        "print(type(flt1))"
      ],
      "metadata": {
        "colab": {
          "base_uri": "https://localhost:8080/"
        },
        "id": "vAt37ElRoCp2",
        "outputId": "3be3747b-4f3f-4460-db2b-2692a8afd115"
      },
      "execution_count": null,
      "outputs": [
        {
          "output_type": "stream",
          "name": "stdout",
          "text": [
            "<class 'float'>\n"
          ]
        }
      ]
    },
    {
      "cell_type": "code",
      "source": [
        "cmplx1=4-5j\n",
        "print(type(cmplx1))"
      ],
      "metadata": {
        "colab": {
          "base_uri": "https://localhost:8080/"
        },
        "id": "laR90CvKoIgr",
        "outputId": "44ee1bb2-16a9-4fe2-ab53-8a946fab4e72"
      },
      "execution_count": null,
      "outputs": [
        {
          "output_type": "stream",
          "name": "stdout",
          "text": [
            "<class 'complex'>\n"
          ]
        }
      ]
    },
    {
      "cell_type": "code",
      "source": [
        "bool1=True\n",
        "print(type(bool1))"
      ],
      "metadata": {
        "colab": {
          "base_uri": "https://localhost:8080/"
        },
        "id": "VYC8JWhfoQKO",
        "outputId": "8036164f-8297-42e4-b9d3-d4b5a8746543"
      },
      "execution_count": null,
      "outputs": [
        {
          "output_type": "stream",
          "name": "stdout",
          "text": [
            "<class 'bool'>\n"
          ]
        }
      ]
    },
    {
      "cell_type": "code",
      "source": [
        "lst1=[1,2,3,4,5]\n",
        "print(type(lst1))"
      ],
      "metadata": {
        "colab": {
          "base_uri": "https://localhost:8080/"
        },
        "id": "AVdLZ8V4obnW",
        "outputId": "9c149528-7195-4c1b-9731-eb8f7096e394"
      },
      "execution_count": null,
      "outputs": [
        {
          "output_type": "stream",
          "name": "stdout",
          "text": [
            "<class 'list'>\n"
          ]
        }
      ]
    },
    {
      "cell_type": "code",
      "source": [
        "tup1=(1,2,3,4,5)\n",
        "type(tup1)"
      ],
      "metadata": {
        "colab": {
          "base_uri": "https://localhost:8080/"
        },
        "id": "OhTW6BbTopOg",
        "outputId": "d2a48528-d16b-4d5c-a98d-1af793a99574"
      },
      "execution_count": null,
      "outputs": [
        {
          "output_type": "execute_result",
          "data": {
            "text/plain": [
              "tuple"
            ]
          },
          "metadata": {},
          "execution_count": 9
        }
      ]
    },
    {
      "cell_type": "code",
      "source": [
        "set1={1,2,3,4,5}\n",
        "type(set1)"
      ],
      "metadata": {
        "colab": {
          "base_uri": "https://localhost:8080/"
        },
        "id": "ohOzmn7tovVY",
        "outputId": "5f8036df-1c73-48ed-dcde-5295c3b4cd71"
      },
      "execution_count": null,
      "outputs": [
        {
          "output_type": "execute_result",
          "data": {
            "text/plain": [
              "set"
            ]
          },
          "metadata": {},
          "execution_count": 10
        }
      ]
    },
    {
      "cell_type": "code",
      "source": [
        "dict1={1:'a',2:'b',3:'c'}\n",
        "type(dict1)"
      ],
      "metadata": {
        "colab": {
          "base_uri": "https://localhost:8080/"
        },
        "id": "vzn8bIcuo1QE",
        "outputId": "33b13c82-61ab-4734-f933-34afadc17845"
      },
      "execution_count": null,
      "outputs": [
        {
          "output_type": "execute_result",
          "data": {
            "text/plain": [
              "dict"
            ]
          },
          "metadata": {},
          "execution_count": 11
        }
      ]
    },
    {
      "cell_type": "markdown",
      "source": [
        "1. Decimal (base of 10): 0, 1,2,3,4,5,6,7,8,9\n",
        "2. Binary (base of 2)  : 0, 1\n",
        "3. Oct (base of 8)     : 0,1,2,3,4,5,6,7\n",
        "4. Hex (base of 16)    : 0,1,2,3,4,5,6,7,8,9,a,b,c,d,e,f\n",
        "\n",
        "1. Oct: 0,1,2,3,4,5,6,7\n",
        "        10,11,12,13,14,15,16,17\n",
        "        20,21,22,23,24,25,26,27\n",
        "        30,31,32,33,34,35,36,37\n",
        "        \n",
        "2. Hex: 0,1,2,3,4,5,6,7,8,9,a,b,c,d,e,f\n",
        "        10,11,12,13,14,15,16,17,18,19,1a,1b,1c,1d,1e,1f\n",
        "        20,21,22,23,24,25,26,27,28,29,2a,2b,2c,2d,2e,2f\n",
        "\n",
        "\n"
      ],
      "metadata": {
        "id": "nXVhh8RwpSc0"
      }
    },
    {
      "cell_type": "code",
      "source": [
        "for i in range(0,50):\n",
        "  print(\"Decimal \", i)\n",
        "  print(\"Binary  \", bin(i))\n",
        "  print(\"Octa    \", oct(i))\n",
        "  print(\"Hexa    \", hex(i))\n",
        "  print(\"***********\")"
      ],
      "metadata": {
        "colab": {
          "base_uri": "https://localhost:8080/"
        },
        "id": "xwWBiOGwqMkL",
        "outputId": "062bb38a-0a6e-4a89-a74d-640da54a508d"
      },
      "execution_count": null,
      "outputs": [
        {
          "output_type": "stream",
          "name": "stdout",
          "text": [
            "Decimal  0\n",
            "Binary   0b0\n",
            "Octa     0o0\n",
            "Hexa     0x0\n",
            "***********\n",
            "Decimal  1\n",
            "Binary   0b1\n",
            "Octa     0o1\n",
            "Hexa     0x1\n",
            "***********\n",
            "Decimal  2\n",
            "Binary   0b10\n",
            "Octa     0o2\n",
            "Hexa     0x2\n",
            "***********\n",
            "Decimal  3\n",
            "Binary   0b11\n",
            "Octa     0o3\n",
            "Hexa     0x3\n",
            "***********\n",
            "Decimal  4\n",
            "Binary   0b100\n",
            "Octa     0o4\n",
            "Hexa     0x4\n",
            "***********\n",
            "Decimal  5\n",
            "Binary   0b101\n",
            "Octa     0o5\n",
            "Hexa     0x5\n",
            "***********\n",
            "Decimal  6\n",
            "Binary   0b110\n",
            "Octa     0o6\n",
            "Hexa     0x6\n",
            "***********\n",
            "Decimal  7\n",
            "Binary   0b111\n",
            "Octa     0o7\n",
            "Hexa     0x7\n",
            "***********\n",
            "Decimal  8\n",
            "Binary   0b1000\n",
            "Octa     0o10\n",
            "Hexa     0x8\n",
            "***********\n",
            "Decimal  9\n",
            "Binary   0b1001\n",
            "Octa     0o11\n",
            "Hexa     0x9\n",
            "***********\n",
            "Decimal  10\n",
            "Binary   0b1010\n",
            "Octa     0o12\n",
            "Hexa     0xa\n",
            "***********\n",
            "Decimal  11\n",
            "Binary   0b1011\n",
            "Octa     0o13\n",
            "Hexa     0xb\n",
            "***********\n",
            "Decimal  12\n",
            "Binary   0b1100\n",
            "Octa     0o14\n",
            "Hexa     0xc\n",
            "***********\n",
            "Decimal  13\n",
            "Binary   0b1101\n",
            "Octa     0o15\n",
            "Hexa     0xd\n",
            "***********\n",
            "Decimal  14\n",
            "Binary   0b1110\n",
            "Octa     0o16\n",
            "Hexa     0xe\n",
            "***********\n",
            "Decimal  15\n",
            "Binary   0b1111\n",
            "Octa     0o17\n",
            "Hexa     0xf\n",
            "***********\n",
            "Decimal  16\n",
            "Binary   0b10000\n",
            "Octa     0o20\n",
            "Hexa     0x10\n",
            "***********\n",
            "Decimal  17\n",
            "Binary   0b10001\n",
            "Octa     0o21\n",
            "Hexa     0x11\n",
            "***********\n",
            "Decimal  18\n",
            "Binary   0b10010\n",
            "Octa     0o22\n",
            "Hexa     0x12\n",
            "***********\n",
            "Decimal  19\n",
            "Binary   0b10011\n",
            "Octa     0o23\n",
            "Hexa     0x13\n",
            "***********\n",
            "Decimal  20\n",
            "Binary   0b10100\n",
            "Octa     0o24\n",
            "Hexa     0x14\n",
            "***********\n",
            "Decimal  21\n",
            "Binary   0b10101\n",
            "Octa     0o25\n",
            "Hexa     0x15\n",
            "***********\n",
            "Decimal  22\n",
            "Binary   0b10110\n",
            "Octa     0o26\n",
            "Hexa     0x16\n",
            "***********\n",
            "Decimal  23\n",
            "Binary   0b10111\n",
            "Octa     0o27\n",
            "Hexa     0x17\n",
            "***********\n",
            "Decimal  24\n",
            "Binary   0b11000\n",
            "Octa     0o30\n",
            "Hexa     0x18\n",
            "***********\n",
            "Decimal  25\n",
            "Binary   0b11001\n",
            "Octa     0o31\n",
            "Hexa     0x19\n",
            "***********\n",
            "Decimal  26\n",
            "Binary   0b11010\n",
            "Octa     0o32\n",
            "Hexa     0x1a\n",
            "***********\n",
            "Decimal  27\n",
            "Binary   0b11011\n",
            "Octa     0o33\n",
            "Hexa     0x1b\n",
            "***********\n",
            "Decimal  28\n",
            "Binary   0b11100\n",
            "Octa     0o34\n",
            "Hexa     0x1c\n",
            "***********\n",
            "Decimal  29\n",
            "Binary   0b11101\n",
            "Octa     0o35\n",
            "Hexa     0x1d\n",
            "***********\n",
            "Decimal  30\n",
            "Binary   0b11110\n",
            "Octa     0o36\n",
            "Hexa     0x1e\n",
            "***********\n",
            "Decimal  31\n",
            "Binary   0b11111\n",
            "Octa     0o37\n",
            "Hexa     0x1f\n",
            "***********\n",
            "Decimal  32\n",
            "Binary   0b100000\n",
            "Octa     0o40\n",
            "Hexa     0x20\n",
            "***********\n",
            "Decimal  33\n",
            "Binary   0b100001\n",
            "Octa     0o41\n",
            "Hexa     0x21\n",
            "***********\n",
            "Decimal  34\n",
            "Binary   0b100010\n",
            "Octa     0o42\n",
            "Hexa     0x22\n",
            "***********\n",
            "Decimal  35\n",
            "Binary   0b100011\n",
            "Octa     0o43\n",
            "Hexa     0x23\n",
            "***********\n",
            "Decimal  36\n",
            "Binary   0b100100\n",
            "Octa     0o44\n",
            "Hexa     0x24\n",
            "***********\n",
            "Decimal  37\n",
            "Binary   0b100101\n",
            "Octa     0o45\n",
            "Hexa     0x25\n",
            "***********\n",
            "Decimal  38\n",
            "Binary   0b100110\n",
            "Octa     0o46\n",
            "Hexa     0x26\n",
            "***********\n",
            "Decimal  39\n",
            "Binary   0b100111\n",
            "Octa     0o47\n",
            "Hexa     0x27\n",
            "***********\n",
            "Decimal  40\n",
            "Binary   0b101000\n",
            "Octa     0o50\n",
            "Hexa     0x28\n",
            "***********\n",
            "Decimal  41\n",
            "Binary   0b101001\n",
            "Octa     0o51\n",
            "Hexa     0x29\n",
            "***********\n",
            "Decimal  42\n",
            "Binary   0b101010\n",
            "Octa     0o52\n",
            "Hexa     0x2a\n",
            "***********\n",
            "Decimal  43\n",
            "Binary   0b101011\n",
            "Octa     0o53\n",
            "Hexa     0x2b\n",
            "***********\n",
            "Decimal  44\n",
            "Binary   0b101100\n",
            "Octa     0o54\n",
            "Hexa     0x2c\n",
            "***********\n",
            "Decimal  45\n",
            "Binary   0b101101\n",
            "Octa     0o55\n",
            "Hexa     0x2d\n",
            "***********\n",
            "Decimal  46\n",
            "Binary   0b101110\n",
            "Octa     0o56\n",
            "Hexa     0x2e\n",
            "***********\n",
            "Decimal  47\n",
            "Binary   0b101111\n",
            "Octa     0o57\n",
            "Hexa     0x2f\n",
            "***********\n",
            "Decimal  48\n",
            "Binary   0b110000\n",
            "Octa     0o60\n",
            "Hexa     0x30\n",
            "***********\n",
            "Decimal  49\n",
            "Binary   0b110001\n",
            "Octa     0o61\n",
            "Hexa     0x31\n",
            "***********\n"
          ]
        }
      ]
    },
    {
      "cell_type": "code",
      "source": [
        "print(range(0,10))\n",
        "for i in range(0,10):\n",
        "  print(i)"
      ],
      "metadata": {
        "colab": {
          "base_uri": "https://localhost:8080/"
        },
        "id": "p0t-saakuzI8",
        "outputId": "0a720b5b-6bff-4c6f-88d4-c93283c2eaf7"
      },
      "execution_count": null,
      "outputs": [
        {
          "output_type": "stream",
          "name": "stdout",
          "text": [
            "range(0, 10)\n",
            "0\n",
            "1\n",
            "2\n",
            "3\n",
            "4\n",
            "5\n",
            "6\n",
            "7\n",
            "8\n",
            "9\n"
          ]
        }
      ]
    },
    {
      "cell_type": "code",
      "source": [
        "print(range(0,20))\n",
        "for i in range(0,20):\n",
        "  print(i)"
      ],
      "metadata": {
        "colab": {
          "base_uri": "https://localhost:8080/"
        },
        "id": "qrEln_MnvH7S",
        "outputId": "c4fd7d11-a096-4bfa-8ca9-9cfa902b1ccb"
      },
      "execution_count": null,
      "outputs": [
        {
          "output_type": "stream",
          "name": "stdout",
          "text": [
            "range(0, 20)\n",
            "0\n",
            "1\n",
            "2\n",
            "3\n",
            "4\n",
            "5\n",
            "6\n",
            "7\n",
            "8\n",
            "9\n",
            "10\n",
            "11\n",
            "12\n",
            "13\n",
            "14\n",
            "15\n",
            "16\n",
            "17\n",
            "18\n",
            "19\n"
          ]
        }
      ]
    },
    {
      "cell_type": "code",
      "source": [
        "print(range(0,20,2))\n",
        "for i in range(0,20,2):\n",
        "  print(i)"
      ],
      "metadata": {
        "colab": {
          "base_uri": "https://localhost:8080/"
        },
        "id": "gLIDXMFivQ6T",
        "outputId": "234e46bf-bc12-44f2-f4dd-f79a772165c5"
      },
      "execution_count": null,
      "outputs": [
        {
          "output_type": "stream",
          "name": "stdout",
          "text": [
            "range(0, 20, 2)\n",
            "0\n",
            "2\n",
            "4\n",
            "6\n",
            "8\n",
            "10\n",
            "12\n",
            "14\n",
            "16\n",
            "18\n"
          ]
        }
      ]
    },
    {
      "cell_type": "code",
      "source": [
        "print(range(12,121,12))\n",
        "for i in range(12,121,12):\n",
        "  print(i)"
      ],
      "metadata": {
        "colab": {
          "base_uri": "https://localhost:8080/"
        },
        "id": "6U93Lxlkvfp3",
        "outputId": "2f40fbff-9de6-4c9c-e5bc-16038db3ab2a"
      },
      "execution_count": null,
      "outputs": [
        {
          "output_type": "stream",
          "name": "stdout",
          "text": [
            "range(12, 121, 12)\n",
            "12\n",
            "24\n",
            "36\n",
            "48\n",
            "60\n",
            "72\n",
            "84\n",
            "96\n",
            "108\n",
            "120\n"
          ]
        }
      ]
    },
    {
      "cell_type": "code",
      "source": [
        "print(range(-120,0,-12))\n",
        "for i in range(-120,0,12):\n",
        "  print(i)"
      ],
      "metadata": {
        "colab": {
          "base_uri": "https://localhost:8080/"
        },
        "id": "M8Dn4_CGvrvW",
        "outputId": "016c5155-6bff-4715-d52c-f6792a6c9a6c"
      },
      "execution_count": null,
      "outputs": [
        {
          "output_type": "stream",
          "name": "stdout",
          "text": [
            "range(-120, 0, -12)\n",
            "-120\n",
            "-108\n",
            "-96\n",
            "-84\n",
            "-72\n",
            "-60\n",
            "-48\n",
            "-36\n",
            "-24\n",
            "-12\n"
          ]
        }
      ]
    },
    {
      "cell_type": "code",
      "source": [
        "print(range(0,10,2))\n",
        "for i in range(0,10,2):\n",
        "  print(i)"
      ],
      "metadata": {
        "colab": {
          "base_uri": "https://localhost:8080/"
        },
        "id": "eiaLde6BxsY1",
        "outputId": "115a418b-26a3-489b-e29a-8986cbf2d114"
      },
      "execution_count": null,
      "outputs": [
        {
          "output_type": "stream",
          "name": "stdout",
          "text": [
            "range(0, 10, 2)\n",
            "0\n",
            "2\n",
            "4\n",
            "6\n",
            "8\n"
          ]
        }
      ]
    },
    {
      "cell_type": "code",
      "source": [
        "print(range(10,101,10))\n",
        "for i in range(10,101,10):\n",
        "  print(i)"
      ],
      "metadata": {
        "colab": {
          "base_uri": "https://localhost:8080/"
        },
        "id": "l2HTerz1x2cC",
        "outputId": "e4ab4435-cedb-4269-aa10-0f59a25c9326"
      },
      "execution_count": null,
      "outputs": [
        {
          "output_type": "stream",
          "name": "stdout",
          "text": [
            "range(10, 101, 10)\n",
            "10\n",
            "20\n",
            "30\n",
            "40\n",
            "50\n",
            "60\n",
            "70\n",
            "80\n",
            "90\n",
            "100\n"
          ]
        }
      ]
    },
    {
      "cell_type": "code",
      "source": [
        "print(range(-1,-100,-2))\n",
        "for i in range(-1,-100,-2):\n",
        "  print(i)"
      ],
      "metadata": {
        "colab": {
          "base_uri": "https://localhost:8080/"
        },
        "id": "eUgzo1yeyDFI",
        "outputId": "a5b1922f-c160-4659-87ed-3f28cadc360d"
      },
      "execution_count": null,
      "outputs": [
        {
          "output_type": "stream",
          "name": "stdout",
          "text": [
            "range(-1, -100, -2)\n",
            "-1\n",
            "-3\n",
            "-5\n",
            "-7\n",
            "-9\n",
            "-11\n",
            "-13\n",
            "-15\n",
            "-17\n",
            "-19\n",
            "-21\n",
            "-23\n",
            "-25\n",
            "-27\n",
            "-29\n",
            "-31\n",
            "-33\n",
            "-35\n",
            "-37\n",
            "-39\n",
            "-41\n",
            "-43\n",
            "-45\n",
            "-47\n",
            "-49\n",
            "-51\n",
            "-53\n",
            "-55\n",
            "-57\n",
            "-59\n",
            "-61\n",
            "-63\n",
            "-65\n",
            "-67\n",
            "-69\n",
            "-71\n",
            "-73\n",
            "-75\n",
            "-77\n",
            "-79\n",
            "-81\n",
            "-83\n",
            "-85\n",
            "-87\n",
            "-89\n",
            "-91\n",
            "-93\n",
            "-95\n",
            "-97\n",
            "-99\n"
          ]
        }
      ]
    },
    {
      "cell_type": "code",
      "source": [
        "print(range(0,-100,-2))\n",
        "for i in range(0,-100,-2):\n",
        "  print(i)"
      ],
      "metadata": {
        "colab": {
          "base_uri": "https://localhost:8080/"
        },
        "id": "aVyYPquVyQSQ",
        "outputId": "0b680a9f-5374-4268-d6a7-f35eab69a077"
      },
      "execution_count": null,
      "outputs": [
        {
          "output_type": "stream",
          "name": "stdout",
          "text": [
            "range(0, -100, -2)\n",
            "0\n",
            "-2\n",
            "-4\n",
            "-6\n",
            "-8\n",
            "-10\n",
            "-12\n",
            "-14\n",
            "-16\n",
            "-18\n",
            "-20\n",
            "-22\n",
            "-24\n",
            "-26\n",
            "-28\n",
            "-30\n",
            "-32\n",
            "-34\n",
            "-36\n",
            "-38\n",
            "-40\n",
            "-42\n",
            "-44\n",
            "-46\n",
            "-48\n",
            "-50\n",
            "-52\n",
            "-54\n",
            "-56\n",
            "-58\n",
            "-60\n",
            "-62\n",
            "-64\n",
            "-66\n",
            "-68\n",
            "-70\n",
            "-72\n",
            "-74\n",
            "-76\n",
            "-78\n",
            "-80\n",
            "-82\n",
            "-84\n",
            "-86\n",
            "-88\n",
            "-90\n",
            "-92\n",
            "-94\n",
            "-96\n",
            "-98\n"
          ]
        }
      ]
    },
    {
      "cell_type": "code",
      "source": [
        "print(range(-19,-191,-19))\n",
        "for i in range(-19,-191,-19):\n",
        "  print(i)"
      ],
      "metadata": {
        "colab": {
          "base_uri": "https://localhost:8080/"
        },
        "id": "BRY_VcMQydvD",
        "outputId": "45c4d6f5-a7d5-460f-f706-e3e0d346a469"
      },
      "execution_count": null,
      "outputs": [
        {
          "output_type": "stream",
          "name": "stdout",
          "text": [
            "range(-19, -191, -19)\n",
            "-19\n",
            "-38\n",
            "-57\n",
            "-76\n",
            "-95\n",
            "-114\n",
            "-133\n",
            "-152\n",
            "-171\n",
            "-190\n"
          ]
        }
      ]
    },
    {
      "cell_type": "code",
      "source": [
        "print(-220,-21,22)\n",
        "for i in range(-220,-21,22):\n",
        "  print(i)"
      ],
      "metadata": {
        "colab": {
          "base_uri": "https://localhost:8080/"
        },
        "id": "Qtr7gl_6ynGz",
        "outputId": "469495b3-1fe3-45d9-cc10-cc82641572db"
      },
      "execution_count": null,
      "outputs": [
        {
          "output_type": "stream",
          "name": "stdout",
          "text": [
            "-220 -21 22\n",
            "-220\n",
            "-198\n",
            "-176\n",
            "-154\n",
            "-132\n",
            "-110\n",
            "-88\n",
            "-66\n",
            "-44\n",
            "-22\n"
          ]
        }
      ]
    },
    {
      "cell_type": "code",
      "source": [
        "print(range(-50,-4,-5))\n",
        "for i in range(-50,-4,-5):\n",
        "  print(i)"
      ],
      "metadata": {
        "colab": {
          "base_uri": "https://localhost:8080/"
        },
        "id": "Pq-wOjkRyx4V",
        "outputId": "384ecec3-38f9-46cb-ad0b-2c1844c512f9"
      },
      "execution_count": null,
      "outputs": [
        {
          "output_type": "stream",
          "name": "stdout",
          "text": [
            "range(-50, -4, -5)\n"
          ]
        }
      ]
    },
    {
      "cell_type": "markdown",
      "source": [
        "# Type Casting"
      ],
      "metadata": {
        "id": "SnYmywA6zRVK"
      }
    },
    {
      "cell_type": "code",
      "source": [
        "int1 = 120\n",
        "print(float(int1))"
      ],
      "metadata": {
        "colab": {
          "base_uri": "https://localhost:8080/"
        },
        "id": "Keoau93izPTl",
        "outputId": "845fad69-fce2-45aa-a00f-e3023a64692d"
      },
      "execution_count": null,
      "outputs": [
        {
          "output_type": "stream",
          "name": "stdout",
          "text": [
            "120.0\n"
          ]
        }
      ]
    },
    {
      "cell_type": "code",
      "source": [
        "flt1 = 3.14\n",
        "print(int(flt1))"
      ],
      "metadata": {
        "colab": {
          "base_uri": "https://localhost:8080/"
        },
        "id": "hVUBgLBhzopZ",
        "outputId": "0927008f-1b52-4d39-8365-a1b4499d9c14"
      },
      "execution_count": null,
      "outputs": [
        {
          "output_type": "stream",
          "name": "stdout",
          "text": [
            "3\n"
          ]
        }
      ]
    },
    {
      "cell_type": "code",
      "source": [
        "flt1 = 3.94\n",
        "print(int(flt1))"
      ],
      "metadata": {
        "colab": {
          "base_uri": "https://localhost:8080/"
        },
        "id": "eTgI3meAzuKV",
        "outputId": "c8353255-ea45-4e4d-d34b-fe645fa50736"
      },
      "execution_count": null,
      "outputs": [
        {
          "output_type": "stream",
          "name": "stdout",
          "text": [
            "3\n"
          ]
        }
      ]
    },
    {
      "cell_type": "code",
      "source": [
        "int1 = 33\n",
        "print(complex(int1))"
      ],
      "metadata": {
        "colab": {
          "base_uri": "https://localhost:8080/"
        },
        "id": "CV4D3xmQz3cR",
        "outputId": "d08202c4-774d-4813-be0d-05eab08e2468"
      },
      "execution_count": null,
      "outputs": [
        {
          "output_type": "stream",
          "name": "stdout",
          "text": [
            "(33+0j)\n"
          ]
        }
      ]
    },
    {
      "cell_type": "code",
      "source": [
        "int1 = 1\n",
        "print(bool(int1))"
      ],
      "metadata": {
        "colab": {
          "base_uri": "https://localhost:8080/"
        },
        "id": "8xa4lrjm0AEu",
        "outputId": "4976ba1a-75c5-4a11-f289-d0d643105e95"
      },
      "execution_count": null,
      "outputs": [
        {
          "output_type": "stream",
          "name": "stdout",
          "text": [
            "True\n"
          ]
        }
      ]
    },
    {
      "cell_type": "code",
      "source": [
        "int1 = 2\n",
        "print(bool(int1))"
      ],
      "metadata": {
        "colab": {
          "base_uri": "https://localhost:8080/"
        },
        "id": "Vpzg0f3p0Gw9",
        "outputId": "55ac68d2-ecd8-4dc7-fbe8-4ebd22cfd644"
      },
      "execution_count": null,
      "outputs": [
        {
          "output_type": "stream",
          "name": "stdout",
          "text": [
            "True\n"
          ]
        }
      ]
    },
    {
      "cell_type": "code",
      "source": [
        "float1 = 0.1\n",
        "print(bool(float1))"
      ],
      "metadata": {
        "colab": {
          "base_uri": "https://localhost:8080/"
        },
        "id": "SVdgA6wh0KPP",
        "outputId": "9bdf8eb1-4ac1-4c68-8f59-2e8d22f133a0"
      },
      "execution_count": null,
      "outputs": [
        {
          "output_type": "stream",
          "name": "stdout",
          "text": [
            "True\n"
          ]
        }
      ]
    },
    {
      "cell_type": "code",
      "source": [
        "float1 = 0.0\n",
        "print(bool(float1))"
      ],
      "metadata": {
        "colab": {
          "base_uri": "https://localhost:8080/"
        },
        "id": "s2mmuHf00RDH",
        "outputId": "03e23e9d-9279-4603-f9d3-73b8914e78c2"
      },
      "execution_count": null,
      "outputs": [
        {
          "output_type": "stream",
          "name": "stdout",
          "text": [
            "False\n"
          ]
        }
      ]
    },
    {
      "cell_type": "code",
      "source": [
        "int1 = 1947\n",
        "print(str(int1))"
      ],
      "metadata": {
        "colab": {
          "base_uri": "https://localhost:8080/"
        },
        "id": "bWqre6Ob0UpM",
        "outputId": "7547f82f-e39b-45ac-e736-df1928c4e110"
      },
      "execution_count": null,
      "outputs": [
        {
          "output_type": "stream",
          "name": "stdout",
          "text": [
            "1947\n"
          ]
        }
      ]
    },
    {
      "cell_type": "code",
      "source": [
        "str1 = 'python'\n",
        "print(int(str1))\n",
        "# ValueError: invalid literal for int() with base 10: 'python'"
      ],
      "metadata": {
        "colab": {
          "base_uri": "https://localhost:8080/",
          "height": 183
        },
        "id": "seHcyfKT0aNM",
        "outputId": "50745bfd-1a46-4114-ff38-07b33313706d"
      },
      "execution_count": null,
      "outputs": [
        {
          "output_type": "error",
          "ename": "ValueError",
          "evalue": "ignored",
          "traceback": [
            "\u001b[0;31m---------------------------------------------------------------------------\u001b[0m",
            "\u001b[0;31mValueError\u001b[0m                                Traceback (most recent call last)",
            "\u001b[0;32m<ipython-input-37-0669c2e937d4>\u001b[0m in \u001b[0;36m<module>\u001b[0;34m\u001b[0m\n\u001b[1;32m      1\u001b[0m \u001b[0mstr1\u001b[0m \u001b[0;34m=\u001b[0m \u001b[0;34m'python'\u001b[0m\u001b[0;34m\u001b[0m\u001b[0;34m\u001b[0m\u001b[0m\n\u001b[0;32m----> 2\u001b[0;31m \u001b[0mprint\u001b[0m\u001b[0;34m(\u001b[0m\u001b[0mint\u001b[0m\u001b[0;34m(\u001b[0m\u001b[0mstr1\u001b[0m\u001b[0;34m)\u001b[0m\u001b[0;34m)\u001b[0m\u001b[0;34m\u001b[0m\u001b[0;34m\u001b[0m\u001b[0m\n\u001b[0m",
            "\u001b[0;31mValueError\u001b[0m: invalid literal for int() with base 10: 'python'"
          ]
        }
      ]
    },
    {
      "cell_type": "code",
      "source": [
        "str1 = 'python'\n",
        "print(float(str1))\n",
        "# ValueError: could not convert string to float: 'python'"
      ],
      "metadata": {
        "colab": {
          "base_uri": "https://localhost:8080/",
          "height": 183
        },
        "id": "ar2o2OHk0mD9",
        "outputId": "e5ee49fa-7065-4a21-c7a8-fa6be6d6e3aa"
      },
      "execution_count": null,
      "outputs": [
        {
          "output_type": "error",
          "ename": "ValueError",
          "evalue": "ignored",
          "traceback": [
            "\u001b[0;31m---------------------------------------------------------------------------\u001b[0m",
            "\u001b[0;31mValueError\u001b[0m                                Traceback (most recent call last)",
            "\u001b[0;32m<ipython-input-38-79cc0f38b9d9>\u001b[0m in \u001b[0;36m<module>\u001b[0;34m\u001b[0m\n\u001b[1;32m      1\u001b[0m \u001b[0mstr1\u001b[0m \u001b[0;34m=\u001b[0m \u001b[0;34m'python'\u001b[0m\u001b[0;34m\u001b[0m\u001b[0;34m\u001b[0m\u001b[0m\n\u001b[0;32m----> 2\u001b[0;31m \u001b[0mprint\u001b[0m\u001b[0;34m(\u001b[0m\u001b[0mfloat\u001b[0m\u001b[0;34m(\u001b[0m\u001b[0mstr1\u001b[0m\u001b[0;34m)\u001b[0m\u001b[0;34m)\u001b[0m\u001b[0;34m\u001b[0m\u001b[0;34m\u001b[0m\u001b[0m\n\u001b[0m",
            "\u001b[0;31mValueError\u001b[0m: could not convert string to float: 'python'"
          ]
        }
      ]
    },
    {
      "cell_type": "code",
      "source": [
        "str1 = 'python'\n",
        "print(complex(str1))\n",
        "# \n",
        "ValueError: complex() arg is a malformed string"
      ],
      "metadata": {
        "colab": {
          "base_uri": "https://localhost:8080/",
          "height": 183
        },
        "id": "I3Bo7GrE01-T",
        "outputId": "96dfe245-e98b-4127-88b5-0228c9f76dd8"
      },
      "execution_count": null,
      "outputs": [
        {
          "output_type": "error",
          "ename": "ValueError",
          "evalue": "ignored",
          "traceback": [
            "\u001b[0;31m---------------------------------------------------------------------------\u001b[0m",
            "\u001b[0;31mValueError\u001b[0m                                Traceback (most recent call last)",
            "\u001b[0;32m<ipython-input-39-13a953890b7f>\u001b[0m in \u001b[0;36m<module>\u001b[0;34m\u001b[0m\n\u001b[1;32m      1\u001b[0m \u001b[0mstr1\u001b[0m \u001b[0;34m=\u001b[0m \u001b[0;34m'python'\u001b[0m\u001b[0;34m\u001b[0m\u001b[0;34m\u001b[0m\u001b[0m\n\u001b[0;32m----> 2\u001b[0;31m \u001b[0mprint\u001b[0m\u001b[0;34m(\u001b[0m\u001b[0mcomplex\u001b[0m\u001b[0;34m(\u001b[0m\u001b[0mstr1\u001b[0m\u001b[0;34m)\u001b[0m\u001b[0;34m)\u001b[0m\u001b[0;34m\u001b[0m\u001b[0;34m\u001b[0m\u001b[0m\n\u001b[0m",
            "\u001b[0;31mValueError\u001b[0m: complex() arg is a malformed string"
          ]
        }
      ]
    },
    {
      "cell_type": "code",
      "source": [
        "str1='1978'\n",
        "print(int(str1))"
      ],
      "metadata": {
        "colab": {
          "base_uri": "https://localhost:8080/"
        },
        "id": "WAUn0bSh1Al6",
        "outputId": "d36778e3-abe9-46ec-9f70-cb1f037227e7"
      },
      "execution_count": null,
      "outputs": [
        {
          "output_type": "stream",
          "name": "stdout",
          "text": [
            "1978\n"
          ]
        }
      ]
    },
    {
      "cell_type": "code",
      "source": [
        "str1 = '1978'\n",
        "print(float(str1))"
      ],
      "metadata": {
        "colab": {
          "base_uri": "https://localhost:8080/"
        },
        "id": "s84A8R3D1GsS",
        "outputId": "c8c32b95-f261-4ccb-ab55-654ceb44db54"
      },
      "execution_count": null,
      "outputs": [
        {
          "output_type": "stream",
          "name": "stdout",
          "text": [
            "1978.0\n"
          ]
        }
      ]
    },
    {
      "cell_type": "code",
      "source": [
        "str1 = '1978'\n",
        "print(complex(str1))"
      ],
      "metadata": {
        "colab": {
          "base_uri": "https://localhost:8080/"
        },
        "id": "7XLaeQJx1JBp",
        "outputId": "d08599dc-285f-46f7-ca01-cadea78c1d73"
      },
      "execution_count": null,
      "outputs": [
        {
          "output_type": "stream",
          "name": "stdout",
          "text": [
            "(1978+0j)\n"
          ]
        }
      ]
    },
    {
      "cell_type": "markdown",
      "source": [
        "str1 = '1978'\n",
        "print(bool(str1))"
      ],
      "metadata": {
        "id": "aRq5o9_b2690"
      }
    },
    {
      "cell_type": "code",
      "source": [
        "str1 = \"python programming\"\n",
        "print(list(str1))"
      ],
      "metadata": {
        "colab": {
          "base_uri": "https://localhost:8080/"
        },
        "id": "PotL0zY03Dq-",
        "outputId": "a7ccd783-b887-46ab-d40c-97f45d5ebd7f"
      },
      "execution_count": null,
      "outputs": [
        {
          "output_type": "stream",
          "name": "stdout",
          "text": [
            "['p', 'y', 't', 'h', 'o', 'n', ' ', 'p', 'r', 'o', 'g', 'r', 'a', 'm', 'm', 'i', 'n', 'g']\n"
          ]
        }
      ]
    },
    {
      "cell_type": "code",
      "source": [
        "str1 = \"python programming\"\n",
        "print(tuple(str1))"
      ],
      "metadata": {
        "colab": {
          "base_uri": "https://localhost:8080/"
        },
        "id": "JqJim5rQ4GeW",
        "outputId": "84f7bbde-1d00-45cb-ccc9-b8ca7e674a08"
      },
      "execution_count": null,
      "outputs": [
        {
          "output_type": "stream",
          "name": "stdout",
          "text": [
            "('p', 'y', 't', 'h', 'o', 'n', ' ', 'p', 'r', 'o', 'g', 'r', 'a', 'm', 'm', 'i', 'n', 'g')\n"
          ]
        }
      ]
    },
    {
      "cell_type": "code",
      "source": [
        "str1 = \"python programming\"\n",
        "print(set(str1))"
      ],
      "metadata": {
        "colab": {
          "base_uri": "https://localhost:8080/"
        },
        "id": "z2T8txGW4JcC",
        "outputId": "ed01ee23-1ca3-4eef-d402-3849cfa81cfb"
      },
      "execution_count": null,
      "outputs": [
        {
          "output_type": "stream",
          "name": "stdout",
          "text": [
            "{'y', 'p', 'n', ' ', 'r', 'h', 'o', 'a', 'm', 't', 'i', 'g'}\n"
          ]
        }
      ]
    },
    {
      "cell_type": "code",
      "source": [
        "lst1 = [1,2,3,4]\n",
        "print(tuple(lst1))"
      ],
      "metadata": {
        "colab": {
          "base_uri": "https://localhost:8080/"
        },
        "id": "UmzbUxjq4Z4m",
        "outputId": "91855595-3e30-447f-d541-87f36939a073"
      },
      "execution_count": null,
      "outputs": [
        {
          "output_type": "stream",
          "name": "stdout",
          "text": [
            "(1, 2, 3, 4)\n"
          ]
        }
      ]
    },
    {
      "cell_type": "code",
      "source": [
        "int1 = 3.1422\n",
        "print(int(int1))"
      ],
      "metadata": {
        "colab": {
          "base_uri": "https://localhost:8080/"
        },
        "id": "b6AHgCwR6A0T",
        "outputId": "1505b053-91a9-4c3e-fefb-47222252933d"
      },
      "execution_count": null,
      "outputs": [
        {
          "output_type": "stream",
          "name": "stdout",
          "text": [
            "3\n"
          ]
        }
      ]
    }
  ]
}