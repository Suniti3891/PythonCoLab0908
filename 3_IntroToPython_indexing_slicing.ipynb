{
  "nbformat": 4,
  "nbformat_minor": 0,
  "metadata": {
    "colab": {
      "provenance": [],
      "authorship_tag": "ABX9TyO5tGZ8vAfqsYmzGFzTXqu4",
      "include_colab_link": true
    },
    "kernelspec": {
      "name": "python3",
      "display_name": "Python 3"
    },
    "language_info": {
      "name": "python"
    }
  },
  "cells": [
    {
      "cell_type": "markdown",
      "metadata": {
        "id": "view-in-github",
        "colab_type": "text"
      },
      "source": [
        "<a href=\"https://colab.research.google.com/github/Suniti3891/PythonCoLab0908/blob/main/3_IntroToPython_indexing_slicing.ipynb\" target=\"_parent\"><img src=\"https://colab.research.google.com/assets/colab-badge.svg\" alt=\"Open In Colab\"/></a>"
      ]
    },
    {
      "cell_type": "markdown",
      "source": [
        "INDEXING \n",
        "- list\n",
        "- tuple\n",
        "- set : not possible as it shuffles\n",
        "- dictionary : get value with keys, but other way around is not possible, means providing value and getting key."
      ],
      "metadata": {
        "id": "EEu-onO2_y3K"
      }
    },
    {
      "cell_type": "code",
      "execution_count": null,
      "metadata": {
        "colab": {
          "base_uri": "https://localhost:8080/"
        },
        "id": "4htAZAoJq4sV",
        "outputId": "79857c4e-420c-4b50-f38c-e6e76f7fe85c"
      },
      "outputs": [
        {
          "output_type": "stream",
          "name": "stdout",
          "text": [
            "I Love Program\n",
            "I e\n"
          ]
        }
      ],
      "source": [
        "str1 = 'I Love Program'\n",
        "print(str1)\n",
        "print(str1[0], str1[5])"
      ]
    },
    {
      "cell_type": "code",
      "source": [
        "str2 = \"Twinkle twinkle little star\"\n",
        "print(str2)\n",
        "print(str2[0], str2[1], str2[2], str2[3])"
      ],
      "metadata": {
        "colab": {
          "base_uri": "https://localhost:8080/"
        },
        "id": "AcoWH_JSt9WP",
        "outputId": "7a34e245-3528-4a78-9f49-76735dd4acc9"
      },
      "execution_count": null,
      "outputs": [
        {
          "output_type": "stream",
          "name": "stdout",
          "text": [
            "Twinkle twinkle little star\n",
            "T w i n\n"
          ]
        }
      ]
    },
    {
      "cell_type": "code",
      "source": [
        "# length\n",
        "len(str2)"
      ],
      "metadata": {
        "colab": {
          "base_uri": "https://localhost:8080/"
        },
        "id": "35cmKsJdufgo",
        "outputId": "3695636a-d608-4256-bb69-3afc9f73223f"
      },
      "execution_count": null,
      "outputs": [
        {
          "output_type": "execute_result",
          "data": {
            "text/plain": [
              "27"
            ]
          },
          "metadata": {},
          "execution_count": 7
        }
      ]
    },
    {
      "cell_type": "code",
      "source": [
        "list1 = ['apple','banana','cherry','dates', 'eggfruit', 'fig', 'grapes', 'honeyfruit', 'icefruit', 'jackfruit']\n",
        "list1"
      ],
      "metadata": {
        "colab": {
          "base_uri": "https://localhost:8080/"
        },
        "id": "WUra77kLw8Cl",
        "outputId": "3ab1155e-5644-40a0-9690-39be975fda10"
      },
      "execution_count": null,
      "outputs": [
        {
          "output_type": "execute_result",
          "data": {
            "text/plain": [
              "['apple',\n",
              " 'banana',\n",
              " 'cherry',\n",
              " 'dates',\n",
              " 'eggfruit',\n",
              " 'fig',\n",
              " 'grapes',\n",
              " 'honeyfruit',\n",
              " 'icefruit',\n",
              " 'jackfruit']"
            ]
          },
          "metadata": {},
          "execution_count": 10
        }
      ]
    },
    {
      "cell_type": "code",
      "source": [
        "print(list1)\n",
        "print(list1[0])"
      ],
      "metadata": {
        "colab": {
          "base_uri": "https://localhost:8080/"
        },
        "id": "VJdcv3UVxVdW",
        "outputId": "970b47db-567f-4ba5-fa64-1da5377e8ab0"
      },
      "execution_count": null,
      "outputs": [
        {
          "output_type": "stream",
          "name": "stdout",
          "text": [
            "['apple', 'banana', 'cherry', 'dates', 'eggfruit', 'fig', 'grapes', 'honeyfruit', 'icefruit', 'jackfruit']\n",
            "apple\n"
          ]
        }
      ]
    },
    {
      "cell_type": "code",
      "source": [
        "tup1=('apple','banana','cherry','dates', 'eggfruit', 'fig', 'grapes', 'honeyfruit', 'icefruit', 'jackfruit')\n",
        "tup1"
      ],
      "metadata": {
        "colab": {
          "base_uri": "https://localhost:8080/"
        },
        "id": "gJWq_ckexbFx",
        "outputId": "a66b2619-42e4-48f9-e2df-ac85a3c4d1eb"
      },
      "execution_count": null,
      "outputs": [
        {
          "output_type": "execute_result",
          "data": {
            "text/plain": [
              "('apple',\n",
              " 'banana',\n",
              " 'cherry',\n",
              " 'dates',\n",
              " 'eggfruit',\n",
              " 'fig',\n",
              " 'grapes',\n",
              " 'honeyfruit',\n",
              " 'icefruit',\n",
              " 'jackfruit')"
            ]
          },
          "metadata": {},
          "execution_count": 13
        }
      ]
    },
    {
      "cell_type": "code",
      "source": [
        "print(tup1)\n",
        "tup1[0]"
      ],
      "metadata": {
        "colab": {
          "base_uri": "https://localhost:8080/",
          "height": 53
        },
        "id": "7yjzldDjxtkb",
        "outputId": "d44bbe8e-8009-4800-8ccf-b10f57e7525f"
      },
      "execution_count": null,
      "outputs": [
        {
          "output_type": "stream",
          "name": "stdout",
          "text": [
            "('apple', 'banana', 'cherry', 'dates', 'eggfruit', 'fig', 'grapes', 'honeyfruit', 'icefruit', 'jackfruit')\n"
          ]
        },
        {
          "output_type": "execute_result",
          "data": {
            "text/plain": [
              "'apple'"
            ],
            "application/vnd.google.colaboratory.intrinsic+json": {
              "type": "string"
            }
          },
          "metadata": {},
          "execution_count": 15
        }
      ]
    },
    {
      "cell_type": "code",
      "source": [
        "dic1 = {'a': 'apple', 'b': 'ball'}\n",
        "dic1['a']"
      ],
      "metadata": {
        "colab": {
          "base_uri": "https://localhost:8080/",
          "height": 35
        },
        "id": "CxiHDat2_SR_",
        "outputId": "f4ed46a4-413e-41d3-e397-46e1f08847d3"
      },
      "execution_count": null,
      "outputs": [
        {
          "output_type": "execute_result",
          "data": {
            "text/plain": [
              "'apple'"
            ],
            "application/vnd.google.colaboratory.intrinsic+json": {
              "type": "string"
            }
          },
          "metadata": {},
          "execution_count": 16
        }
      ]
    },
    {
      "cell_type": "markdown",
      "source": [
        "SLICING\n",
        "- STRING[2:3] => use \":\" (Range)\n",
        "> element1 => Same\n",
        "\n",
        "> element2 => n - 1 (indexing)"
      ],
      "metadata": {
        "id": "kBH0jL5qAgQy"
      }
    },
    {
      "cell_type": "code",
      "source": [
        "strSlice = 'I love to program'\n",
        "print(strSlice[2:6])\n",
        "print(strSlice[7:9])"
      ],
      "metadata": {
        "colab": {
          "base_uri": "https://localhost:8080/"
        },
        "id": "MhgA3pZVxwtS",
        "outputId": "12ee14c1-e5f2-4dd7-e599-c4e81ccfd85f"
      },
      "execution_count": null,
      "outputs": [
        {
          "output_type": "stream",
          "name": "stdout",
          "text": [
            "love\n",
            "to\n"
          ]
        }
      ]
    },
    {
      "cell_type": "code",
      "source": [
        "listSlice = ['apple','banana','cherry','dates', 'eggfruit', 'fig', 'grapes', 'honeyfruit', 'icefruit', 'jackfruit']\n",
        "print(listSlice[0:4])\n",
        "print(listSlice[6:10])\n",
        "print(listSlice[:])"
      ],
      "metadata": {
        "colab": {
          "base_uri": "https://localhost:8080/"
        },
        "id": "W-sdSEi2DesX",
        "outputId": "68a9338d-274c-4e03-f4c8-d12de5eb5a86"
      },
      "execution_count": null,
      "outputs": [
        {
          "output_type": "stream",
          "name": "stdout",
          "text": [
            "['apple', 'banana', 'cherry', 'dates']\n",
            "['grapes', 'honeyfruit', 'icefruit', 'jackfruit']\n",
            "['apple', 'banana', 'cherry', 'dates', 'eggfruit', 'fig', 'grapes', 'honeyfruit', 'icefruit', 'jackfruit']\n"
          ]
        }
      ]
    },
    {
      "cell_type": "code",
      "source": [
        "# beyond the index also work\n",
        "print(listSlice[15:16])"
      ],
      "metadata": {
        "colab": {
          "base_uri": "https://localhost:8080/"
        },
        "id": "eNXJtlmFHFOS",
        "outputId": "96cff90c-8200-40aa-dc8e-7c53329a658e"
      },
      "execution_count": null,
      "outputs": [
        {
          "output_type": "stream",
          "name": "stdout",
          "text": [
            "[]\n"
          ]
        }
      ]
    },
    {
      "cell_type": "code",
      "source": [
        "print(listSlice[::1])"
      ],
      "metadata": {
        "colab": {
          "base_uri": "https://localhost:8080/"
        },
        "id": "12zmqzA-Iu4O",
        "outputId": "a543c4b8-5c76-47d7-97a7-f6f58581b7c0"
      },
      "execution_count": null,
      "outputs": [
        {
          "output_type": "stream",
          "name": "stdout",
          "text": [
            "['apple', 'banana', 'cherry', 'dates', 'eggfruit', 'fig', 'grapes', 'honeyfruit', 'icefruit', 'jackfruit']\n"
          ]
        }
      ]
    },
    {
      "cell_type": "code",
      "source": [
        "print(listSlice[::2])"
      ],
      "metadata": {
        "colab": {
          "base_uri": "https://localhost:8080/"
        },
        "id": "p66VW9LiI7Lb",
        "outputId": "81c78e8b-40ee-4ce7-cace-0cf2bb0b9658"
      },
      "execution_count": null,
      "outputs": [
        {
          "output_type": "stream",
          "name": "stdout",
          "text": [
            "['apple', 'cherry', 'eggfruit', 'grapes', 'icefruit']\n"
          ]
        }
      ]
    },
    {
      "cell_type": "code",
      "source": [
        "print(listSlice[::3])"
      ],
      "metadata": {
        "colab": {
          "base_uri": "https://localhost:8080/"
        },
        "id": "ZrbcqazDI-Yf",
        "outputId": "b06de77c-1d05-4a0a-84e1-c7cf41ffb000"
      },
      "execution_count": null,
      "outputs": [
        {
          "output_type": "stream",
          "name": "stdout",
          "text": [
            "['apple', 'dates', 'grapes', 'jackfruit']\n"
          ]
        }
      ]
    },
    {
      "cell_type": "code",
      "source": [
        "# JUMPING (n-1)\n",
        "print(listSlice[::6])"
      ],
      "metadata": {
        "colab": {
          "base_uri": "https://localhost:8080/"
        },
        "id": "nOjaghMJJ-eD",
        "outputId": "9ace644d-d0ef-4fe3-c5f0-3929add2df3f"
      },
      "execution_count": null,
      "outputs": [
        {
          "output_type": "stream",
          "name": "stdout",
          "text": [
            "['apple', 'grapes']\n"
          ]
        }
      ]
    },
    {
      "cell_type": "markdown",
      "source": [
        "Rules:\n",
        "1. Default value of 1st element is always 0 (smallest value).\n",
        "2. Default value of 2nd element is always position of last element (largest value).\n",
        "3. Default value of 3rd element is always 1 (left to right).\n",
        "4. Element 2 and 3 follow rule (n - 1).\n"
      ],
      "metadata": {
        "id": "Dz5IX8ssKhyo"
      }
    },
    {
      "cell_type": "code",
      "source": [
        "print(listSlice[::-1])"
      ],
      "metadata": {
        "colab": {
          "base_uri": "https://localhost:8080/"
        },
        "id": "2OCTirV3Z8CL",
        "outputId": "26605e7e-a655-4a96-9e93-4c629a97e6fc"
      },
      "execution_count": null,
      "outputs": [
        {
          "output_type": "stream",
          "name": "stdout",
          "text": [
            "['jackfruit', 'icefruit', 'honeyfruit', 'grapes', 'fig', 'eggfruit', 'dates', 'cherry', 'banana', 'apple']\n"
          ]
        }
      ]
    },
    {
      "cell_type": "markdown",
      "source": [
        "# Negative Indexing\n",
        "1. Default value is 1st element is largest value.\n",
        "2. Default value of 2nd element is smallest one.\n",
        "3. In case of negative indexing value of 3rd element is -1"
      ],
      "metadata": {
        "id": "YS4YvxfCa9tf"
      }
    },
    {
      "cell_type": "code",
      "source": [
        "print(listSlice[-1:-11:-1])\n",
        "print(listSlice[-2:-11:-1])\n",
        "print(listSlice[-3:-11:-1])\n",
        "print(listSlice[-4:-11:-1])"
      ],
      "metadata": {
        "colab": {
          "base_uri": "https://localhost:8080/"
        },
        "id": "DRa5rNKidCu_",
        "outputId": "103182dd-202b-48ed-b85c-25f177c2a188"
      },
      "execution_count": null,
      "outputs": [
        {
          "output_type": "stream",
          "name": "stdout",
          "text": [
            "['jackfruit', 'icefruit', 'honeyfruit', 'grapes', 'fig', 'eggfruit', 'dates', 'cherry', 'banana', 'apple']\n",
            "['icefruit', 'honeyfruit', 'grapes', 'fig', 'eggfruit', 'dates', 'cherry', 'banana', 'apple']\n",
            "['honeyfruit', 'grapes', 'fig', 'eggfruit', 'dates', 'cherry', 'banana', 'apple']\n",
            "['grapes', 'fig', 'eggfruit', 'dates', 'cherry', 'banana', 'apple']\n"
          ]
        }
      ]
    },
    {
      "cell_type": "code",
      "source": [
        "print(listSlice[-1:-11:-2])\n",
        "print(listSlice[-1:-11:-3])\n",
        "print(listSlice[-1:-11:-4])"
      ],
      "metadata": {
        "colab": {
          "base_uri": "https://localhost:8080/"
        },
        "id": "AYAGn1wDdVn4",
        "outputId": "58805679-3a42-4238-9c24-69a0ad21d158"
      },
      "execution_count": null,
      "outputs": [
        {
          "output_type": "stream",
          "name": "stdout",
          "text": [
            "['jackfruit', 'honeyfruit', 'fig', 'dates', 'banana']\n",
            "['jackfruit', 'grapes', 'dates', 'apple']\n",
            "['jackfruit', 'fig', 'banana']\n"
          ]
        }
      ]
    },
    {
      "cell_type": "code",
      "source": [
        "str1 = 'abcdefghij'\n",
        "str1[::]\n",
        "str1[0::]\n",
        "str1[:10:]\n",
        "str1[::1]\n",
        "str1[::-1]\n",
        "str1[-1::-1]\n",
        "str1[:-11:-1]\n"
      ],
      "metadata": {
        "colab": {
          "base_uri": "https://localhost:8080/",
          "height": 35
        },
        "id": "BnEahS5jDKEX",
        "outputId": "9dca2c4a-de11-443a-f66d-f22520103e46"
      },
      "execution_count": 15,
      "outputs": [
        {
          "output_type": "execute_result",
          "data": {
            "text/plain": [
              "'jihgfedcba'"
            ],
            "application/vnd.google.colaboratory.intrinsic+json": {
              "type": "string"
            }
          },
          "metadata": {},
          "execution_count": 15
        }
      ]
    },
    {
      "cell_type": "code",
      "source": [
        "str1[11::-1]"
      ],
      "metadata": {
        "colab": {
          "base_uri": "https://localhost:8080/",
          "height": 35
        },
        "id": "zRn4LZ0AJPln",
        "outputId": "639c5e28-8c2c-49bc-fbb6-1fe147c11cbd"
      },
      "execution_count": 17,
      "outputs": [
        {
          "output_type": "execute_result",
          "data": {
            "text/plain": [
              "'jihgfedcba'"
            ],
            "application/vnd.google.colaboratory.intrinsic+json": {
              "type": "string"
            }
          },
          "metadata": {},
          "execution_count": 17
        }
      ]
    },
    {
      "cell_type": "code",
      "source": [
        "str1[-10::]"
      ],
      "metadata": {
        "colab": {
          "base_uri": "https://localhost:8080/",
          "height": 35
        },
        "outputId": "fde58fec-3fd9-4899-a419-d385357f56df",
        "id": "MsBBkV9mJrvN"
      },
      "execution_count": 18,
      "outputs": [
        {
          "output_type": "execute_result",
          "data": {
            "text/plain": [
              "'abcdefghij'"
            ],
            "application/vnd.google.colaboratory.intrinsic+json": {
              "type": "string"
            }
          },
          "metadata": {},
          "execution_count": 18
        }
      ]
    },
    {
      "cell_type": "code",
      "source": [
        "str1[11::-1]"
      ],
      "metadata": {
        "colab": {
          "base_uri": "https://localhost:8080/",
          "height": 35
        },
        "outputId": "639c5e28-8c2c-49bc-fbb6-1fe147c11cbd",
        "id": "eQlU2FkIJqmj"
      },
      "execution_count": null,
      "outputs": [
        {
          "output_type": "execute_result",
          "data": {
            "text/plain": [
              "'jihgfedcba'"
            ],
            "application/vnd.google.colaboratory.intrinsic+json": {
              "type": "string"
            }
          },
          "metadata": {},
          "execution_count": 17
        }
      ]
    },
    {
      "cell_type": "code",
      "source": [
        "str1[-10:-1:1]"
      ],
      "metadata": {
        "colab": {
          "base_uri": "https://localhost:8080/",
          "height": 35
        },
        "id": "AInTlmKWLIuI",
        "outputId": "b707bbe0-b6aa-4621-e753-8662e702a57d"
      },
      "execution_count": 19,
      "outputs": [
        {
          "output_type": "execute_result",
          "data": {
            "text/plain": [
              "'abcdefghi'"
            ],
            "application/vnd.google.colaboratory.intrinsic+json": {
              "type": "string"
            }
          },
          "metadata": {},
          "execution_count": 19
        }
      ]
    },
    {
      "cell_type": "code",
      "source": [
        "str1[-10:-2:1]"
      ],
      "metadata": {
        "colab": {
          "base_uri": "https://localhost:8080/",
          "height": 35
        },
        "id": "muWcyPUTMAE_",
        "outputId": "7d2981d8-76be-4a40-c058-e6831a986230"
      },
      "execution_count": 21,
      "outputs": [
        {
          "output_type": "execute_result",
          "data": {
            "text/plain": [
              "'abcdefgh'"
            ],
            "application/vnd.google.colaboratory.intrinsic+json": {
              "type": "string"
            }
          },
          "metadata": {},
          "execution_count": 21
        }
      ]
    },
    {
      "cell_type": "markdown",
      "source": [
        "# Rules:\n",
        "## Positive Indexing\n",
        "1. Default value of 1st element is always 0 (smallest value).\n",
        "2. Default value of 2nd element is always position of last element (largest value).\n",
        "3. Default value of 3rd element is always 1 (left to right).\n",
        "4. Element 2 and 3 follow rule (n - 1).\n",
        "\n",
        "## Negative Indexing\n",
        "1. Default value is 1st element is largest value.\n",
        "2. Default value of 2nd element is smallest one.\n",
        "3. In case of negative indexing value of 3rd element is -1"
      ],
      "metadata": {
        "id": "cJtcpO41PNRL"
      }
    },
    {
      "cell_type": "code",
      "source": [
        "\n",
        "str2='constitution'\n",
        "str2[0:12:1]"
      ],
      "metadata": {
        "colab": {
          "base_uri": "https://localhost:8080/",
          "height": 35
        },
        "id": "p8C8211KM3Fl",
        "outputId": "3a420b94-1b6f-42db-d7e2-4b5d32929add"
      },
      "execution_count": 26,
      "outputs": [
        {
          "output_type": "execute_result",
          "data": {
            "text/plain": [
              "'constitution'"
            ],
            "application/vnd.google.colaboratory.intrinsic+json": {
              "type": "string"
            }
          },
          "metadata": {},
          "execution_count": 26
        }
      ]
    },
    {
      "cell_type": "code",
      "source": [
        "str2[-1:-13:-1]"
      ],
      "metadata": {
        "colab": {
          "base_uri": "https://localhost:8080/",
          "height": 35
        },
        "id": "f2tEbQSNQnTw",
        "outputId": "370969ba-115c-49b0-9ae4-b1a7c9075220"
      },
      "execution_count": 27,
      "outputs": [
        {
          "output_type": "execute_result",
          "data": {
            "text/plain": [
              "'noitutitsnoc'"
            ],
            "application/vnd.google.colaboratory.intrinsic+json": {
              "type": "string"
            }
          },
          "metadata": {},
          "execution_count": 27
        }
      ]
    },
    {
      "cell_type": "code",
      "source": [
        "str2[-12::1]"
      ],
      "metadata": {
        "colab": {
          "base_uri": "https://localhost:8080/",
          "height": 35
        },
        "id": "ESLAUzCoTHQ1",
        "outputId": "122eb6ad-aa5a-42a5-9d6c-09c7cd5c0014"
      },
      "execution_count": 44,
      "outputs": [
        {
          "output_type": "execute_result",
          "data": {
            "text/plain": [
              "'constitution'"
            ],
            "application/vnd.google.colaboratory.intrinsic+json": {
              "type": "string"
            }
          },
          "metadata": {},
          "execution_count": 44
        }
      ]
    },
    {
      "cell_type": "code",
      "source": [
        "str2[:-13:-1]"
      ],
      "metadata": {
        "colab": {
          "base_uri": "https://localhost:8080/",
          "height": 35
        },
        "id": "h_vsf1r_TYy-",
        "outputId": "bc2160a9-87f3-4b9a-f120-51ec0a9ae98c"
      },
      "execution_count": 47,
      "outputs": [
        {
          "output_type": "execute_result",
          "data": {
            "text/plain": [
              "'noitutitsnoc'"
            ],
            "application/vnd.google.colaboratory.intrinsic+json": {
              "type": "string"
            }
          },
          "metadata": {},
          "execution_count": 47
        }
      ]
    },
    {
      "cell_type": "code",
      "source": [
        "str2[0:5:1]"
      ],
      "metadata": {
        "colab": {
          "base_uri": "https://localhost:8080/",
          "height": 35
        },
        "id": "g5Pw-v35Q1mj",
        "outputId": "9d0d805d-277e-46e1-913a-73455e91d73f"
      },
      "execution_count": 29,
      "outputs": [
        {
          "output_type": "execute_result",
          "data": {
            "text/plain": [
              "'const'"
            ],
            "application/vnd.google.colaboratory.intrinsic+json": {
              "type": "string"
            }
          },
          "metadata": {},
          "execution_count": 29
        }
      ]
    },
    {
      "cell_type": "code",
      "source": [
        "str2[-8:-13:-1]"
      ],
      "metadata": {
        "colab": {
          "base_uri": "https://localhost:8080/",
          "height": 35
        },
        "id": "vlvv_fOoRFUf",
        "outputId": "c21e03c0-04e7-4789-b37c-5a6ea235dcde"
      },
      "execution_count": 34,
      "outputs": [
        {
          "output_type": "execute_result",
          "data": {
            "text/plain": [
              "'tsnoc'"
            ],
            "application/vnd.google.colaboratory.intrinsic+json": {
              "type": "string"
            }
          },
          "metadata": {},
          "execution_count": 34
        }
      ]
    },
    {
      "cell_type": "code",
      "source": [
        "str2[12:-5:-1]"
      ],
      "metadata": {
        "colab": {
          "base_uri": "https://localhost:8080/",
          "height": 35
        },
        "id": "x5u8sc-NR1LW",
        "outputId": "be0b7169-2069-4cc3-dff8-1bc32b9e70eb"
      },
      "execution_count": 36,
      "outputs": [
        {
          "output_type": "execute_result",
          "data": {
            "text/plain": [
              "'noit'"
            ],
            "application/vnd.google.colaboratory.intrinsic+json": {
              "type": "string"
            }
          },
          "metadata": {},
          "execution_count": 36
        }
      ]
    },
    {
      "cell_type": "code",
      "source": [
        "str2[8:13:1]"
      ],
      "metadata": {
        "colab": {
          "base_uri": "https://localhost:8080/",
          "height": 35
        },
        "id": "FN-jTMDvSI1q",
        "outputId": "422a9736-bb30-41a7-e675-ce93d9196c67"
      },
      "execution_count": 42,
      "outputs": [
        {
          "output_type": "execute_result",
          "data": {
            "text/plain": [
              "'tion'"
            ],
            "application/vnd.google.colaboratory.intrinsic+json": {
              "type": "string"
            }
          },
          "metadata": {},
          "execution_count": 42
        }
      ]
    },
    {
      "cell_type": "code",
      "source": [
        "tup1=('MON','TUE','WED','THUR','FRI')\n",
        "tup1[0:6:1]"
      ],
      "metadata": {
        "colab": {
          "base_uri": "https://localhost:8080/"
        },
        "id": "xeNiAK4ze8sO",
        "outputId": "88d6fe22-9bd7-43e2-eeaa-9c48cafa4a59"
      },
      "execution_count": 51,
      "outputs": [
        {
          "output_type": "execute_result",
          "data": {
            "text/plain": [
              "('MON', 'TUE', 'WED', 'THUR', 'FRI')"
            ]
          },
          "metadata": {},
          "execution_count": 51
        }
      ]
    },
    {
      "cell_type": "code",
      "source": [
        "tup1[-1:-6:-1]"
      ],
      "metadata": {
        "colab": {
          "base_uri": "https://localhost:8080/"
        },
        "id": "q1Uh-0KSfL5q",
        "outputId": "840b3bb3-e7b4-4ecc-b28c-75ff0348c69d"
      },
      "execution_count": 52,
      "outputs": [
        {
          "output_type": "execute_result",
          "data": {
            "text/plain": [
              "('FRI', 'THUR', 'WED', 'TUE', 'MON')"
            ]
          },
          "metadata": {},
          "execution_count": 52
        }
      ]
    },
    {
      "cell_type": "code",
      "source": [
        "tup1[-5::1]"
      ],
      "metadata": {
        "colab": {
          "base_uri": "https://localhost:8080/"
        },
        "id": "d8DlrHvafUng",
        "outputId": "80e5bfa3-78dd-409a-b338-b47b73f82e65"
      },
      "execution_count": 55,
      "outputs": [
        {
          "output_type": "execute_result",
          "data": {
            "text/plain": [
              "('MON', 'TUE', 'WED', 'THUR', 'FRI')"
            ]
          },
          "metadata": {},
          "execution_count": 55
        }
      ]
    },
    {
      "cell_type": "code",
      "source": [
        "tup1[4::-1]"
      ],
      "metadata": {
        "colab": {
          "base_uri": "https://localhost:8080/"
        },
        "id": "C9VAysMCf-q7",
        "outputId": "996dd8f8-cf2a-4a6d-df7f-fa1ad454e4d9"
      },
      "execution_count": 59,
      "outputs": [
        {
          "output_type": "execute_result",
          "data": {
            "text/plain": [
              "('FRI', 'THUR', 'WED', 'TUE', 'MON')"
            ]
          },
          "metadata": {},
          "execution_count": 59
        }
      ]
    },
    {
      "cell_type": "code",
      "source": [
        "lst2 = [[1,2,3,4,5],('a','b','c','d','e'), True, False, 3.14, -2+7j]\n",
        "lst2\n",
        "lst2[0][4]"
      ],
      "metadata": {
        "colab": {
          "base_uri": "https://localhost:8080/"
        },
        "id": "skEYka6UhFTM",
        "outputId": "c3fef9af-788f-4908-b7e8-27535a01f601"
      },
      "execution_count": 62,
      "outputs": [
        {
          "output_type": "execute_result",
          "data": {
            "text/plain": [
              "5"
            ]
          },
          "metadata": {},
          "execution_count": 62
        }
      ]
    },
    {
      "cell_type": "code",
      "source": [
        "# list of set\n",
        "lst2 = [[1,2,3,4,5],{'a','b','c','d','e'}, True, False, 3.14, -2+7j]\n",
        "lst2[2]"
      ],
      "metadata": {
        "colab": {
          "base_uri": "https://localhost:8080/"
        },
        "id": "P7zvE7WOh_HQ",
        "outputId": "e6ddf2a3-5739-4f56-b6c9-56bc041bc46a"
      },
      "execution_count": 66,
      "outputs": [
        {
          "output_type": "execute_result",
          "data": {
            "text/plain": [
              "True"
            ]
          },
          "metadata": {},
          "execution_count": 66
        }
      ]
    },
    {
      "cell_type": "code",
      "source": [
        "lst2 = [[1,2,3,4,5],{1:'a',2:'b',3:'c',4:'d',5:'e'}, True, False, 3.14, -2+7j]\n",
        "lst2[1][1]"
      ],
      "metadata": {
        "colab": {
          "base_uri": "https://localhost:8080/",
          "height": 35
        },
        "id": "dKBYjQFOiWWb",
        "outputId": "004e4b4a-6b1f-4353-b2d5-29098c0352d1"
      },
      "execution_count": 67,
      "outputs": [
        {
          "output_type": "execute_result",
          "data": {
            "text/plain": [
              "'a'"
            ],
            "application/vnd.google.colaboratory.intrinsic+json": {
              "type": "string"
            }
          },
          "metadata": {},
          "execution_count": 67
        }
      ]
    },
    {
      "cell_type": "code",
      "source": [
        "lst2.extend([{6:'x',7:'y'}])\n",
        "print(lst2)"
      ],
      "metadata": {
        "colab": {
          "base_uri": "https://localhost:8080/"
        },
        "id": "hiL_ShB0itfl",
        "outputId": "e931418b-6a74-4c5a-8149-d6571684a44c"
      },
      "execution_count": 73,
      "outputs": [
        {
          "output_type": "stream",
          "name": "stdout",
          "text": [
            "[[1, 2, 3, 4, 5], {1: 'a', 2: 'b', 3: 'c', 4: 'd', 5: 'e'}, True, False, 3.14, (-2+7j), 6, 7, 6, 7, {6: 'x', 7: 'y'}]\n"
          ]
        }
      ]
    },
    {
      "cell_type": "code",
      "source": [
        "dict1 = {\n",
        "    'tiger': \n",
        "    [\n",
        "        (1,2,3,4,5),['MON', 'TUE', 'WED'], True, False\n",
        "    ],\n",
        "    'lion': {'a':'apple', 'b':'ball', 'c':'cat'},\n",
        "    'fox':\n",
        "        {'red': {1:'a', 2:'b', 3:'c'},'blue':('tree', 'water', 'air')}\n",
        "}\n",
        " # find red: 3\n",
        "dict1['fox']['red'][3]   "
      ],
      "metadata": {
        "colab": {
          "base_uri": "https://localhost:8080/",
          "height": 35
        },
        "id": "SKaTqefimKbQ",
        "outputId": "56225af5-bd70-4e15-e7e6-2db6d9692959"
      },
      "execution_count": 74,
      "outputs": [
        {
          "output_type": "execute_result",
          "data": {
            "text/plain": [
              "'c'"
            ],
            "application/vnd.google.colaboratory.intrinsic+json": {
              "type": "string"
            }
          },
          "metadata": {},
          "execution_count": 74
        }
      ]
    },
    {
      "cell_type": "code",
      "source": [
        "# find blue: water\n",
        "dict1['fox']['blue'][1]"
      ],
      "metadata": {
        "colab": {
          "base_uri": "https://localhost:8080/",
          "height": 35
        },
        "id": "b4NdenAvpWnk",
        "outputId": "8af0b5c8-ef6c-431b-9699-f923bc0d798e"
      },
      "execution_count": 75,
      "outputs": [
        {
          "output_type": "execute_result",
          "data": {
            "text/plain": [
              "'water'"
            ],
            "application/vnd.google.colaboratory.intrinsic+json": {
              "type": "string"
            }
          },
          "metadata": {},
          "execution_count": 75
        }
      ]
    },
    {
      "cell_type": "code",
      "source": [
        "# find tiger: Tue\n",
        "dict1['tiger'][1][1]"
      ],
      "metadata": {
        "colab": {
          "base_uri": "https://localhost:8080/",
          "height": 35
        },
        "id": "NXF1ou67pl_C",
        "outputId": "7c9d1684-ec9c-4d01-ab81-c5a115561793"
      },
      "execution_count": 76,
      "outputs": [
        {
          "output_type": "execute_result",
          "data": {
            "text/plain": [
              "'TUE'"
            ],
            "application/vnd.google.colaboratory.intrinsic+json": {
              "type": "string"
            }
          },
          "metadata": {},
          "execution_count": 76
        }
      ]
    },
    {
      "cell_type": "code",
      "source": [
        "listSlice = ['apple','banana','cherry','dates', 'eggfruit', 'fig', 'grapes', 'honeyfruit', 'icefruit', 'jackfruit']"
      ],
      "metadata": {
        "id": "cuJ_GW0rtRAX"
      },
      "execution_count": 80,
      "outputs": []
    },
    {
      "cell_type": "code",
      "source": [
        "tup3 = (listSlice, lst2, tup1, dict1)\n",
        "(tup3)\n",
        "print(listSlice)\n",
        "print(lst2)\n",
        "print(tup1)\n",
        "print(dict1)"
      ],
      "metadata": {
        "colab": {
          "base_uri": "https://localhost:8080/"
        },
        "id": "6AsPhVqsqK42",
        "outputId": "15886970-c27d-4a87-e727-71a84fea1558"
      },
      "execution_count": 87,
      "outputs": [
        {
          "output_type": "stream",
          "name": "stdout",
          "text": [
            "['apple', 'banana', 'cherry', 'dates', 'eggfruit', 'fig', 'grapes', 'honeyfruit', 'icefruit', 'jackfruit']\n",
            "[[1, 2, 3, 4, 5], {1: 'a', 2: 'b', 3: 'c', 4: 'd', 5: 'e'}, True, False, 3.14, (-2+7j), 6, 7, 6, 7, {6: 'x', 7: 'y'}]\n",
            "('MON', 'TUE', 'WED', 'THUR', 'FRI')\n",
            "{'tiger': [(1, 2, 3, 4, 5), ['MON', 'TUE', 'WED'], True, False], 'lion': {'a': 'apple', 'b': 'ball', 'c': 'cat'}, 'fox': {'red': {1: 'a', 2: 'b', 3: 'c'}, 'blue': ('tree', 'water', 'air')}}\n"
          ]
        }
      ]
    },
    {
      "cell_type": "code",
      "source": [
        "#print 'TUE'\n",
        "# print 5: 'e'\n",
        "# print 6: 'x'\n",
        "# print 'tiger': False\n",
        "# print 'fox': 'red': 2:'b'\n",
        "print(tup3[2][1])\n",
        "print(tup3[1][1][5])\n",
        "print(tup3[3]['tiger'][3])\n",
        "print(tup3[3]['fox']['red'][2])"
      ],
      "metadata": {
        "colab": {
          "base_uri": "https://localhost:8080/"
        },
        "id": "6qFDUuJEu6xg",
        "outputId": "69c0651f-1112-403a-bfd4-74f4177e1cf7"
      },
      "execution_count": 92,
      "outputs": [
        {
          "output_type": "stream",
          "name": "stdout",
          "text": [
            "TUE\n",
            "e\n",
            "False\n",
            "b\n"
          ]
        }
      ]
    }
  ]
}