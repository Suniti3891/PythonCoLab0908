{
  "nbformat": 4,
  "nbformat_minor": 0,
  "metadata": {
    "colab": {
      "provenance": [],
      "collapsed_sections": []
    },
    "kernelspec": {
      "name": "python3",
      "display_name": "Python 3"
    },
    "language_info": {
      "name": "python"
    }
  },
  "cells": [
    {
      "cell_type": "code",
      "execution_count": 3,
      "metadata": {
        "colab": {
          "base_uri": "https://localhost:8080/"
        },
        "id": "MAS76-_UAKmI",
        "outputId": "8c3e67a9-a7a1-4232-e3f4-8045c0679101"
      },
      "outputs": [
        {
          "output_type": "stream",
          "name": "stdout",
          "text": [
            "('Mon', 'Tue', 'Wed', 'Thur', 'Fri', 'Sat', 'Sun')\n"
          ]
        }
      ],
      "source": [
        "tup1=('Mon','Tue','Wed','Thur','Fri','Sat','Sun')\n",
        "print (tup1)"
      ]
    },
    {
      "cell_type": "code",
      "source": [
        "tup1=('Mon','Tue','Wed','Thur','Fri','Sat','Sun')\n",
        "print (tup1.count('Mon'))"
      ],
      "metadata": {
        "colab": {
          "base_uri": "https://localhost:8080/"
        },
        "id": "L4rvc6uiCqRz",
        "outputId": "3a6e957c-4940-4fe2-f740-0dd9af58e63d"
      },
      "execution_count": 4,
      "outputs": [
        {
          "output_type": "stream",
          "name": "stdout",
          "text": [
            "1\n"
          ]
        }
      ]
    },
    {
      "cell_type": "code",
      "source": [
        "tup1=('Mon','Tue','Wed','Thur','Fri','Sat','Sun')\n",
        "print (tup1.index('Mon'))"
      ],
      "metadata": {
        "colab": {
          "base_uri": "https://localhost:8080/"
        },
        "id": "V0snTYjlC-ke",
        "outputId": "7107896c-061f-4a7d-9a58-c0e783468bf0"
      },
      "execution_count": 5,
      "outputs": [
        {
          "output_type": "stream",
          "name": "stdout",
          "text": [
            "0\n"
          ]
        }
      ]
    },
    {
      "cell_type": "code",
      "source": [
        "tup1=('Mon','Tue','Wed','Thur','Fri','Sat','Sun', 'Sun')\n",
        "print (tup1)"
      ],
      "metadata": {
        "colab": {
          "base_uri": "https://localhost:8080/"
        },
        "id": "WLXVHtZnETfr",
        "outputId": "4db92bc7-b61c-430f-b2b9-615e37f05dee"
      },
      "execution_count": 6,
      "outputs": [
        {
          "output_type": "stream",
          "name": "stdout",
          "text": [
            "('Mon', 'Tue', 'Wed', 'Thur', 'Fri', 'Sat', 'Sun', 'Sun')\n"
          ]
        }
      ]
    },
    {
      "cell_type": "code",
      "source": [
        "tup1=(1,2,3,5,6)\n",
        "tup2=(7,8,9,10)\n",
        "tup3=(11,12,13,14,15)\n",
        "print(tup1)\n",
        "tup2\n",
        "tup3"
      ],
      "metadata": {
        "colab": {
          "base_uri": "https://localhost:8080/"
        },
        "id": "LRVmn0WGEhq7",
        "outputId": "84080531-bc30-41f0-c8c2-d6b7b08d1f3f"
      },
      "execution_count": 11,
      "outputs": [
        {
          "output_type": "stream",
          "name": "stdout",
          "text": [
            "(1, 2, 3, 5, 6)\n"
          ]
        },
        {
          "output_type": "execute_result",
          "data": {
            "text/plain": [
              "(11, 12, 13, 14, 15)"
            ]
          },
          "metadata": {},
          "execution_count": 11
        }
      ]
    },
    {
      "cell_type": "code",
      "source": [
        "set1 = {0,1,2,3,4,'Mon','Tue','Wed',True,False,1,2,3,4,\"Python\"}\n",
        "set1"
      ],
      "metadata": {
        "colab": {
          "base_uri": "https://localhost:8080/"
        },
        "id": "RL21RsKNFRSN",
        "outputId": "15ab00d9-fe21-4d9a-952e-1438df13a976"
      },
      "execution_count": 13,
      "outputs": [
        {
          "output_type": "execute_result",
          "data": {
            "text/plain": [
              "{0, 1, 2, 3, 4, 'Mon', 'Python', 'Tue', 'Wed'}"
            ]
          },
          "metadata": {},
          "execution_count": 13
        }
      ]
    },
    {
      "cell_type": "markdown",
      "source": [
        "Set can't index\n",
        "only unique value\n",
        "True = 1 therefore, \"True\" is not printed."
      ],
      "metadata": {
        "id": "0zGLcO2FFfyM"
      }
    },
    {
      "cell_type": "code",
      "source": [
        "set1 = {'Python', 'python','pYthon','pyThon', 'PYTHON'}\n",
        "set1"
      ],
      "metadata": {
        "colab": {
          "base_uri": "https://localhost:8080/"
        },
        "id": "zLbaeeJZFwpW",
        "outputId": "4d9a2825-f329-4915-85cf-c16cd44ffd8c"
      },
      "execution_count": 14,
      "outputs": [
        {
          "output_type": "execute_result",
          "data": {
            "text/plain": [
              "{'PYTHON', 'Python', 'pYthon', 'pyThon', 'python'}"
            ]
          },
          "metadata": {},
          "execution_count": 14
        }
      ]
    },
    {
      "cell_type": "markdown",
      "source": [
        "Case Sensitive PYTHON, Python are different."
      ],
      "metadata": {
        "id": "CAsSaYYlGKaN"
      }
    },
    {
      "cell_type": "markdown",
      "source": [
        "Disctionary {} carries key: value"
      ],
      "metadata": {
        "id": "t_tNpq0vLJF5"
      }
    },
    {
      "cell_type": "code",
      "source": [
        "weekdays = {0:'Sun', 1:'Mon',2:'Tue', 3:'Wed',4:'Thur', 5:'Fri', 6:'Sat'}\n",
        "weekdays"
      ],
      "metadata": {
        "colab": {
          "base_uri": "https://localhost:8080/"
        },
        "id": "HUkhSJFeLQbn",
        "outputId": "82bd8296-0f22-4358-d8ff-9cdccdf8c9c3"
      },
      "execution_count": 20,
      "outputs": [
        {
          "output_type": "execute_result",
          "data": {
            "text/plain": [
              "{0: 'Sun', 1: 'Mon', 2: 'Tue', 3: 'Wed', 4: 'Thur', 5: 'Fri', 6: 'Sat'}"
            ]
          },
          "metadata": {},
          "execution_count": 20
        }
      ]
    },
    {
      "cell_type": "code",
      "source": [
        "color = {'G':'Green', 'B':\"Blue\", 'R':'Red'}\n",
        "color"
      ],
      "metadata": {
        "colab": {
          "base_uri": "https://localhost:8080/"
        },
        "id": "0CAAof_5L3g8",
        "outputId": "6b79cdec-21c9-47dc-afae-4b9924e50b69"
      },
      "execution_count": 22,
      "outputs": [
        {
          "output_type": "execute_result",
          "data": {
            "text/plain": [
              "{'G': 'Green', 'B': 'Blue', 'R': 'Red'}"
            ]
          },
          "metadata": {},
          "execution_count": 22
        }
      ]
    },
    {
      "cell_type": "code",
      "source": [
        "mobile = {'D':123, 'M':456, 'S':789}\n",
        "mobile\n",
        "mobile['D']"
      ],
      "metadata": {
        "colab": {
          "base_uri": "https://localhost:8080/"
        },
        "id": "yk5-vfcgMI42",
        "outputId": "8043e8a6-036f-4825-8041-5d0a5f54c62f"
      },
      "execution_count": 26,
      "outputs": [
        {
          "output_type": "execute_result",
          "data": {
            "text/plain": [
              "123"
            ]
          },
          "metadata": {},
          "execution_count": 26
        }
      ]
    },
    {
      "cell_type": "markdown",
      "source": [
        "Create a new dictionary with keys from iterable and values set to value."
      ],
      "metadata": {
        "id": "znwDyZYFNB_7"
      }
    },
    {
      "cell_type": "code",
      "source": [
        "mobile.fromkeys()"
      ],
      "metadata": {
        "id": "867uV7JSNI79"
      },
      "execution_count": null,
      "outputs": []
    },
    {
      "cell_type": "code",
      "source": [
        "x = ('k1', 'k2','k3')\n",
        "y = 17\n",
        "dict1 = mobile.fromkeys(x,y)\n",
        "dict1"
      ],
      "metadata": {
        "colab": {
          "base_uri": "https://localhost:8080/"
        },
        "id": "ADmgEC4hNTKw",
        "outputId": "2bc14097-d071-46a7-a4c1-eb1a48a69271"
      },
      "execution_count": 28,
      "outputs": [
        {
          "output_type": "execute_result",
          "data": {
            "text/plain": [
              "{'k1': 17, 'k2': 17, 'k3': 17}"
            ]
          },
          "metadata": {},
          "execution_count": 28
        }
      ]
    },
    {
      "cell_type": "code",
      "source": [
        "x = ['k1', 'k2','k3']\n",
        "y = [17,18,19]\n",
        "dict1 = mobile.fromkeys(x,y)\n",
        "dict1"
      ],
      "metadata": {
        "colab": {
          "base_uri": "https://localhost:8080/"
        },
        "id": "YgACbhezOWxf",
        "outputId": "a50ba2ce-cf2a-4836-a2b3-94ed9a9a861c"
      },
      "execution_count": 35,
      "outputs": [
        {
          "output_type": "execute_result",
          "data": {
            "text/plain": [
              "{'k1': [17, 18, 19], 'k2': [17, 18, 19], 'k3': [17, 18, 19]}"
            ]
          },
          "metadata": {},
          "execution_count": 35
        }
      ]
    },
    {
      "cell_type": "code",
      "source": [
        "mobile.get('M')"
      ],
      "metadata": {
        "colab": {
          "base_uri": "https://localhost:8080/"
        },
        "id": "9G6CPj2qPBRM",
        "outputId": "f0f3aa73-b4fc-4ba4-befb-91783db44be0"
      },
      "execution_count": 31,
      "outputs": [
        {
          "output_type": "execute_result",
          "data": {
            "text/plain": [
              "456"
            ]
          },
          "metadata": {},
          "execution_count": 31
        }
      ]
    },
    {
      "cell_type": "code",
      "source": [
        "mobile.items()"
      ],
      "metadata": {
        "colab": {
          "base_uri": "https://localhost:8080/"
        },
        "id": "ITjZd8ZUPOae",
        "outputId": "97f0964b-878e-4969-8755-e50d9f045ec9"
      },
      "execution_count": 32,
      "outputs": [
        {
          "output_type": "execute_result",
          "data": {
            "text/plain": [
              "dict_items([('D', 123), ('M', 456), ('S', 789)])"
            ]
          },
          "metadata": {},
          "execution_count": 32
        }
      ]
    },
    {
      "cell_type": "code",
      "source": [
        "mobile.keys()"
      ],
      "metadata": {
        "colab": {
          "base_uri": "https://localhost:8080/"
        },
        "id": "PvwKpalmOltC",
        "outputId": "0a97cdc6-4592-446b-823f-b7c7d686b4a0"
      },
      "execution_count": 33,
      "outputs": [
        {
          "output_type": "execute_result",
          "data": {
            "text/plain": [
              "dict_keys(['D', 'M', 'S'])"
            ]
          },
          "metadata": {},
          "execution_count": 33
        }
      ]
    },
    {
      "cell_type": "code",
      "source": [
        "mobile.values()"
      ],
      "metadata": {
        "colab": {
          "base_uri": "https://localhost:8080/"
        },
        "id": "WdgG2I9sPnd1",
        "outputId": "48c11193-38ed-4a10-f170-80c832ba6f6c"
      },
      "execution_count": 34,
      "outputs": [
        {
          "output_type": "execute_result",
          "data": {
            "text/plain": [
              "dict_values([123, 456, 789])"
            ]
          },
          "metadata": {},
          "execution_count": 34
        }
      ]
    },
    {
      "cell_type": "code",
      "source": [
        "dict2 = {'day':['Mon', 'Tue', 'Wed'] , 'value': [1,2,3]}\n"
      ],
      "metadata": {
        "colab": {
          "base_uri": "https://localhost:8080/"
        },
        "id": "Cbb4Xz1SPrbk",
        "outputId": "501d1f10-098d-40c0-e1e5-1f61537ec4f4"
      },
      "execution_count": 36,
      "outputs": [
        {
          "output_type": "execute_result",
          "data": {
            "text/plain": [
              "{'day': ['Mon', 'Tue', 'Wed'], 'value': [1, 2, 3]}"
            ]
          },
          "metadata": {},
          "execution_count": 36
        }
      ]
    },
    {
      "cell_type": "code",
      "source": [
        "dict2['day']"
      ],
      "metadata": {
        "colab": {
          "base_uri": "https://localhost:8080/"
        },
        "id": "yyJFNUxoRCMX",
        "outputId": "01f8708e-56ef-4956-efbd-1b63a0a4cc11"
      },
      "execution_count": 47,
      "outputs": [
        {
          "output_type": "execute_result",
          "data": {
            "text/plain": [
              "['Mon', 'Tue', 'Wed']"
            ]
          },
          "metadata": {},
          "execution_count": 47
        }
      ]
    },
    {
      "cell_type": "markdown",
      "source": [
        "# assignment\n",
        "\n",
        "1. create list of list, tuple, set, dictionary\n",
        "2. create tuple of list, tuple, set, dictionary\n",
        "3. create set of list, tuple, set, dictionary\n",
        "4. create dictionary of list, tuple, set, dictionary"
      ],
      "metadata": {
        "id": "FpmhJ8kVSfNa"
      }
    },
    {
      "cell_type": "code",
      "source": [],
      "metadata": {
        "id": "_dgZskxuRTKS"
      },
      "execution_count": null,
      "outputs": []
    }
  ]
}