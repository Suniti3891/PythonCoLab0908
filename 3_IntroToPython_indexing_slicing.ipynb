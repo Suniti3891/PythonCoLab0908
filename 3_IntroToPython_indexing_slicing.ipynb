{
  "nbformat": 4,
  "nbformat_minor": 0,
  "metadata": {
    "colab": {
      "provenance": [],
      "authorship_tag": "ABX9TyOYWT/S5wHOXtn8XwIVeToF",
      "include_colab_link": true
    },
    "kernelspec": {
      "name": "python3",
      "display_name": "Python 3"
    },
    "language_info": {
      "name": "python"
    }
  },
  "cells": [
    {
      "cell_type": "markdown",
      "metadata": {
        "id": "view-in-github",
        "colab_type": "text"
      },
      "source": [
        "<a href=\"https://colab.research.google.com/github/Suniti3891/PythonCoLab0908/blob/main/3_IntroToPython_indexing_slicing.ipynb\" target=\"_parent\"><img src=\"https://colab.research.google.com/assets/colab-badge.svg\" alt=\"Open In Colab\"/></a>"
      ]
    },
    {
      "cell_type": "markdown",
      "source": [
        "INDEXING \n",
        "- list\n",
        "- tuple\n",
        "- set : not possible as it shuffles\n",
        "- dictionary : get value with keys, but other way around is not possible, means providing value and getting key."
      ],
      "metadata": {
        "id": "EEu-onO2_y3K"
      }
    },
    {
      "cell_type": "code",
      "execution_count": 3,
      "metadata": {
        "colab": {
          "base_uri": "https://localhost:8080/"
        },
        "id": "4htAZAoJq4sV",
        "outputId": "79857c4e-420c-4b50-f38c-e6e76f7fe85c"
      },
      "outputs": [
        {
          "output_type": "stream",
          "name": "stdout",
          "text": [
            "I Love Program\n",
            "I e\n"
          ]
        }
      ],
      "source": [
        "str1 = 'I Love Program'\n",
        "print(str1)\n",
        "print(str1[0], str1[5])"
      ]
    },
    {
      "cell_type": "code",
      "source": [
        "str2 = \"Twinkle twinkle little star\"\n",
        "print(str2)\n",
        "print(str2[0], str2[1], str2[2], str2[3])"
      ],
      "metadata": {
        "colab": {
          "base_uri": "https://localhost:8080/"
        },
        "id": "AcoWH_JSt9WP",
        "outputId": "7a34e245-3528-4a78-9f49-76735dd4acc9"
      },
      "execution_count": 6,
      "outputs": [
        {
          "output_type": "stream",
          "name": "stdout",
          "text": [
            "Twinkle twinkle little star\n",
            "T w i n\n"
          ]
        }
      ]
    },
    {
      "cell_type": "code",
      "source": [
        "# length\n",
        "len(str2)"
      ],
      "metadata": {
        "colab": {
          "base_uri": "https://localhost:8080/"
        },
        "id": "35cmKsJdufgo",
        "outputId": "3695636a-d608-4256-bb69-3afc9f73223f"
      },
      "execution_count": 7,
      "outputs": [
        {
          "output_type": "execute_result",
          "data": {
            "text/plain": [
              "27"
            ]
          },
          "metadata": {},
          "execution_count": 7
        }
      ]
    },
    {
      "cell_type": "code",
      "source": [
        "list1 = ['apple','banana','cherry','dates', 'eggfruit', 'fig', 'grapes', 'honeyfruit', 'icefruit', 'jackfruit']\n",
        "list1"
      ],
      "metadata": {
        "colab": {
          "base_uri": "https://localhost:8080/"
        },
        "id": "WUra77kLw8Cl",
        "outputId": "3ab1155e-5644-40a0-9690-39be975fda10"
      },
      "execution_count": 10,
      "outputs": [
        {
          "output_type": "execute_result",
          "data": {
            "text/plain": [
              "['apple',\n",
              " 'banana',\n",
              " 'cherry',\n",
              " 'dates',\n",
              " 'eggfruit',\n",
              " 'fig',\n",
              " 'grapes',\n",
              " 'honeyfruit',\n",
              " 'icefruit',\n",
              " 'jackfruit']"
            ]
          },
          "metadata": {},
          "execution_count": 10
        }
      ]
    },
    {
      "cell_type": "code",
      "source": [
        "print(list1)\n",
        "print(list1[0])"
      ],
      "metadata": {
        "colab": {
          "base_uri": "https://localhost:8080/"
        },
        "id": "VJdcv3UVxVdW",
        "outputId": "970b47db-567f-4ba5-fa64-1da5377e8ab0"
      },
      "execution_count": 12,
      "outputs": [
        {
          "output_type": "stream",
          "name": "stdout",
          "text": [
            "['apple', 'banana', 'cherry', 'dates', 'eggfruit', 'fig', 'grapes', 'honeyfruit', 'icefruit', 'jackfruit']\n",
            "apple\n"
          ]
        }
      ]
    },
    {
      "cell_type": "code",
      "source": [
        "tup1=('apple','banana','cherry','dates', 'eggfruit', 'fig', 'grapes', 'honeyfruit', 'icefruit', 'jackfruit')\n",
        "tup1"
      ],
      "metadata": {
        "colab": {
          "base_uri": "https://localhost:8080/"
        },
        "id": "gJWq_ckexbFx",
        "outputId": "a66b2619-42e4-48f9-e2df-ac85a3c4d1eb"
      },
      "execution_count": 13,
      "outputs": [
        {
          "output_type": "execute_result",
          "data": {
            "text/plain": [
              "('apple',\n",
              " 'banana',\n",
              " 'cherry',\n",
              " 'dates',\n",
              " 'eggfruit',\n",
              " 'fig',\n",
              " 'grapes',\n",
              " 'honeyfruit',\n",
              " 'icefruit',\n",
              " 'jackfruit')"
            ]
          },
          "metadata": {},
          "execution_count": 13
        }
      ]
    },
    {
      "cell_type": "code",
      "source": [
        "print(tup1)\n",
        "tup1[0]"
      ],
      "metadata": {
        "colab": {
          "base_uri": "https://localhost:8080/",
          "height": 53
        },
        "id": "7yjzldDjxtkb",
        "outputId": "d44bbe8e-8009-4800-8ccf-b10f57e7525f"
      },
      "execution_count": 15,
      "outputs": [
        {
          "output_type": "stream",
          "name": "stdout",
          "text": [
            "('apple', 'banana', 'cherry', 'dates', 'eggfruit', 'fig', 'grapes', 'honeyfruit', 'icefruit', 'jackfruit')\n"
          ]
        },
        {
          "output_type": "execute_result",
          "data": {
            "text/plain": [
              "'apple'"
            ],
            "application/vnd.google.colaboratory.intrinsic+json": {
              "type": "string"
            }
          },
          "metadata": {},
          "execution_count": 15
        }
      ]
    },
    {
      "cell_type": "code",
      "source": [
        "dic1 = {'a': 'apple', 'b': 'ball'}\n",
        "dic1['a']"
      ],
      "metadata": {
        "colab": {
          "base_uri": "https://localhost:8080/",
          "height": 35
        },
        "id": "CxiHDat2_SR_",
        "outputId": "f4ed46a4-413e-41d3-e397-46e1f08847d3"
      },
      "execution_count": 16,
      "outputs": [
        {
          "output_type": "execute_result",
          "data": {
            "text/plain": [
              "'apple'"
            ],
            "application/vnd.google.colaboratory.intrinsic+json": {
              "type": "string"
            }
          },
          "metadata": {},
          "execution_count": 16
        }
      ]
    },
    {
      "cell_type": "markdown",
      "source": [
        "SLICING\n",
        "- STRING[2:3] => use \":\" (Range)\n",
        "> element1 => Same\n",
        "\n",
        "> element2 => n - 1 (indexing)"
      ],
      "metadata": {
        "id": "kBH0jL5qAgQy"
      }
    },
    {
      "cell_type": "code",
      "source": [
        "strSlice = 'I love to program'\n",
        "print(strSlice[2:6])\n",
        "print(strSlice[7:9])"
      ],
      "metadata": {
        "colab": {
          "base_uri": "https://localhost:8080/"
        },
        "id": "MhgA3pZVxwtS",
        "outputId": "12ee14c1-e5f2-4dd7-e599-c4e81ccfd85f"
      },
      "execution_count": 20,
      "outputs": [
        {
          "output_type": "stream",
          "name": "stdout",
          "text": [
            "love\n",
            "to\n"
          ]
        }
      ]
    },
    {
      "cell_type": "code",
      "source": [
        "listSlice = ['apple','banana','cherry','dates', 'eggfruit', 'fig', 'grapes', 'honeyfruit', 'icefruit', 'jackfruit']\n",
        "print(listSlice[0:4])\n",
        "print(listSlice[6:10])\n",
        "print(listSlice[:])"
      ],
      "metadata": {
        "colab": {
          "base_uri": "https://localhost:8080/"
        },
        "id": "W-sdSEi2DesX",
        "outputId": "68a9338d-274c-4e03-f4c8-d12de5eb5a86"
      },
      "execution_count": 24,
      "outputs": [
        {
          "output_type": "stream",
          "name": "stdout",
          "text": [
            "['apple', 'banana', 'cherry', 'dates']\n",
            "['grapes', 'honeyfruit', 'icefruit', 'jackfruit']\n",
            "['apple', 'banana', 'cherry', 'dates', 'eggfruit', 'fig', 'grapes', 'honeyfruit', 'icefruit', 'jackfruit']\n"
          ]
        }
      ]
    },
    {
      "cell_type": "code",
      "source": [
        "# beyond the index also work\n",
        "print(listSlice[15:16])"
      ],
      "metadata": {
        "colab": {
          "base_uri": "https://localhost:8080/"
        },
        "id": "eNXJtlmFHFOS",
        "outputId": "96cff90c-8200-40aa-dc8e-7c53329a658e"
      },
      "execution_count": 25,
      "outputs": [
        {
          "output_type": "stream",
          "name": "stdout",
          "text": [
            "[]\n"
          ]
        }
      ]
    },
    {
      "cell_type": "code",
      "source": [
        "print(listSlice[::1])"
      ],
      "metadata": {
        "colab": {
          "base_uri": "https://localhost:8080/"
        },
        "id": "12zmqzA-Iu4O",
        "outputId": "a543c4b8-5c76-47d7-97a7-f6f58581b7c0"
      },
      "execution_count": 27,
      "outputs": [
        {
          "output_type": "stream",
          "name": "stdout",
          "text": [
            "['apple', 'banana', 'cherry', 'dates', 'eggfruit', 'fig', 'grapes', 'honeyfruit', 'icefruit', 'jackfruit']\n"
          ]
        }
      ]
    },
    {
      "cell_type": "code",
      "source": [
        "print(listSlice[::2])"
      ],
      "metadata": {
        "colab": {
          "base_uri": "https://localhost:8080/"
        },
        "id": "p66VW9LiI7Lb",
        "outputId": "81c78e8b-40ee-4ce7-cace-0cf2bb0b9658"
      },
      "execution_count": 28,
      "outputs": [
        {
          "output_type": "stream",
          "name": "stdout",
          "text": [
            "['apple', 'cherry', 'eggfruit', 'grapes', 'icefruit']\n"
          ]
        }
      ]
    },
    {
      "cell_type": "code",
      "source": [
        "print(listSlice[::3])"
      ],
      "metadata": {
        "colab": {
          "base_uri": "https://localhost:8080/"
        },
        "id": "ZrbcqazDI-Yf",
        "outputId": "b06de77c-1d05-4a0a-84e1-c7cf41ffb000"
      },
      "execution_count": 29,
      "outputs": [
        {
          "output_type": "stream",
          "name": "stdout",
          "text": [
            "['apple', 'dates', 'grapes', 'jackfruit']\n"
          ]
        }
      ]
    },
    {
      "cell_type": "code",
      "source": [
        "# JUMPING (n-1)\n",
        "print(listSlice[::6])"
      ],
      "metadata": {
        "colab": {
          "base_uri": "https://localhost:8080/"
        },
        "id": "nOjaghMJJ-eD",
        "outputId": "9ace644d-d0ef-4fe3-c5f0-3929add2df3f"
      },
      "execution_count": 30,
      "outputs": [
        {
          "output_type": "stream",
          "name": "stdout",
          "text": [
            "['apple', 'grapes']\n"
          ]
        }
      ]
    },
    {
      "cell_type": "markdown",
      "source": [
        "Rules:\n",
        "1. Default value of 1st element is always 0 (smallest value).\n",
        "2. Default value of 2nd element is always position of last element (largest value).\n",
        "3. Default value of 3rd element is always 1 (left to right).\n",
        "4. Element 2 and 3 follow rule (n - 1).\n"
      ],
      "metadata": {
        "id": "Dz5IX8ssKhyo"
      }
    },
    {
      "cell_type": "code",
      "source": [
        "print(listSlice[::-1])"
      ],
      "metadata": {
        "colab": {
          "base_uri": "https://localhost:8080/"
        },
        "id": "2OCTirV3Z8CL",
        "outputId": "26605e7e-a655-4a96-9e93-4c629a97e6fc"
      },
      "execution_count": 31,
      "outputs": [
        {
          "output_type": "stream",
          "name": "stdout",
          "text": [
            "['jackfruit', 'icefruit', 'honeyfruit', 'grapes', 'fig', 'eggfruit', 'dates', 'cherry', 'banana', 'apple']\n"
          ]
        }
      ]
    },
    {
      "cell_type": "markdown",
      "source": [
        "# Negative Indexing\n",
        "1. Default value is 1st element is largest value.\n",
        "2. Default value of 2nd element is smallest one.\n",
        "3. In case of negative indexing value of 3rd element is -1"
      ],
      "metadata": {
        "id": "YS4YvxfCa9tf"
      }
    },
    {
      "cell_type": "code",
      "source": [
        "print(listSlice[-1:-11:-1])\n",
        "print(listSlice[-2:-11:-1])\n",
        "print(listSlice[-3:-11:-1])\n",
        "print(listSlice[-4:-11:-1])"
      ],
      "metadata": {
        "colab": {
          "base_uri": "https://localhost:8080/"
        },
        "id": "DRa5rNKidCu_",
        "outputId": "103182dd-202b-48ed-b85c-25f177c2a188"
      },
      "execution_count": 33,
      "outputs": [
        {
          "output_type": "stream",
          "name": "stdout",
          "text": [
            "['jackfruit', 'icefruit', 'honeyfruit', 'grapes', 'fig', 'eggfruit', 'dates', 'cherry', 'banana', 'apple']\n",
            "['icefruit', 'honeyfruit', 'grapes', 'fig', 'eggfruit', 'dates', 'cherry', 'banana', 'apple']\n",
            "['honeyfruit', 'grapes', 'fig', 'eggfruit', 'dates', 'cherry', 'banana', 'apple']\n",
            "['grapes', 'fig', 'eggfruit', 'dates', 'cherry', 'banana', 'apple']\n"
          ]
        }
      ]
    },
    {
      "cell_type": "code",
      "source": [
        "print(listSlice[-1:-11:-2])\n",
        "print(listSlice[-1:-11:-3])\n",
        "print(listSlice[-1:-11:-4])"
      ],
      "metadata": {
        "colab": {
          "base_uri": "https://localhost:8080/"
        },
        "id": "AYAGn1wDdVn4",
        "outputId": "58805679-3a42-4238-9c24-69a0ad21d158"
      },
      "execution_count": 37,
      "outputs": [
        {
          "output_type": "stream",
          "name": "stdout",
          "text": [
            "['jackfruit', 'honeyfruit', 'fig', 'dates', 'banana']\n",
            "['jackfruit', 'grapes', 'dates', 'apple']\n",
            "['jackfruit', 'fig', 'banana']\n"
          ]
        }
      ]
    }
  ]
}