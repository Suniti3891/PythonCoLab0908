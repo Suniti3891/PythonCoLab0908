{
  "nbformat": 4,
  "nbformat_minor": 0,
  "metadata": {
    "colab": {
      "provenance": [],
      "collapsed_sections": []
    },
    "kernelspec": {
      "name": "python3",
      "display_name": "Python 3"
    },
    "language_info": {
      "name": "python"
    }
  },
  "cells": [
    {
      "cell_type": "code",
      "execution_count": 4,
      "metadata": {
        "colab": {
          "base_uri": "https://localhost:8080/"
        },
        "id": "xC_Q3Uw-J2fq",
        "outputId": "3e01a131-7142-45df-dd5b-94345f611035"
      },
      "outputs": [
        {
          "output_type": "stream",
          "name": "stdout",
          "text": [
            "I\n",
            " \n",
            "a\n",
            "I   a m   a\n"
          ]
        }
      ],
      "source": [
        "str1 = 'I am a Python Programmer.'\n",
        "str1\n",
        "print(str1[0])\n",
        "print(str1[1])\n",
        "print(str1[2])\n",
        "print(str1[0], str1[1],str1[2], str1[3], str1[4],str1[5])"
      ]
    },
    {
      "cell_type": "code",
      "source": [
        "str2 = \"Twinke twinkle little star\"\n",
        "print(str2[0],str2[1],str2[2],str2[3],str2[4],str2[5],str2[6],str2[7],str2[8],str2[9],str2[10],str2[11],str2[12],str2[13],str2[14],str2[15],str2[16],str2[17],str2[18],str2[19],str2[20],str2[21],str2[22],str2[23],str2[24],str2[25])\n",
        "print(str2)"
      ],
      "metadata": {
        "colab": {
          "base_uri": "https://localhost:8080/"
        },
        "id": "ipl20kruLlCx",
        "outputId": "05c19eec-f13f-4805-f136-2732d8b500c4"
      },
      "execution_count": 11,
      "outputs": [
        {
          "output_type": "stream",
          "name": "stdout",
          "text": [
            "T w i n k e   t w i n k l e   l i t t l e   s t a r\n",
            "Twinke twinkle little star\n"
          ]
        }
      ]
    },
    {
      "cell_type": "code",
      "source": [
        "lst1 = ['apple', 'banana', 'cherry', 'dates', 'eggfruit', 'fig', 'grapes', 'honeydue', 'icefruit', 'jackfruit']\n",
        "print(lst1)\n",
        "print(lst1[0], lst1[1], lst1[2], lst1[3], lst1[4], lst1[5], lst1[6])"
      ],
      "metadata": {
        "colab": {
          "base_uri": "https://localhost:8080/"
        },
        "id": "8Ozk6yvKOVYE",
        "outputId": "2e6525a4-4bab-4874-85b7-19e40f708b94"
      },
      "execution_count": 15,
      "outputs": [
        {
          "output_type": "stream",
          "name": "stdout",
          "text": [
            "['apple', 'banana', 'cherry', 'dates', 'eggfruit', 'fig', 'grapes', 'honeydue', 'icefruit', 'jackfruit']\n",
            "apple banana cherry dates eggfruit fig grapes\n"
          ]
        }
      ]
    },
    {
      "cell_type": "markdown",
      "source": [
        "# Position and Index of list\n",
        "\n",
        "['apple', 'banana', 'cherry', 'dates', 'eggfruit', 'fig', 'grapes', 'honeydue', 'icefruit', 'jackfruit']"
      ],
      "metadata": {
        "id": "W9u8u1V7PPY4"
      }
    },
    {
      "cell_type": "code",
      "source": [
        "tup1 =  ('apple', 'banana', 'cherry', 'dates', 'eggfruit', 'fig', 'grapes', 'honeydue', 'icefruit', 'jackfruit')\n",
        "print(tup1)\n",
        "print(tup1[0], tup1[1], tup1[2], tup1[3], tup1[4], tup1[5], tup1[6], tup1[7])"
      ],
      "metadata": {
        "colab": {
          "base_uri": "https://localhost:8080/"
        },
        "id": "2vgTI-dTPuYR",
        "outputId": "7b988388-1f03-4462-b0cd-4799d903b5dc"
      },
      "execution_count": 17,
      "outputs": [
        {
          "output_type": "stream",
          "name": "stdout",
          "text": [
            "('apple', 'banana', 'cherry', 'dates', 'eggfruit', 'fig', 'grapes', 'honeydue', 'icefruit', 'jackfruit')\n",
            "apple banana cherry dates eggfruit fig grapes honeydue\n"
          ]
        }
      ]
    },
    {
      "cell_type": "code",
      "source": [
        "(tup1[0], tup1[1], tup1[2], tup1[3], tup1[4], tup1[5], tup1[6], tup1[7])"
      ],
      "metadata": {
        "colab": {
          "base_uri": "https://localhost:8080/"
        },
        "id": "UNknVyW3QSnE",
        "outputId": "a97645dc-7e9a-4471-c031-10bcd86d71fa"
      },
      "execution_count": 18,
      "outputs": [
        {
          "output_type": "execute_result",
          "data": {
            "text/plain": [
              "('apple', 'banana', 'cherry', 'dates', 'eggfruit', 'fig', 'grapes', 'honeydue')"
            ]
          },
          "metadata": {},
          "execution_count": 18
        }
      ]
    },
    {
      "cell_type": "code",
      "source": [
        "set1 =  {'apple', 'banana', 'cherry', 'dates', 'eggfruit', 'fig', 'grapes', 'honeydue', 'icefruit', 'jackfruit'}\n",
        "print(set1)\n",
        "print(set1[0])"
      ],
      "metadata": {
        "colab": {
          "base_uri": "https://localhost:8080/",
          "height": 217
        },
        "id": "P24QfvyKQX3w",
        "outputId": "e6597af5-a88c-47f4-c7ea-969cfc75ca58"
      },
      "execution_count": 19,
      "outputs": [
        {
          "output_type": "stream",
          "name": "stdout",
          "text": [
            "{'grapes', 'jackfruit', 'banana', 'honeydue', 'cherry', 'icefruit', 'apple', 'fig', 'dates', 'eggfruit'}\n"
          ]
        },
        {
          "output_type": "error",
          "ename": "TypeError",
          "evalue": "ignored",
          "traceback": [
            "\u001b[0;31m---------------------------------------------------------------------------\u001b[0m",
            "\u001b[0;31mTypeError\u001b[0m                                 Traceback (most recent call last)",
            "\u001b[0;32m<ipython-input-19-16ad57311cfe>\u001b[0m in \u001b[0;36m<module>\u001b[0;34m\u001b[0m\n\u001b[1;32m      1\u001b[0m \u001b[0mset1\u001b[0m \u001b[0;34m=\u001b[0m  \u001b[0;34m{\u001b[0m\u001b[0;34m'apple'\u001b[0m\u001b[0;34m,\u001b[0m \u001b[0;34m'banana'\u001b[0m\u001b[0;34m,\u001b[0m \u001b[0;34m'cherry'\u001b[0m\u001b[0;34m,\u001b[0m \u001b[0;34m'dates'\u001b[0m\u001b[0;34m,\u001b[0m \u001b[0;34m'eggfruit'\u001b[0m\u001b[0;34m,\u001b[0m \u001b[0;34m'fig'\u001b[0m\u001b[0;34m,\u001b[0m \u001b[0;34m'grapes'\u001b[0m\u001b[0;34m,\u001b[0m \u001b[0;34m'honeydue'\u001b[0m\u001b[0;34m,\u001b[0m \u001b[0;34m'icefruit'\u001b[0m\u001b[0;34m,\u001b[0m \u001b[0;34m'jackfruit'\u001b[0m\u001b[0;34m}\u001b[0m\u001b[0;34m\u001b[0m\u001b[0;34m\u001b[0m\u001b[0m\n\u001b[1;32m      2\u001b[0m \u001b[0mprint\u001b[0m\u001b[0;34m(\u001b[0m\u001b[0mset1\u001b[0m\u001b[0;34m)\u001b[0m\u001b[0;34m\u001b[0m\u001b[0;34m\u001b[0m\u001b[0m\n\u001b[0;32m----> 3\u001b[0;31m \u001b[0mprint\u001b[0m\u001b[0;34m(\u001b[0m\u001b[0mset1\u001b[0m\u001b[0;34m[\u001b[0m\u001b[0;36m0\u001b[0m\u001b[0;34m]\u001b[0m\u001b[0;34m)\u001b[0m\u001b[0;34m\u001b[0m\u001b[0;34m\u001b[0m\u001b[0m\n\u001b[0m",
            "\u001b[0;31mTypeError\u001b[0m: 'set' object is not subscriptable"
          ]
        }
      ]
    },
    {
      "cell_type": "markdown",
      "source": [
        "# Set cannot have index because it shuffle."
      ],
      "metadata": {
        "id": "cqdXfyvVQlqO"
      }
    },
    {
      "cell_type": "code",
      "source": [
        "dict1 = {'a':'apple', 'b':'banana', 'c':'cherry', 'd':'dates'}\n",
        "dict1['a']"
      ],
      "metadata": {
        "colab": {
          "base_uri": "https://localhost:8080/",
          "height": 35
        },
        "id": "iXB4A6uUQttB",
        "outputId": "c7df72e3-1d71-46c8-8efa-d6c61aaa8f41"
      },
      "execution_count": 20,
      "outputs": [
        {
          "output_type": "execute_result",
          "data": {
            "text/plain": [
              "'apple'"
            ],
            "application/vnd.google.colaboratory.intrinsic+json": {
              "type": "string"
            }
          },
          "metadata": {},
          "execution_count": 20
        }
      ]
    },
    {
      "cell_type": "markdown",
      "source": [
        "# Dictionary Key will help get values, Keys can be index. Can access values using keys\n",
        "we cannot get keys with the values"
      ],
      "metadata": {
        "id": "DK6q8rXIQ-2N"
      }
    },
    {
      "cell_type": "markdown",
      "source": [
        "# Slicing\n"
      ],
      "metadata": {
        "id": "Gd50wyfKRk8j"
      }
    },
    {
      "cell_type": "code",
      "source": [
        "str1 = 'I am a Python Programmer'"
      ],
      "metadata": {
        "id": "Cz8VkptlRt-q"
      },
      "execution_count": null,
      "outputs": []
    },
    {
      "cell_type": "code",
      "source": [
        "str1[2:4]"
      ],
      "metadata": {
        "colab": {
          "base_uri": "https://localhost:8080/",
          "height": 35
        },
        "id": "ftYn4C8DR34R",
        "outputId": "378147c4-68c0-49b4-b9c4-862e57982f6f"
      },
      "execution_count": 21,
      "outputs": [
        {
          "output_type": "execute_result",
          "data": {
            "text/plain": [
              "'am'"
            ],
            "application/vnd.google.colaboratory.intrinsic+json": {
              "type": "string"
            }
          },
          "metadata": {},
          "execution_count": 21
        }
      ]
    },
    {
      "cell_type": "code",
      "source": [
        "str1[7:13]"
      ],
      "metadata": {
        "colab": {
          "base_uri": "https://localhost:8080/",
          "height": 35
        },
        "id": "3ydaJRdZS6xm",
        "outputId": "4dd8b33e-8dbe-450b-f6cd-9182ad966224"
      },
      "execution_count": 22,
      "outputs": [
        {
          "output_type": "execute_result",
          "data": {
            "text/plain": [
              "'Python'"
            ],
            "application/vnd.google.colaboratory.intrinsic+json": {
              "type": "string"
            }
          },
          "metadata": {},
          "execution_count": 22
        }
      ]
    },
    {
      "cell_type": "code",
      "source": [
        "str1[14:24]"
      ],
      "metadata": {
        "colab": {
          "base_uri": "https://localhost:8080/",
          "height": 35
        },
        "id": "kStWdVeDTjKI",
        "outputId": "0df23446-fd94-4ba6-85d2-8bb9592c429a"
      },
      "execution_count": 23,
      "outputs": [
        {
          "output_type": "execute_result",
          "data": {
            "text/plain": [
              "'Programmer'"
            ],
            "application/vnd.google.colaboratory.intrinsic+json": {
              "type": "string"
            }
          },
          "metadata": {},
          "execution_count": 23
        }
      ]
    },
    {
      "cell_type": "code",
      "source": [
        "lst1 = ['apple', 'banana', 'cherry', 'dates', 'eggfruit', 'fig', 'grapes', 'honeydue', 'icefruit', 'jackfruit']\n",
        "lst1[0:4]"
      ],
      "metadata": {
        "colab": {
          "base_uri": "https://localhost:8080/"
        },
        "id": "bjp6VSY9TtP0",
        "outputId": "717d4ba0-7507-40de-b261-cf479ec7d48c"
      },
      "execution_count": 24,
      "outputs": [
        {
          "output_type": "execute_result",
          "data": {
            "text/plain": [
              "['apple', 'banana', 'cherry', 'dates']"
            ]
          },
          "metadata": {},
          "execution_count": 24
        }
      ]
    },
    {
      "cell_type": "code",
      "source": [
        "lst1[1:6]"
      ],
      "metadata": {
        "colab": {
          "base_uri": "https://localhost:8080/"
        },
        "id": "lVyUGfElT4-u",
        "outputId": "32a66e33-c803-4974-bc3e-1bdba90a92a5"
      },
      "execution_count": 25,
      "outputs": [
        {
          "output_type": "execute_result",
          "data": {
            "text/plain": [
              "['banana', 'cherry', 'dates', 'eggfruit', 'fig']"
            ]
          },
          "metadata": {},
          "execution_count": 25
        }
      ]
    },
    {
      "cell_type": "code",
      "source": [
        "lst1[6:10]"
      ],
      "metadata": {
        "colab": {
          "base_uri": "https://localhost:8080/"
        },
        "id": "nmSG0icCUK6t",
        "outputId": "8ee71a51-9230-4b30-9f2f-debdb8f9f7f9"
      },
      "execution_count": 26,
      "outputs": [
        {
          "output_type": "execute_result",
          "data": {
            "text/plain": [
              "['grapes', 'honeydue', 'icefruit', 'jackfruit']"
            ]
          },
          "metadata": {},
          "execution_count": 26
        }
      ]
    },
    {
      "cell_type": "code",
      "source": [
        "# Print all\n",
        "lst1"
      ],
      "metadata": {
        "colab": {
          "base_uri": "https://localhost:8080/"
        },
        "id": "tHOsy6hiUWB3",
        "outputId": "5cd023ea-a8a4-46f8-8821-ca438d3792f4"
      },
      "execution_count": 28,
      "outputs": [
        {
          "output_type": "execute_result",
          "data": {
            "text/plain": [
              "['apple',\n",
              " 'banana',\n",
              " 'cherry',\n",
              " 'dates',\n",
              " 'eggfruit',\n",
              " 'fig',\n",
              " 'grapes',\n",
              " 'honeydue',\n",
              " 'icefruit',\n",
              " 'jackfruit']"
            ]
          },
          "metadata": {},
          "execution_count": 28
        }
      ]
    },
    {
      "cell_type": "code",
      "source": [
        "lst1[:]"
      ],
      "metadata": {
        "colab": {
          "base_uri": "https://localhost:8080/"
        },
        "id": "6zBQ6BuDUxXd",
        "outputId": "15599a5f-b012-42ed-933f-2484d7b7e2ba"
      },
      "execution_count": 29,
      "outputs": [
        {
          "output_type": "execute_result",
          "data": {
            "text/plain": [
              "['apple',\n",
              " 'banana',\n",
              " 'cherry',\n",
              " 'dates',\n",
              " 'eggfruit',\n",
              " 'fig',\n",
              " 'grapes',\n",
              " 'honeydue',\n",
              " 'icefruit',\n",
              " 'jackfruit']"
            ]
          },
          "metadata": {},
          "execution_count": 29
        }
      ]
    },
    {
      "cell_type": "code",
      "source": [
        "lst1[::]"
      ],
      "metadata": {
        "colab": {
          "base_uri": "https://localhost:8080/"
        },
        "id": "iBZeA8SwVQHj",
        "outputId": "eff520f4-a4e4-4165-a0bc-9332c232dd26"
      },
      "execution_count": 30,
      "outputs": [
        {
          "output_type": "execute_result",
          "data": {
            "text/plain": [
              "['apple',\n",
              " 'banana',\n",
              " 'cherry',\n",
              " 'dates',\n",
              " 'eggfruit',\n",
              " 'fig',\n",
              " 'grapes',\n",
              " 'honeydue',\n",
              " 'icefruit',\n",
              " 'jackfruit']"
            ]
          },
          "metadata": {},
          "execution_count": 30
        }
      ]
    },
    {
      "cell_type": "markdown",
      "source": [
        "# When slicing its actually performing keys and values"
      ],
      "metadata": {
        "id": "Qaxs1n99VcWI"
      }
    },
    {
      "cell_type": "code",
      "source": [
        "print(lst1[::])"
      ],
      "metadata": {
        "colab": {
          "base_uri": "https://localhost:8080/"
        },
        "id": "JTaLFCvNVppY",
        "outputId": "f5dd0f6a-8c02-425c-e81b-c81d987432ae"
      },
      "execution_count": 31,
      "outputs": [
        {
          "output_type": "stream",
          "name": "stdout",
          "text": [
            "['apple', 'banana', 'cherry', 'dates', 'eggfruit', 'fig', 'grapes', 'honeydue', 'icefruit', 'jackfruit']\n"
          ]
        }
      ]
    },
    {
      "cell_type": "markdown",
      "source": [],
      "metadata": {
        "id": "gPK58S-zZxho"
      }
    },
    {
      "cell_type": "code",
      "source": [
        "print(lst1[::1])"
      ],
      "metadata": {
        "colab": {
          "base_uri": "https://localhost:8080/"
        },
        "id": "7grgqLn3WAla",
        "outputId": "4f037800-8457-4487-ed43-7739582d7b11"
      },
      "execution_count": 32,
      "outputs": [
        {
          "output_type": "stream",
          "name": "stdout",
          "text": [
            "['apple', 'banana', 'cherry', 'dates', 'eggfruit', 'fig', 'grapes', 'honeydue', 'icefruit', 'jackfruit']\n"
          ]
        }
      ]
    },
    {
      "cell_type": "code",
      "source": [
        "print(lst1[::2])"
      ],
      "metadata": {
        "colab": {
          "base_uri": "https://localhost:8080/"
        },
        "id": "WR4XVUpJWEjR",
        "outputId": "4aac094d-8fad-41e4-d14f-e38bbb6d39dc"
      },
      "execution_count": 33,
      "outputs": [
        {
          "output_type": "stream",
          "name": "stdout",
          "text": [
            "['apple', 'cherry', 'eggfruit', 'grapes', 'icefruit']\n"
          ]
        }
      ]
    },
    {
      "cell_type": "code",
      "source": [
        "print(lst1[::3])"
      ],
      "metadata": {
        "colab": {
          "base_uri": "https://localhost:8080/"
        },
        "id": "t3frwhlQWOLA",
        "outputId": "bd3b656a-34b3-4f50-cbf7-32c70fda4126"
      },
      "execution_count": 34,
      "outputs": [
        {
          "output_type": "stream",
          "name": "stdout",
          "text": [
            "['apple', 'dates', 'grapes', 'jackfruit']\n"
          ]
        }
      ]
    },
    {
      "cell_type": "code",
      "source": [
        "print(lst1[::6])"
      ],
      "metadata": {
        "colab": {
          "base_uri": "https://localhost:8080/"
        },
        "id": "qAbNRRz5WX-N",
        "outputId": "a5aa472e-158d-4491-fd3a-4e13c5f44e11"
      },
      "execution_count": 36,
      "outputs": [
        {
          "output_type": "stream",
          "name": "stdout",
          "text": [
            "['apple', 'grapes']\n"
          ]
        }
      ]
    },
    {
      "cell_type": "code",
      "source": [
        "print(lst1[::-1])"
      ],
      "metadata": {
        "colab": {
          "base_uri": "https://localhost:8080/"
        },
        "id": "gSdM7fOWXXoe",
        "outputId": "14306f08-4f91-4dfa-b7ac-755e769ad8d4"
      },
      "execution_count": 37,
      "outputs": [
        {
          "output_type": "stream",
          "name": "stdout",
          "text": [
            "['jackfruit', 'icefruit', 'honeydue', 'grapes', 'fig', 'eggfruit', 'dates', 'cherry', 'banana', 'apple']\n"
          ]
        }
      ]
    },
    {
      "cell_type": "markdown",
      "source": [
        "# Rules for Positive \n",
        "1. Default value of 1st element is always 0 (smallest value).\n",
        "2. Default value of 2nd element is always Position of last element (largest value).\n",
        "3. Default value of 3rd element is always 1. Moving from left to right.\n",
        "4. Element 2 and 3 follow rule n-1"
      ],
      "metadata": {
        "id": "n4jqYvCEWqAc"
      }
    },
    {
      "cell_type": "markdown",
      "source": [
        "# Rules for Negative Indexing\n",
        "1. Default value of 1st element is largest \n",
        "2. Default value of 2nd elememnt is smallest one.\n",
        "3. In case of negative indexing value of 3rd element is -1"
      ],
      "metadata": {
        "id": "96UG-oPhZydX"
      }
    },
    {
      "cell_type": "code",
      "source": [
        "print(lst1[-1:-11:-1])\n",
        "print(lst1[-2:-11:-1])\n",
        "print(lst1[-3:-11:-1])\n",
        "print(lst1[-4:-11:-1])\n",
        "print(lst1[-1:-10:-1])\n",
        "print(lst1[-1:-9:-1])\n",
        "print(lst1[-1:-8:-1])\n",
        "print(lst1[-2:-10:-1])\n",
        "print(lst1[-1:-10:-2])"
      ],
      "metadata": {
        "colab": {
          "base_uri": "https://localhost:8080/"
        },
        "id": "z9LBDVdzaAcI",
        "outputId": "b2f2fdd8-42b2-4870-cee7-e21ce8d7afad"
      },
      "execution_count": 42,
      "outputs": [
        {
          "output_type": "stream",
          "name": "stdout",
          "text": [
            "['jackfruit', 'icefruit', 'honeydue', 'grapes', 'fig', 'eggfruit', 'dates', 'cherry', 'banana', 'apple']\n",
            "['icefruit', 'honeydue', 'grapes', 'fig', 'eggfruit', 'dates', 'cherry', 'banana', 'apple']\n",
            "['honeydue', 'grapes', 'fig', 'eggfruit', 'dates', 'cherry', 'banana', 'apple']\n",
            "['grapes', 'fig', 'eggfruit', 'dates', 'cherry', 'banana', 'apple']\n",
            "['jackfruit', 'icefruit', 'honeydue', 'grapes', 'fig', 'eggfruit', 'dates', 'cherry', 'banana']\n",
            "['jackfruit', 'icefruit', 'honeydue', 'grapes', 'fig', 'eggfruit', 'dates', 'cherry']\n",
            "['jackfruit', 'icefruit', 'honeydue', 'grapes', 'fig', 'eggfruit', 'dates']\n",
            "['icefruit', 'honeydue', 'grapes', 'fig', 'eggfruit', 'dates', 'cherry', 'banana']\n",
            "['jackfruit', 'honeydue', 'fig', 'dates', 'banana']\n"
          ]
        }
      ]
    },
    {
      "cell_type": "code",
      "source": [
        "listNum = [0,1,2,3,4,5,6,7,8,9,10,11,12]\n",
        "print(listNum[4:6])\n",
        "print(listNum[-1:-10:-1])\n",
        "print(listNum[-1:-10:-2])\n",
        "print(listNum[-1:-10:-3])"
      ],
      "metadata": {
        "colab": {
          "base_uri": "https://localhost:8080/"
        },
        "id": "Nbdak63hgkyK",
        "outputId": "a9dbd9bc-fc8a-4bd0-85d6-8408081a9654"
      },
      "execution_count": 54,
      "outputs": [
        {
          "output_type": "stream",
          "name": "stdout",
          "text": [
            "[4, 5]\n",
            "[12, 11, 10, 9, 8, 7, 6, 5, 4]\n",
            "[12, 10, 8, 6, 4]\n",
            "[12, 9, 6]\n"
          ]
        }
      ]
    }
  ]
}