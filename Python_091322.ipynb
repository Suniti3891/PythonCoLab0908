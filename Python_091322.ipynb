{
  "nbformat": 4,
  "nbformat_minor": 0,
  "metadata": {
    "colab": {
      "provenance": [],
      "collapsed_sections": []
    },
    "kernelspec": {
      "name": "python3",
      "display_name": "Python 3"
    },
    "language_info": {
      "name": "python"
    }
  },
  "cells": [
    {
      "cell_type": "code",
      "execution_count": null,
      "metadata": {
        "id": "Ra12EwMESmne"
      },
      "outputs": [],
      "source": [
        "str1 = 'abcdefghij'\n",
        "str1[::]\n",
        "str1[0::]\n",
        "str1[:10:]\n",
        "str1[::1]"
      ]
    },
    {
      "cell_type": "markdown",
      "source": [],
      "metadata": {
        "id": "inNE080lUjTZ"
      }
    },
    {
      "cell_type": "markdown",
      "source": [],
      "metadata": {
        "id": "k1vsMskmUzi7"
      }
    },
    {
      "cell_type": "code",
      "source": [
        "str1[::-1]\n",
        "str1[-1::-1]\n",
        "str1[:-11:-1]"
      ],
      "metadata": {
        "colab": {
          "base_uri": "https://localhost:8080/",
          "height": 35
        },
        "id": "ZCdQh5BYUFOr",
        "outputId": "7abf42fb-ee6f-4f21-c41c-14053c894cb2"
      },
      "execution_count": null,
      "outputs": [
        {
          "output_type": "execute_result",
          "data": {
            "text/plain": [
              "'jihgfedcba'"
            ],
            "application/vnd.google.colaboratory.intrinsic+json": {
              "type": "string"
            }
          },
          "metadata": {},
          "execution_count": 7
        }
      ]
    },
    {
      "cell_type": "code",
      "source": [
        "str1[10::-1]\n",
        "str1[-10:-1:1]"
      ],
      "metadata": {
        "colab": {
          "base_uri": "https://localhost:8080/",
          "height": 35
        },
        "id": "bMSGTjD5U71v",
        "outputId": "97d612e5-48f3-4b3b-c462-6b10dff110af"
      },
      "execution_count": null,
      "outputs": [
        {
          "output_type": "execute_result",
          "data": {
            "text/plain": [
              "'abcdefghi'"
            ],
            "application/vnd.google.colaboratory.intrinsic+json": {
              "type": "string"
            }
          },
          "metadata": {},
          "execution_count": 10
        }
      ]
    },
    {
      "cell_type": "code",
      "source": [
        "str2 = 'constitution'\n",
        "str2[::]\n",
        "str2[::1]\n",
        "str2[0::]\n",
        "str2[0:12:1]\n",
        "str2[:12:]"
      ],
      "metadata": {
        "colab": {
          "base_uri": "https://localhost:8080/",
          "height": 35
        },
        "id": "eTqkhbIlV-9A",
        "outputId": "77bc8f66-5f23-40b2-f93b-584bc4b6dbba"
      },
      "execution_count": null,
      "outputs": [
        {
          "output_type": "execute_result",
          "data": {
            "text/plain": [
              "'constitution'"
            ],
            "application/vnd.google.colaboratory.intrinsic+json": {
              "type": "string"
            }
          },
          "metadata": {},
          "execution_count": 16
        }
      ]
    },
    {
      "cell_type": "code",
      "source": [
        "str2[::-1]\n",
        "str2[-1::-1]\n",
        "str2[-1:-13:-1]\n",
        "str2[:-13:-1]\n"
      ],
      "metadata": {
        "colab": {
          "base_uri": "https://localhost:8080/",
          "height": 35
        },
        "id": "b1Of6mp1XFPy",
        "outputId": "a3ea6432-d44c-4724-eda9-b44d538c8c6e"
      },
      "execution_count": null,
      "outputs": [
        {
          "output_type": "execute_result",
          "data": {
            "text/plain": [
              "'noitutitsnoc'"
            ],
            "application/vnd.google.colaboratory.intrinsic+json": {
              "type": "string"
            }
          },
          "metadata": {},
          "execution_count": 40
        }
      ]
    },
    {
      "cell_type": "code",
      "source": [
        "lst1 = ['apple', 'banana', 'cherry', 'dates', 'eggfruit', 'fig', 'grapes', 'honeydue', 'icefruit', 'jackfruit']"
      ],
      "metadata": {
        "id": "SuRfVLAnaCBy"
      },
      "execution_count": null,
      "outputs": []
    },
    {
      "cell_type": "code",
      "source": [
        "tup1=('monday','tuesday','wednesday', 'thurday','friday')\n",
        "tup1[0:5:1]\n",
        "tup1[-1:-6:-1]\n",
        "tup1[-5::1]\n",
        "tup1[4::-1]"
      ],
      "metadata": {
        "colab": {
          "base_uri": "https://localhost:8080/"
        },
        "id": "x70tHc01aIrd",
        "outputId": "f462c729-a8da-4bb5-b0e0-f3c5c435ed40"
      },
      "execution_count": null,
      "outputs": [
        {
          "output_type": "execute_result",
          "data": {
            "text/plain": [
              "('friday', 'thurday', 'wednesday', 'tuesday', 'monday')"
            ]
          },
          "metadata": {},
          "execution_count": 39
        }
      ]
    },
    {
      "cell_type": "code",
      "source": [
        "list2=[[1,2,3,4,5],\n",
        "      ('a','b','c','d'),\n",
        "       {1:2,3:4,5:6,7:8},\n",
        "      True, False,3.14,-2+7j]\n",
        "list2[0::1]\n",
        "list2[1][2]\n",
        "list2[0][1]"
      ],
      "metadata": {
        "colab": {
          "base_uri": "https://localhost:8080/"
        },
        "id": "4SNG1Pezbnan",
        "outputId": "b9479f52-689a-4f41-b726-f181732a61e6"
      },
      "execution_count": null,
      "outputs": [
        {
          "output_type": "execute_result",
          "data": {
            "text/plain": [
              "2"
            ]
          },
          "metadata": {},
          "execution_count": 44
        }
      ]
    },
    {
      "cell_type": "markdown",
      "source": [
        "we cannot get index of set {}\n"
      ],
      "metadata": {
        "id": "SGLlL-Cuc9Zl"
      }
    },
    {
      "cell_type": "code",
      "source": [
        "# accessing dictionary\n",
        "list2=[[1,2,3,4,5],\n",
        "      ('a','b','c','d'),\n",
        "       {1:2,3:4,5:6,7:8},\n",
        "      True, False,3.14,-2+7j]\n",
        "list2[2][5]"
      ],
      "metadata": {
        "colab": {
          "base_uri": "https://localhost:8080/"
        },
        "id": "GSZGqbjtcqYL",
        "outputId": "dfda530b-e406-4359-8bb6-1f751750e024"
      },
      "execution_count": null,
      "outputs": [
        {
          "output_type": "execute_result",
          "data": {
            "text/plain": [
              "6"
            ]
          },
          "metadata": {},
          "execution_count": 47
        }
      ]
    },
    {
      "cell_type": "code",
      "source": [
        "# to extend dictionary first we have to insert in list and inside dictionary [{'a':'aa'}]\n",
        "list2.extend({'a':'b','c':'d','e':'f','g':'h'})\n",
        "list2.insert(4,list2.extend([{'a':'b','c':'d','e':'f','g':'h'}]))\n",
        "list2"
      ],
      "metadata": {
        "colab": {
          "base_uri": "https://localhost:8080/"
        },
        "id": "j9-08mJAduc4",
        "outputId": "f74fe8b8-db52-4eaf-b0b0-bfc2d91c2608"
      },
      "execution_count": null,
      "outputs": [
        {
          "output_type": "execute_result",
          "data": {
            "text/plain": [
              "[[1, 2, 3, 4, 5],\n",
              " ('a', 'b', 'c', 'd'),\n",
              " {1: 2, 3: 4, 5: 6, 7: 8},\n",
              " True,\n",
              " None,\n",
              " None,\n",
              " False,\n",
              " 3.14,\n",
              " (-2+7j),\n",
              " 'a',\n",
              " 'c',\n",
              " 'e',\n",
              " 'g',\n",
              " 'a',\n",
              " 'c',\n",
              " 'e',\n",
              " 'g',\n",
              " 'a',\n",
              " 'c',\n",
              " 'e',\n",
              " 'g',\n",
              " 'a',\n",
              " 'c',\n",
              " 'e',\n",
              " 'g',\n",
              " {'a': 'b', 'c': 'd', 'e': 'f', 'g': 'h'}]"
            ]
          },
          "metadata": {},
          "execution_count": 50
        }
      ]
    },
    {
      "cell_type": "code",
      "source": [
        "list3 =[[1,2,3],\n",
        "        ('a','b','c'),\n",
        "        True, False, 3.14, (-2+7j),\n",
        "        {1:11, 2:22, 3:33, 4:44, 5:55}]\n",
        "print(list3[6][3])"
      ],
      "metadata": {
        "colab": {
          "base_uri": "https://localhost:8080/"
        },
        "id": "bosQ7w_df2FR",
        "outputId": "edf71e64-22d0-4c99-fbd5-0f2cc562efe7"
      },
      "execution_count": null,
      "outputs": [
        {
          "output_type": "stream",
          "name": "stdout",
          "text": [
            "33\n"
          ]
        }
      ]
    },
    {
      "cell_type": "code",
      "source": [
        "list3[6][3]"
      ],
      "metadata": {
        "colab": {
          "base_uri": "https://localhost:8080/"
        },
        "id": "sYPUut00gHZ-",
        "outputId": "23f27211-1afd-4adf-cef5-048260b0ed68"
      },
      "execution_count": null,
      "outputs": [
        {
          "output_type": "execute_result",
          "data": {
            "text/plain": [
              "33"
            ]
          },
          "metadata": {},
          "execution_count": 74
        }
      ]
    },
    {
      "cell_type": "code",
      "source": [
        "dict1 = {\n",
        "   'tiger': [\n",
        "        (1,2,3,4,5), ['mon','tue','wed'], True, False\n",
        "],\n",
        "'lion': {'a':'apple', 'b':'banana','c':'cat'},\n",
        "'fox': {\"red\": {1:'a', 2:'b', 3:'c'}, 'blue':('tree', 'water', 'air', 'fire')}\n",
        "}\n",
        "print(dict1['tiger'])\n",
        "print(dict1['lion'])\n",
        "print(dict1['fox'])\n",
        "print(dict1['tiger'][0])\n",
        "\n",
        "print(dict1['tiger'][0][0])\n",
        "print(dict1['tiger'][0][2])\n",
        "\n",
        "print(dict1['tiger'][1][0])\n",
        "print(dict1['tiger'][1][1])\n",
        "\n",
        "print(dict1['tiger'][1])\n",
        "print(dict1['tiger'][2])\n",
        "print(dict1['tiger'][3])\n",
        "\n",
        "print(dict1['lion']['a'])\n",
        "print(dict1['lion']['b'])\n",
        "\n",
        "print(dict1['fox'])\n",
        "print(dict1['fox']['red'])\n",
        "\n",
        "print(dict1['fox']['red'][1])\n",
        "print(dict1['fox']['red'][2])\n",
        "print(dict1['fox']['red'][3])\n",
        "\n",
        "print(dict1['fox']['blue'])\n",
        "print(dict1['fox']['blue'][0])\n",
        "print(dict1['fox']['blue'][1])\n",
        "print(dict1['fox']['blue'][2])\n",
        "print(dict1['fox']['blue'][3])"
      ],
      "metadata": {
        "colab": {
          "base_uri": "https://localhost:8080/"
        },
        "id": "JyPlZ7xzhDo7",
        "outputId": "b416e842-85b6-40d5-e87e-bf418048354a"
      },
      "execution_count": null,
      "outputs": [
        {
          "output_type": "stream",
          "name": "stdout",
          "text": [
            "[(1, 2, 3, 4, 5), ['mon', 'tue', 'wed'], True, False]\n",
            "{'a': 'apple', 'b': 'banana', 'c': 'cat'}\n",
            "{'red': {1: 'a', 2: 'b', 3: 'c'}, 'blue': ('tree', 'water', 'air', 'fire')}\n",
            "(1, 2, 3, 4, 5)\n",
            "1\n",
            "3\n",
            "mon\n",
            "tue\n",
            "['mon', 'tue', 'wed']\n",
            "True\n",
            "False\n",
            "apple\n",
            "banana\n",
            "{'red': {1: 'a', 2: 'b', 3: 'c'}, 'blue': ('tree', 'water', 'air', 'fire')}\n",
            "{1: 'a', 2: 'b', 3: 'c'}\n",
            "a\n",
            "b\n",
            "c\n",
            "('tree', 'water', 'air', 'fire')\n",
            "tree\n",
            "water\n",
            "air\n",
            "fire\n"
          ]
        }
      ]
    },
    {
      "cell_type": "code",
      "source": [
        "tup3 = (lst1, list2, tup1,  dict1)"
      ],
      "metadata": {
        "id": "XoWxGQ-olme3"
      },
      "execution_count": null,
      "outputs": []
    }
  ]
}