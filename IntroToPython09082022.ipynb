{
  "nbformat": 4,
  "nbformat_minor": 0,
  "metadata": {
    "colab": {
      "provenance": [],
      "collapsed_sections": [],
      "authorship_tag": "ABX9TyPkbh/Llup2HoH0hb9gVzc3",
      "include_colab_link": true
    },
    "kernelspec": {
      "name": "python3",
      "display_name": "Python 3"
    },
    "language_info": {
      "name": "python"
    }
  },
  "cells": [
    {
      "cell_type": "markdown",
      "metadata": {
        "id": "view-in-github",
        "colab_type": "text"
      },
      "source": [
        "<a href=\"https://colab.research.google.com/github/Suniti3891/PythonCoLab0908/blob/main/IntroToPython09082022.ipynb\" target=\"_parent\"><img src=\"https://colab.research.google.com/assets/colab-badge.svg\" alt=\"Open In Colab\"/></a>"
      ]
    },
    {
      "cell_type": "code",
      "source": [],
      "metadata": {
        "id": "Tbr5E1Db6itB"
      },
      "execution_count": null,
      "outputs": []
    },
    {
      "cell_type": "code",
      "execution_count": 1,
      "metadata": {
        "colab": {
          "base_uri": "https://localhost:8080/"
        },
        "id": "-UHTyPesj1n_",
        "outputId": "ef1ff56d-3eed-43c2-c3b9-8addb5d2181b"
      },
      "outputs": [
        {
          "output_type": "stream",
          "name": "stdout",
          "text": [
            "Welcome to Python\n"
          ]
        }
      ],
      "source": [
        "print(\"Welcome to Python\")"
      ]
    },
    {
      "cell_type": "markdown",
      "source": [
        "#Data Type in Python\n",
        "\n",
        "1. standard data type\n",
        "  1. number\n",
        "    1. int (whole)\n",
        "    2. float (fractional value)\n",
        "    3. complex (number with imagenary)\n",
        "  2. string\n",
        "  3. boolean\n"
      ],
      "metadata": {
        "id": "hpVpBsfCp-jy"
      }
    },
    {
      "cell_type": "markdown",
      "source": [],
      "metadata": {
        "id": "WKaQ2eVOr3EH"
      }
    },
    {
      "cell_type": "code",
      "source": [
        "int = 1,2,3,4,5,6,7,-1,-2\n",
        "float = 3.14,2.34,-1.2,-2.3,-4.5\n",
        "complex = 12+3i,3+4"
      ],
      "metadata": {
        "id": "_i57adJ7q_N8"
      },
      "execution_count": null,
      "outputs": []
    },
    {
      "cell_type": "code",
      "source": [
        "a = 10\n",
        "print(a)\n",
        "print(type(a))"
      ],
      "metadata": {
        "colab": {
          "base_uri": "https://localhost:8080/"
        },
        "id": "syLsoljeskqa",
        "outputId": "34d52003-44c4-4c33-9a24-a25a870c58cb"
      },
      "execution_count": 2,
      "outputs": [
        {
          "output_type": "stream",
          "name": "stdout",
          "text": [
            "10\n",
            "<class 'int'>\n"
          ]
        }
      ]
    },
    {
      "cell_type": "code",
      "source": [
        "a = -77\n",
        "print(a)\n",
        "print(type(a))"
      ],
      "metadata": {
        "colab": {
          "base_uri": "https://localhost:8080/"
        },
        "id": "L2RdfOxVsuh5",
        "outputId": "7aabba87-137b-4e3d-de3a-3e7fbafcc3e3"
      },
      "execution_count": 3,
      "outputs": [
        {
          "output_type": "stream",
          "name": "stdout",
          "text": [
            "-77\n",
            "<class 'int'>\n"
          ]
        }
      ]
    },
    {
      "cell_type": "markdown",
      "source": [
        "Variable : holding value ex: a\n",
        "Function \n",
        "Class"
      ],
      "metadata": {
        "id": "jN_VR-M3s6Iq"
      }
    },
    {
      "cell_type": "code",
      "source": [
        "a = 3.14\n",
        "print(a)\n",
        "print(type(a))"
      ],
      "metadata": {
        "colab": {
          "base_uri": "https://localhost:8080/"
        },
        "id": "TttkISkdtGV_",
        "outputId": "35e74ceb-8462-46e5-d09c-168236e9cc98"
      },
      "execution_count": 4,
      "outputs": [
        {
          "output_type": "stream",
          "name": "stdout",
          "text": [
            "3.14\n",
            "<class 'float'>\n"
          ]
        }
      ]
    },
    {
      "cell_type": "code",
      "source": [
        "a = -3.14\n",
        "print(a)\n",
        "print(type(a))"
      ],
      "metadata": {
        "colab": {
          "base_uri": "https://localhost:8080/"
        },
        "id": "gqhulwTCtYkB",
        "outputId": "b1f14b36-c060-4377-886c-bb4d5d780cdd"
      },
      "execution_count": 5,
      "outputs": [
        {
          "output_type": "stream",
          "name": "stdout",
          "text": [
            "-3.14\n",
            "<class 'float'>\n"
          ]
        }
      ]
    },
    {
      "cell_type": "code",
      "source": [
        "a = 3 + 14j\n",
        "print(a)\n",
        "print(type(a))"
      ],
      "metadata": {
        "colab": {
          "base_uri": "https://localhost:8080/"
        },
        "id": "4805f6a7tgVX",
        "outputId": "387635e1-3e0d-4a1f-c0bf-6a7fc089104c"
      },
      "execution_count": 6,
      "outputs": [
        {
          "output_type": "stream",
          "name": "stdout",
          "text": [
            "(3+14j)\n",
            "<class 'complex'>\n"
          ]
        }
      ]
    },
    {
      "cell_type": "code",
      "source": [
        "a = -3-14j\n",
        "print(a)\n",
        "print(type(a))"
      ],
      "metadata": {
        "colab": {
          "base_uri": "https://localhost:8080/"
        },
        "id": "rmDINeDPtoCy",
        "outputId": "37b2a8aa-adaf-4654-8276-013eba4314df"
      },
      "execution_count": 7,
      "outputs": [
        {
          "output_type": "stream",
          "name": "stdout",
          "text": [
            "(-3-14j)\n",
            "<class 'complex'>\n"
          ]
        }
      ]
    },
    {
      "cell_type": "code",
      "source": [
        "a = True\n",
        "print(a)\n",
        "print(type(a))"
      ],
      "metadata": {
        "colab": {
          "base_uri": "https://localhost:8080/"
        },
        "id": "xDXwjND9ttB9",
        "outputId": "2af8346b-9091-4fbe-f2b2-a7de6bfe92da"
      },
      "execution_count": 8,
      "outputs": [
        {
          "output_type": "stream",
          "name": "stdout",
          "text": [
            "True\n",
            "<class 'bool'>\n"
          ]
        }
      ]
    },
    {
      "cell_type": "code",
      "source": [
        "a = False\n",
        "print(a)\n",
        "print(type(a))"
      ],
      "metadata": {
        "colab": {
          "base_uri": "https://localhost:8080/"
        },
        "id": "KpClKjo6t2uV",
        "outputId": "24605022-9d15-42fd-d2d0-9b3efad07e52"
      },
      "execution_count": 10,
      "outputs": [
        {
          "output_type": "stream",
          "name": "stdout",
          "text": [
            "False\n",
            "<class 'bool'>\n"
          ]
        }
      ]
    },
    {
      "cell_type": "code",
      "source": [
        "a = \"Suni\"\n",
        "print(a)\n",
        "print(type(a))"
      ],
      "metadata": {
        "colab": {
          "base_uri": "https://localhost:8080/"
        },
        "id": "QxPJawxduJvf",
        "outputId": "33d8810b-93d1-4ad1-d2cb-dc00f407f7a8"
      },
      "execution_count": 11,
      "outputs": [
        {
          "output_type": "stream",
          "name": "stdout",
          "text": [
            "Suni\n",
            "<class 'str'>\n"
          ]
        }
      ]
    },
    {
      "cell_type": "code",
      "source": [
        "a = 'Sing'\n",
        "print(a)\n",
        "print(type(a))"
      ],
      "metadata": {
        "colab": {
          "base_uri": "https://localhost:8080/"
        },
        "id": "Nw0BSHQGuRh0",
        "outputId": "cf3ec991-89e4-4894-ff2d-17b4462d836d"
      },
      "execution_count": 12,
      "outputs": [
        {
          "output_type": "stream",
          "name": "stdout",
          "text": [
            "Sing\n",
            "<class 'str'>\n"
          ]
        }
      ]
    },
    {
      "cell_type": "markdown",
      "source": [
        "Python is case sensitive language \"True\" not \"true\"\n",
        "String can be single or double"
      ],
      "metadata": {
        "id": "kJnzhoLkt7kx"
      }
    },
    {
      "cell_type": "code",
      "source": [
        "a = '''Sing'''\n",
        "print(a)\n",
        "print(type(a))"
      ],
      "metadata": {
        "colab": {
          "base_uri": "https://localhost:8080/"
        },
        "id": "V_rMZ_z9ufbG",
        "outputId": "83a6ce79-d3d1-4e42-904b-6a80c50e271d"
      },
      "execution_count": 13,
      "outputs": [
        {
          "output_type": "stream",
          "name": "stdout",
          "text": [
            "Sing\n",
            "<class 'str'>\n"
          ]
        }
      ]
    },
    {
      "cell_type": "code",
      "source": [
        "a = \"My name is 'Sing'\"\n",
        "print(a)\n",
        "print(type(a))"
      ],
      "metadata": {
        "colab": {
          "base_uri": "https://localhost:8080/"
        },
        "id": "NrQzwX3XukYc",
        "outputId": "ca8e5f3e-69e1-49d2-cf14-3f3a71a215d7"
      },
      "execution_count": 14,
      "outputs": [
        {
          "output_type": "stream",
          "name": "stdout",
          "text": [
            "My name is 'Sing'\n",
            "<class 'str'>\n"
          ]
        }
      ]
    },
    {
      "cell_type": "code",
      "source": [
        "a = 'My name is \"Sing\", I live in \"GA\"'\n",
        "print(a)\n",
        "print(type(a))"
      ],
      "metadata": {
        "colab": {
          "base_uri": "https://localhost:8080/"
        },
        "id": "psR0fS-CuwHg",
        "outputId": "a64a8673-c988-470b-ac59-30d94d5fc1c5"
      },
      "execution_count": 16,
      "outputs": [
        {
          "output_type": "stream",
          "name": "stdout",
          "text": [
            "My name is \"Sing\", I live in \"GA\"\n",
            "<class 'str'>\n"
          ]
        }
      ]
    },
    {
      "cell_type": "code",
      "source": [
        "a = '9873'\n",
        "print(a)\n",
        "print(type(a))"
      ],
      "metadata": {
        "colab": {
          "base_uri": "https://localhost:8080/"
        },
        "id": "c7RYf6OUvVV4",
        "outputId": "d5fb56e4-0c4a-4293-acf3-61dbf0cb7f00"
      },
      "execution_count": 17,
      "outputs": [
        {
          "output_type": "stream",
          "name": "stdout",
          "text": [
            "9873\n",
            "<class 'str'>\n"
          ]
        }
      ]
    },
    {
      "cell_type": "code",
      "source": [
        "a = [1,2,3,4,5,6,7]\n",
        "print(a)\n",
        "print(type(a))"
      ],
      "metadata": {
        "colab": {
          "base_uri": "https://localhost:8080/"
        },
        "id": "kILk_glvvje9",
        "outputId": "cc7163bf-cef8-4d68-d983-b19ca041960c"
      },
      "execution_count": 18,
      "outputs": [
        {
          "output_type": "stream",
          "name": "stdout",
          "text": [
            "[1, 2, 3, 4, 5, 6, 7]\n",
            "<class 'list'>\n"
          ]
        }
      ]
    },
    {
      "cell_type": "markdown",
      "source": [
        "Data Structure (collection of values) Data Type\n",
        "1. List []: arranged in a proper way . List of anything String, Boolean, number. collection of values. List is mutable. \n",
        "2. Tuple () : value cannot change, values are immutable, values remain same\n",
        "3. Set {} : values are suffle, it cannot have duplicate value. set will automatically remove duplication. Set carries only unique values\n",
        "4. Dictionary\n",
        "\n",
        "Can have list of list and mix of above, but only thing is if it start with { it has to end with }"
      ],
      "metadata": {
        "id": "hdidt1GDvkcH"
      }
    },
    {
      "cell_type": "code",
      "source": [
        "a = (1,2,3,4,5,6,7)\n",
        "print(a)\n",
        "print(type(a))"
      ],
      "metadata": {
        "colab": {
          "base_uri": "https://localhost:8080/"
        },
        "id": "oxRFZ82RwV_C",
        "outputId": "a1d7472c-9afd-4b88-b13a-6f2d03e80480"
      },
      "execution_count": 19,
      "outputs": [
        {
          "output_type": "stream",
          "name": "stdout",
          "text": [
            "(1, 2, 3, 4, 5, 6, 7)\n",
            "<class 'tuple'>\n"
          ]
        }
      ]
    },
    {
      "cell_type": "code",
      "source": [
        "a = {1,2,3,4,5,6,7}\n",
        "print(a)\n",
        "print(type(a))"
      ],
      "metadata": {
        "colab": {
          "base_uri": "https://localhost:8080/"
        },
        "id": "WTKAFbePwa_1",
        "outputId": "3f6d62f2-79d7-49f5-dfa8-291ae6dcfcf1"
      },
      "execution_count": 20,
      "outputs": [
        {
          "output_type": "stream",
          "name": "stdout",
          "text": [
            "{1, 2, 3, 4, 5, 6, 7}\n",
            "<class 'set'>\n"
          ]
        }
      ]
    },
    {
      "cell_type": "code",
      "source": [
        "a = ['a','b','c','d','e','f','g']\n",
        "print(a)\n",
        "print(type(a))"
      ],
      "metadata": {
        "colab": {
          "base_uri": "https://localhost:8080/"
        },
        "id": "6CMQMnzixOQi",
        "outputId": "29421ca2-5c40-4730-d486-ceee1db46ad2"
      },
      "execution_count": 21,
      "outputs": [
        {
          "output_type": "stream",
          "name": "stdout",
          "text": [
            "['a', 'b', 'c', 'd', 'e', 'f', 'g']\n",
            "<class 'list'>\n"
          ]
        }
      ]
    },
    {
      "cell_type": "code",
      "source": [
        "a = ['a','b','c','d','e','f','g', 1, 2, 3, 3.4, 5.6, 2+4j]\n",
        "print(a)\n",
        "print(type(a))"
      ],
      "metadata": {
        "colab": {
          "base_uri": "https://localhost:8080/"
        },
        "id": "95972Yr0xcq-",
        "outputId": "af7d227f-ac32-4600-dcd7-e1baca358332"
      },
      "execution_count": 22,
      "outputs": [
        {
          "output_type": "stream",
          "name": "stdout",
          "text": [
            "['a', 'b', 'c', 'd', 'e', 'f', 'g', 1, 2, 3, 3.4, 5.6, (2+4j)]\n",
            "<class 'list'>\n"
          ]
        }
      ]
    },
    {
      "cell_type": "code",
      "source": [
        "a = ('a','b','c','d','e','f','g', 1, 2, 3, 3.4, 5.6, 2+4j)\n",
        "print(a)\n",
        "print(type(a))"
      ],
      "metadata": {
        "colab": {
          "base_uri": "https://localhost:8080/"
        },
        "id": "o2hcofPqxsBL",
        "outputId": "180f7b6d-3a24-406e-c5df-42607086296d"
      },
      "execution_count": 23,
      "outputs": [
        {
          "output_type": "stream",
          "name": "stdout",
          "text": [
            "('a', 'b', 'c', 'd', 'e', 'f', 'g', 1, 2, 3, 3.4, 5.6, (2+4j))\n",
            "<class 'tuple'>\n"
          ]
        }
      ]
    },
    {
      "cell_type": "code",
      "source": [
        "a = {'a','a','b','c','d','e','f','g', 1, 2, 3, 3.4, 5.6, 2+4j, 'True', 'False'}\n",
        "print(a)\n",
        "print(type(a))"
      ],
      "metadata": {
        "colab": {
          "base_uri": "https://localhost:8080/"
        },
        "id": "-Xhn85Ikylxz",
        "outputId": "2ca66b0a-053a-4f84-80c6-e2ccba90fe20"
      },
      "execution_count": 24,
      "outputs": [
        {
          "output_type": "stream",
          "name": "stdout",
          "text": [
            "{1, 2, 3, 3.4, 5.6, 'False', (2+4j), 'e', 'g', 'a', 'd', 'True', 'c', 'b', 'f'}\n",
            "<class 'set'>\n"
          ]
        }
      ]
    },
    {
      "cell_type": "markdown",
      "source": [
        "Function\n",
        "inbuilt funtion\n",
        "append\n",
        "count()\n",
        "copy()\n",
        "clear\n",
        "extend: add list to list\n",
        "insert: insert in any place (give place number, add value), index -position\n",
        "pop: will pop the last one if not indicate it or it can be "
      ],
      "metadata": {
        "id": "XSBRrX5yy_gi"
      }
    },
    {
      "cell_type": "code",
      "source": [
        "a = ['a','b','c','d','e','f','g', 1, 2, 3, 3.4, 5.6, 2+4j]\n",
        "print(a)\n",
        "print(type(a))"
      ],
      "metadata": {
        "colab": {
          "base_uri": "https://localhost:8080/"
        },
        "id": "OMeROFJ2z3eQ",
        "outputId": "2aa14c73-277e-449b-c3f3-b098e38db5bd"
      },
      "execution_count": 28,
      "outputs": [
        {
          "output_type": "stream",
          "name": "stdout",
          "text": [
            "['a', 'b', 'c', 'd', 'e', 'f', 'g', 1, 2, 3, 3.4, 5.6, (2+4j)]\n",
            "<class 'list'>\n"
          ]
        }
      ]
    },
    {
      "cell_type": "code",
      "source": [
        "a.append('Suni')\n",
        "print(a)\n",
        "print(type(a))"
      ],
      "metadata": {
        "colab": {
          "base_uri": "https://localhost:8080/"
        },
        "id": "7uqKamqfz7Er",
        "outputId": "b701858f-957c-4719-cd77-3185c9f571db"
      },
      "execution_count": 29,
      "outputs": [
        {
          "output_type": "stream",
          "name": "stdout",
          "text": [
            "['a', 'b', 'c', 'd', 'e', 'f', 'g', 1, 2, 3, 3.4, 5.6, (2+4j), 'Suni']\n",
            "<class 'list'>\n"
          ]
        }
      ]
    },
    {
      "cell_type": "code",
      "source": [
        "a = ['a','a','a','b','c','d','e','f','g', 1, 2, 3, 3.4, 5.6, 2+4j]\n",
        "print(a.count('a'))"
      ],
      "metadata": {
        "colab": {
          "base_uri": "https://localhost:8080/"
        },
        "id": "a7Q8qrPh0vRm",
        "outputId": "9e4d97c0-6550-4641-ccf7-f150fd336d7c"
      },
      "execution_count": 30,
      "outputs": [
        {
          "output_type": "stream",
          "name": "stdout",
          "text": [
            "3\n"
          ]
        }
      ]
    },
    {
      "cell_type": "code",
      "source": [
        "a = ['a','b','c','d','e','f','g', 1, 2, 3, 3.4, 5.6, 2+4j]\n",
        "a_cp = a.copy()\n",
        "print(a)\n",
        "print(a_cp)"
      ],
      "metadata": {
        "colab": {
          "base_uri": "https://localhost:8080/"
        },
        "id": "RGV7pFxH1GpF",
        "outputId": "31df4691-49cd-421e-a932-7495b8ce4e91"
      },
      "execution_count": 32,
      "outputs": [
        {
          "output_type": "stream",
          "name": "stdout",
          "text": [
            "['a', 'b', 'c', 'd', 'e', 'f', 'g', 1, 2, 3, 3.4, 5.6, (2+4j)]\n",
            "['a', 'b', 'c', 'd', 'e', 'f', 'g', 1, 2, 3, 3.4, 5.6, (2+4j)]\n"
          ]
        }
      ]
    },
    {
      "cell_type": "code",
      "source": [
        "a.extend(['ram', 'shyam', 'gopal'])\n",
        "print(a)"
      ],
      "metadata": {
        "colab": {
          "base_uri": "https://localhost:8080/"
        },
        "id": "2uG3n5gc2Tt7",
        "outputId": "7dba7b57-89e6-498b-ed2d-6157f15b7bb6"
      },
      "execution_count": 33,
      "outputs": [
        {
          "output_type": "stream",
          "name": "stdout",
          "text": [
            "['a', 'b', 'c', 'd', 'e', 'f', 'g', 1, 2, 3, 3.4, 5.6, (2+4j), 'ram', 'shyam', 'gopal']\n"
          ]
        }
      ]
    },
    {
      "cell_type": "code",
      "source": [
        "a.insert(3,'apple')\n",
        "print(a)"
      ],
      "metadata": {
        "colab": {
          "base_uri": "https://localhost:8080/"
        },
        "id": "dL0Fzg7i204s",
        "outputId": "d5541ae1-9347-4af4-cb29-41a633227538"
      },
      "execution_count": 34,
      "outputs": [
        {
          "output_type": "stream",
          "name": "stdout",
          "text": [
            "['a', 'b', 'c', 'apple', 'd', 'e', 'f', 'g', 1, 2, 3, 3.4, 5.6, (2+4j), 'ram', 'shyam', 'gopal']\n"
          ]
        }
      ]
    },
    {
      "cell_type": "code",
      "source": [
        "a.pop()\n",
        "print(a)"
      ],
      "metadata": {
        "colab": {
          "base_uri": "https://localhost:8080/"
        },
        "id": "cfSBEqgC3e38",
        "outputId": "0470dbfb-d21a-465d-82d6-36bbfa818f6f"
      },
      "execution_count": 35,
      "outputs": [
        {
          "output_type": "stream",
          "name": "stdout",
          "text": [
            "['a', 'b', 'c', 'apple', 'd', 'e', 'f', 'g', 1, 2, 3, 3.4, 5.6, (2+4j), 'ram', 'shyam']\n"
          ]
        }
      ]
    }
  ]
}